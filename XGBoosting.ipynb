{
 "cells": [
  {
   "cell_type": "code",
   "execution_count": 8,
   "metadata": {},
   "outputs": [],
   "source": [
    "import numpy as np\n",
    "import pandas as pd\n",
    "import seaborn as sns\n",
    "import matplotlib.pyplot as plt"
   ]
  },
  {
   "cell_type": "code",
   "execution_count": 9,
   "metadata": {},
   "outputs": [],
   "source": [
    "df=pd.read_csv('Data/Real-Data/Real_Combine.csv')"
   ]
  },
  {
   "cell_type": "markdown",
   "metadata": {},
   "source": [
    "# Feture Engineering:Removing null values"
   ]
  },
  {
   "cell_type": "code",
   "execution_count": 10,
   "metadata": {},
   "outputs": [
    {
     "data": {
      "text/plain": [
       "<matplotlib.axes._subplots.AxesSubplot at 0x22acc207c50>"
      ]
     },
     "execution_count": 10,
     "metadata": {},
     "output_type": "execute_result"
    },
    {
     "data": {
      "image/png": "[encoded data removed]",
      "text/plain": [
       "<Figure size 432x288 with 2 Axes>"
      ]
     },
     "metadata": {
      "needs_background": "light"
     },
     "output_type": "display_data"
    }
   ],
   "source": [
    "#Checkfor null values using heatmap\n",
    "sns.heatmap(df.isnull(),cmap='viridis',yticklabels=False,cbar=True)"
   ]
  },
  {
   "cell_type": "markdown",
   "metadata": {},
   "source": [
    "Interpretation:Can see a null value at the bottom right on PM2.5"
   ]
  },
  {
   "cell_type": "code",
   "execution_count": 13,
   "metadata": {},
   "outputs": [],
   "source": [
    "#Removing null values \n",
    "df=df.dropna()"
   ]
  },
  {
   "cell_type": "code",
   "execution_count": 14,
   "metadata": {},
   "outputs": [
    {
     "data": {
      "text/plain": [
       "<matplotlib.axes._subplots.AxesSubplot at 0x22acc5989b0>"
      ]
     },
     "execution_count": 14,
     "metadata": {},
     "output_type": "execute_result"
    },
    {
     "data": {
      "image/png": "[encoded data removed]",
      "text/plain": [
       "<Figure size 432x288 with 2 Axes>"
      ]
     },
     "metadata": {
      "needs_background": "light"
     },
     "output_type": "display_data"
    }
   ],
   "source": [
    "#Checkfor null values using heatmap after removing them\n",
    "sns.heatmap(df.isnull(),cmap='viridis',yticklabels=False,cbar=True)"
   ]
  },
  {
   "cell_type": "markdown",
   "metadata": {},
   "source": [
    "Interpretation:Can see that the data is clean"
   ]
  },
  {
   "cell_type": "markdown",
   "metadata": {},
   "source": [
    "# Define Independent and Dependent features"
   ]
  },
  {
   "cell_type": "code",
   "execution_count": 15,
   "metadata": {},
   "outputs": [],
   "source": [
    "X=df.iloc[:,:-1]\n",
    "y=df.iloc[:,-1]"
   ]
  },
  {
   "cell_type": "markdown",
   "metadata": {},
   "source": [
    "# Train test split"
   ]
  },
  {
   "cell_type": "code",
   "execution_count": 16,
   "metadata": {},
   "outputs": [],
   "source": [
    "from sklearn.model_selection import train_test_split\n",
    "X_train,X_test,y_train,y_test=train_test_split(X,y,test_size=0.3,random_state=0)"
   ]
  },
  {
   "cell_type": "code",
   "execution_count": 17,
   "metadata": {},
   "outputs": [
    {
     "data": {
      "text/plain": [
       "(632, 8)"
      ]
     },
     "execution_count": 17,
     "metadata": {},
     "output_type": "execute_result"
    }
   ],
   "source": [
    "X_train.shape"
   ]
  },
  {
   "cell_type": "code",
   "execution_count": 18,
   "metadata": {},
   "outputs": [
    {
     "data": {
      "text/plain": [
       "(632,)"
      ]
     },
     "execution_count": 18,
     "metadata": {},
     "output_type": "execute_result"
    }
   ],
   "source": [
    "y_train.shape"
   ]
  },
  {
   "cell_type": "code",
   "execution_count": 19,
   "metadata": {},
   "outputs": [
    {
     "data": {
      "text/plain": [
       "(272, 8)"
      ]
     },
     "execution_count": 19,
     "metadata": {},
     "output_type": "execute_result"
    }
   ],
   "source": [
    "X_test.shape"
   ]
  },
  {
   "cell_type": "code",
   "execution_count": 20,
   "metadata": {},
   "outputs": [
    {
     "data": {
      "text/plain": [
       "(272,)"
      ]
     },
     "execution_count": 20,
     "metadata": {},
     "output_type": "execute_result"
    }
   ],
   "source": [
    "y_test.shape"
   ]
  },
  {
   "cell_type": "markdown",
   "metadata": {},
   "source": [
    "# Model :XGBoost"
   ]
  },
  {
   "cell_type": "code",
   "execution_count": 21,
   "metadata": {},
   "outputs": [],
   "source": [
    "import xgboost as xgb"
   ]
  },
  {
   "cell_type": "code",
   "execution_count": 22,
   "metadata": {},
   "outputs": [],
   "source": [
    "xgbregressor=xgb.XGBRegressor()"
   ]
  },
  {
   "cell_type": "code",
   "execution_count": 23,
   "metadata": {},
   "outputs": [
    {
     "name": "stdout",
     "output_type": "stream",
     "text": [
      "[10:36:50] WARNING: src/objective/regression_obj.cu:152: reg:linear is now deprecated in favor of reg:squarederror.\n"
     ]
    },
    {
     "name": "stderr",
     "output_type": "stream",
     "text": [
      "C:\\Users\\K T KUMAR\\Anaconda33\\lib\\site-packages\\xgboost\\core.py:587: FutureWarning: Series.base is deprecated and will be removed in a future version\n",
      "  if getattr(data, 'base', None) is not None and \\\n"
     ]
    },
    {
     "data": {
      "text/plain": [
       "XGBRegressor(base_score=0.5, booster='gbtree', colsample_bylevel=1,\n",
       "             colsample_bynode=1, colsample_bytree=1, gamma=0,\n",
       "             importance_type='gain', learning_rate=0.1, max_delta_step=0,\n",
       "             max_depth=3, min_child_weight=1, missing=None, n_estimators=100,\n",
       "             n_jobs=1, nthread=None, objective='reg:linear', random_state=0,\n",
       "             reg_alpha=0, reg_lambda=1, scale_pos_weight=1, seed=None,\n",
       "             silent=None, subsample=1, verbosity=1)"
      ]
     },
     "execution_count": 23,
     "metadata": {},
     "output_type": "execute_result"
    }
   ],
   "source": [
    "xgbregressor.fit(X_train,y_train)"
   ]
  },
  {
   "cell_type": "code",
   "execution_count": 26,
   "metadata": {},
   "outputs": [
    {
     "name": "stdout",
     "output_type": "stream",
     "text": [
      "Coeeficient of determination R^2 value on train data 0.81046267886849\n"
     ]
    }
   ],
   "source": [
    "print('Coeeficient of determination R^2 value on train data {}'.format(xgbregressor.score(X_train,y_train)))"
   ]
  },
  {
   "cell_type": "code",
   "execution_count": 27,
   "metadata": {},
   "outputs": [
    {
     "name": "stdout",
     "output_type": "stream",
     "text": [
      "Coeeficient of determination R^2 value on test data 0.5149429844254286\n"
     ]
    }
   ],
   "source": [
    "print('Coeeficient of determination R^2 value on test data {}'.format(xgbregressor.score(X_test,y_test)))"
   ]
  },
  {
   "cell_type": "markdown",
   "metadata": {},
   "source": [
    "# Interpretation:\n",
    "From the above R^2 values we can clearly see that we have a overfitting issue\n",
    "\n",
    "We have high variance between the R^2 value of train and test data.\n",
    "\n",
    "Lets evaluate the model before solving the overfitting issue"
   ]
  },
  {
   "cell_type": "code",
   "execution_count": 28,
   "metadata": {},
   "outputs": [
    {
     "data": {
      "text/plain": [
       "<matplotlib.axes._subplots.AxesSubplot at 0x22acc68f860>"
      ]
     },
     "execution_count": 28,
     "metadata": {},
     "output_type": "execute_result"
    },
    {
     "data": {
      "image/png": "[encoded data removed]",
      "text/plain": [
       "<Figure size 432x288 with 1 Axes>"
      ]
     },
     "metadata": {
      "needs_background": "light"
     },
     "output_type": "display_data"
    }
   ],
   "source": [
    "prediction=xgbregressor.predict(X_test)\n",
    "sns.distplot(y_test-prediction)"
   ]
  },
  {
   "cell_type": "markdown",
   "metadata": {},
   "source": [
    "# Interpretation:\n",
    "In the distance plot,we can see a very close normally distributed curve which indicated the model is good"
   ]
  },
  {
   "cell_type": "markdown",
   "metadata": {},
   "source": [
    "# Hyperparameter tuning"
   ]
  },
  {
   "cell_type": "code",
   "execution_count": 30,
   "metadata": {},
   "outputs": [],
   "source": [
    "from sklearn.model_selection import RandomizedSearchCV"
   ]
  },
  {
   "cell_type": "code",
   "execution_count": 32,
   "metadata": {},
   "outputs": [],
   "source": [
    "#number of trees in random forest\n",
    "n_estimators=[int(x) for x in np.linspace(start =100 ,stop=1200,num=12)]\n",
    "\n",
    "#various learning rate parameters\n",
    "learning_rate=['0.04','0.2','0.3','0.5','0.6','0.7']\n",
    "\n",
    "\n",
    "#maximum number of levels in tree\n",
    "max_depth=[int(x) for x in np.linspace(5,30,num=6)]\n",
    "\n",
    "\n",
    "#Subsample parameters values\n",
    "subsample=[0.8,0.7,0.5]\n",
    "\n",
    "\n",
    "#Minimum chiled weight parameters\n",
    "min_child_parameters=[3,4,5,6,7]"
   ]
  },
  {
   "cell_type": "code",
   "execution_count": 33,
   "metadata": {},
   "outputs": [
    {
     "name": "stdout",
     "output_type": "stream",
     "text": [
      "{'n_estimators': [100, 200, 300, 400, 500, 600, 700, 800, 900, 1000, 1100, 1200], 'learning_rate': ['0.04', '0.2', '0.3', '0.5', '0.6', '0.7'], 'max_depth': [5, 10, 15, 20, 25, 30], 'subsample': [0.8, 0.7, 0.5], 'min_child_parameters': [3, 4, 5, 6, 7]}\n"
     ]
    }
   ],
   "source": [
    "\n",
    "\n",
    "random_grid={\n",
    "            'n_estimators':n_estimators,\n",
    "             'learning_rate':learning_rate,\n",
    "             'max_depth':max_depth,\n",
    "             'subsample':subsample,\n",
    "             'min_child_parameters':min_child_parameters\n",
    "             \n",
    "             }\n",
    "\n",
    "print(random_grid)\n",
    "\n",
    "\n"
   ]
  },
  {
   "cell_type": "code",
   "execution_count": 34,
   "metadata": {},
   "outputs": [],
   "source": [
    "#creting the base model\n",
    "regressor=xgb.XGBRegressor()"
   ]
  },
  {
   "cell_type": "code",
   "execution_count": 36,
   "metadata": {},
   "outputs": [],
   "source": [
    "\n",
    "#Random search of parameters using  fold validation\n",
    "#Random serach using 100 diffrenet combinations\n",
    "random_regressor=RandomizedSearchCV(estimator=regressor,param_distributions=random_grid,\n",
    "                                    scoring='neg_mean_squared_error',n_iter=100,cv=4,verbose=2,random_state=42, n_jobs = 1)"
   ]
  },
  {
   "cell_type": "code",
   "execution_count": 37,
   "metadata": {},
   "outputs": [
    {
     "name": "stdout",
     "output_type": "stream",
     "text": [
      "Fitting 4 folds for each of 100 candidates, totalling 400 fits\n",
      "[CV] subsample=0.8, n_estimators=1100, min_child_parameters=6, max_depth=10, learning_rate=0.5 \n",
      "[11:48:13] WARNING: src/objective/regression_obj.cu:152: reg:linear is now deprecated in favor of reg:squarederror.\n"
     ]
    },
    {
     "name": "stderr",
     "output_type": "stream",
     "text": [
      "[Parallel(n_jobs=1)]: Using backend SequentialBackend with 1 concurrent workers.\n",
      "C:\\Users\\K T KUMAR\\Anaconda33\\lib\\site-packages\\xgboost\\core.py:587: FutureWarning: Series.base is deprecated and will be removed in a future version\n",
      "  if getattr(data, 'base', None) is not None and \\\n"
     ]
    },
    {
     "name": "stdout",
     "output_type": "stream",
     "text": [
      "[CV]  subsample=0.8, n_estimators=1100, min_child_parameters=6, max_depth=10, learning_rate=0.5, total=   0.6s\n",
      "[CV] subsample=0.8, n_estimators=1100, min_child_parameters=6, max_depth=10, learning_rate=0.5 \n",
      "[11:48:14] WARNING: src/objective/regression_obj.cu:152: reg:linear is now deprecated in favor of reg:squarederror.\n"
     ]
    },
    {
     "name": "stderr",
     "output_type": "stream",
     "text": [
      "[Parallel(n_jobs=1)]: Done   1 out of   1 | elapsed:    0.5s remaining:    0.0s\n",
      "C:\\Users\\K T KUMAR\\Anaconda33\\lib\\site-packages\\xgboost\\core.py:587: FutureWarning: Series.base is deprecated and will be removed in a future version\n",
      "  if getattr(data, 'base', None) is not None and \\\n"
     ]
    },
    {
     "name": "stdout",
     "output_type": "stream",
     "text": [
      "[CV]  subsample=0.8, n_estimators=1100, min_child_parameters=6, max_depth=10, learning_rate=0.5, total=   0.6s\n",
      "[CV] subsample=0.8, n_estimators=1100, min_child_parameters=6, max_depth=10, learning_rate=0.5 \n",
      "[11:48:15] WARNING: src/objective/regression_obj.cu:152: reg:linear is now deprecated in favor of reg:squarederror.\n"
     ]
    },
    {
     "name": "stderr",
     "output_type": "stream",
     "text": [
      "C:\\Users\\K T KUMAR\\Anaconda33\\lib\\site-packages\\xgboost\\core.py:587: FutureWarning: Series.base is deprecated and will be removed in a future version\n",
      "  if getattr(data, 'base', None) is not None and \\\n"
     ]
    },
    {
     "name": "stdout",
     "output_type": "stream",
     "text": [
      "[CV]  subsample=0.8, n_estimators=1100, min_child_parameters=6, max_depth=10, learning_rate=0.5, total=   0.6s\n",
      "[CV] subsample=0.8, n_estimators=1100, min_child_parameters=6, max_depth=10, learning_rate=0.5 \n",
      "[11:48:15] WARNING: src/objective/regression_obj.cu:152: reg:linear is now deprecated in favor of reg:squarederror.\n"
     ]
    },
    {
     "name": "stderr",
     "output_type": "stream",
     "text": [
      "C:\\Users\\K T KUMAR\\Anaconda33\\lib\\site-packages\\xgboost\\core.py:587: FutureWarning: Series.base is deprecated and will be removed in a future version\n",
      "  if getattr(data, 'base', None) is not None and \\\n"
     ]
    },
    {
     "name": "stdout",
     "output_type": "stream",
     "text": [
      "[CV]  subsample=0.8, n_estimators=1100, min_child_parameters=6, max_depth=10, learning_rate=0.5, total=   0.6s\n",
      "[CV] subsample=0.8, n_estimators=600, min_child_parameters=6, max_depth=20, learning_rate=0.5 \n",
      "[11:48:16] WARNING: src/objective/regression_obj.cu:152: reg:linear is now deprecated in favor of reg:squarederror.\n"
     ]
    },
    {
     "name": "stderr",
     "output_type": "stream",
     "text": [
      "C:\\Users\\K T KUMAR\\Anaconda33\\lib\\site-packages\\xgboost\\core.py:587: FutureWarning: Series.base is deprecated and will be removed in a future version\n",
      "  if getattr(data, 'base', None) is not None and \\\n"
     ]
    },
    {
     "name": "stdout",
     "output_type": "stream",
     "text": [
      "[CV]  subsample=0.8, n_estimators=600, min_child_parameters=6, max_depth=20, learning_rate=0.5, total=   0.5s\n",
      "[CV] subsample=0.8, n_estimators=600, min_child_parameters=6, max_depth=20, learning_rate=0.5 \n",
      "[11:48:16] WARNING: src/objective/regression_obj.cu:152: reg:linear is now deprecated in favor of reg:squarederror.\n"
     ]
    },
    {
     "name": "stderr",
     "output_type": "stream",
     "text": [
      "C:\\Users\\K T KUMAR\\Anaconda33\\lib\\site-packages\\xgboost\\core.py:587: FutureWarning: Series.base is deprecated and will be removed in a future version\n",
      "  if getattr(data, 'base', None) is not None and \\\n"
     ]
    },
    {
     "name": "stdout",
     "output_type": "stream",
     "text": [
      "[CV]  subsample=0.8, n_estimators=600, min_child_parameters=6, max_depth=20, learning_rate=0.5, total=   0.5s\n",
      "[CV] subsample=0.8, n_estimators=600, min_child_parameters=6, max_depth=20, learning_rate=0.5 \n",
      "[11:48:17] WARNING: src/objective/regression_obj.cu:152: reg:linear is now deprecated in favor of reg:squarederror.\n"
     ]
    },
    {
     "name": "stderr",
     "output_type": "stream",
     "text": [
      "C:\\Users\\K T KUMAR\\Anaconda33\\lib\\site-packages\\xgboost\\core.py:587: FutureWarning: Series.base is deprecated and will be removed in a future version\n",
      "  if getattr(data, 'base', None) is not None and \\\n"
     ]
    },
    {
     "name": "stdout",
     "output_type": "stream",
     "text": [
      "[CV]  subsample=0.8, n_estimators=600, min_child_parameters=6, max_depth=20, learning_rate=0.5, total=   0.6s\n",
      "[CV] subsample=0.8, n_estimators=600, min_child_parameters=6, max_depth=20, learning_rate=0.5 \n",
      "[11:48:18] WARNING: src/objective/regression_obj.cu:152: reg:linear is now deprecated in favor of reg:squarederror.\n"
     ]
    },
    {
     "name": "stderr",
     "output_type": "stream",
     "text": [
      "C:\\Users\\K T KUMAR\\Anaconda33\\lib\\site-packages\\xgboost\\core.py:587: FutureWarning: Series.base is deprecated and will be removed in a future version\n",
      "  if getattr(data, 'base', None) is not None and \\\n"
     ]
    },
    {
     "name": "stdout",
     "output_type": "stream",
     "text": [
      "[CV]  subsample=0.8, n_estimators=600, min_child_parameters=6, max_depth=20, learning_rate=0.5, total=   0.6s\n",
      "[CV] subsample=0.7, n_estimators=300, min_child_parameters=7, max_depth=30, learning_rate=0.2 \n",
      "[11:48:18] WARNING: src/objective/regression_obj.cu:152: reg:linear is now deprecated in favor of reg:squarederror.\n"
     ]
    },
    {
     "name": "stderr",
     "output_type": "stream",
     "text": [
      "C:\\Users\\K T KUMAR\\Anaconda33\\lib\\site-packages\\xgboost\\core.py:587: FutureWarning: Series.base is deprecated and will be removed in a future version\n",
      "  if getattr(data, 'base', None) is not None and \\\n"
     ]
    },
    {
     "name": "stdout",
     "output_type": "stream",
     "text": [
      "[CV]  subsample=0.7, n_estimators=300, min_child_parameters=7, max_depth=30, learning_rate=0.2, total=   1.1s\n",
      "[CV] subsample=0.7, n_estimators=300, min_child_parameters=7, max_depth=30, learning_rate=0.2 \n",
      "[11:48:19] WARNING: src/objective/regression_obj.cu:152: reg:linear is now deprecated in favor of reg:squarederror.\n"
     ]
    },
    {
     "name": "stderr",
     "output_type": "stream",
     "text": [
      "C:\\Users\\K T KUMAR\\Anaconda33\\lib\\site-packages\\xgboost\\core.py:587: FutureWarning: Series.base is deprecated and will be removed in a future version\n",
      "  if getattr(data, 'base', None) is not None and \\\n"
     ]
    },
    {
     "name": "stdout",
     "output_type": "stream",
     "text": [
      "[CV]  subsample=0.7, n_estimators=300, min_child_parameters=7, max_depth=30, learning_rate=0.2, total=   1.0s\n",
      "[CV] subsample=0.7, n_estimators=300, min_child_parameters=7, max_depth=30, learning_rate=0.2 \n",
      "[11:48:20] WARNING: src/objective/regression_obj.cu:152: reg:linear is now deprecated in favor of reg:squarederror.\n"
     ]
    },
    {
     "name": "stderr",
     "output_type": "stream",
     "text": [
      "C:\\Users\\K T KUMAR\\Anaconda33\\lib\\site-packages\\xgboost\\core.py:587: FutureWarning: Series.base is deprecated and will be removed in a future version\n",
      "  if getattr(data, 'base', None) is not None and \\\n"
     ]
    },
    {
     "name": "stdout",
     "output_type": "stream",
     "text": [
      "[CV]  subsample=0.7, n_estimators=300, min_child_parameters=7, max_depth=30, learning_rate=0.2, total=   1.1s\n",
      "[CV] subsample=0.7, n_estimators=300, min_child_parameters=7, max_depth=30, learning_rate=0.2 \n",
      "[11:48:21] WARNING: src/objective/regression_obj.cu:152: reg:linear is now deprecated in favor of reg:squarederror.\n"
     ]
    },
    {
     "name": "stderr",
     "output_type": "stream",
     "text": [
      "C:\\Users\\K T KUMAR\\Anaconda33\\lib\\site-packages\\xgboost\\core.py:587: FutureWarning: Series.base is deprecated and will be removed in a future version\n",
      "  if getattr(data, 'base', None) is not None and \\\n"
     ]
    },
    {
     "name": "stdout",
     "output_type": "stream",
     "text": [
      "[CV]  subsample=0.7, n_estimators=300, min_child_parameters=7, max_depth=30, learning_rate=0.2, total=   1.2s\n",
      "[CV] subsample=0.8, n_estimators=1000, min_child_parameters=7, max_depth=10, learning_rate=0.04 \n",
      "[11:48:23] WARNING: src/objective/regression_obj.cu:152: reg:linear is now deprecated in favor of reg:squarederror.\n"
     ]
    },
    {
     "name": "stderr",
     "output_type": "stream",
     "text": [
      "C:\\Users\\K T KUMAR\\Anaconda33\\lib\\site-packages\\xgboost\\core.py:587: FutureWarning: Series.base is deprecated and will be removed in a future version\n",
      "  if getattr(data, 'base', None) is not None and \\\n"
     ]
    },
    {
     "name": "stdout",
     "output_type": "stream",
     "text": [
      "[CV]  subsample=0.8, n_estimators=1000, min_child_parameters=7, max_depth=10, learning_rate=0.04, total=   3.2s\n",
      "[CV] subsample=0.8, n_estimators=1000, min_child_parameters=7, max_depth=10, learning_rate=0.04 \n",
      "[11:48:26] WARNING: src/objective/regression_obj.cu:152: reg:linear is now deprecated in favor of reg:squarederror.\n"
     ]
    },
    {
     "name": "stderr",
     "output_type": "stream",
     "text": [
      "C:\\Users\\K T KUMAR\\Anaconda33\\lib\\site-packages\\xgboost\\core.py:587: FutureWarning: Series.base is deprecated and will be removed in a future version\n",
      "  if getattr(data, 'base', None) is not None and \\\n"
     ]
    },
    {
     "name": "stdout",
     "output_type": "stream",
     "text": [
      "[CV]  subsample=0.8, n_estimators=1000, min_child_parameters=7, max_depth=10, learning_rate=0.04, total=   3.1s\n",
      "[CV] subsample=0.8, n_estimators=1000, min_child_parameters=7, max_depth=10, learning_rate=0.04 \n",
      "[11:48:29] WARNING: src/objective/regression_obj.cu:152: reg:linear is now deprecated in favor of reg:squarederror.\n"
     ]
    },
    {
     "name": "stderr",
     "output_type": "stream",
     "text": [
      "C:\\Users\\K T KUMAR\\Anaconda33\\lib\\site-packages\\xgboost\\core.py:587: FutureWarning: Series.base is deprecated and will be removed in a future version\n",
      "  if getattr(data, 'base', None) is not None and \\\n"
     ]
    },
    {
     "name": "stdout",
     "output_type": "stream",
     "text": [
      "[CV]  subsample=0.8, n_estimators=1000, min_child_parameters=7, max_depth=10, learning_rate=0.04, total=   3.1s\n",
      "[CV] subsample=0.8, n_estimators=1000, min_child_parameters=7, max_depth=10, learning_rate=0.04 \n",
      "[11:48:32] WARNING: src/objective/regression_obj.cu:152: reg:linear is now deprecated in favor of reg:squarederror.\n"
     ]
    },
    {
     "name": "stderr",
     "output_type": "stream",
     "text": [
      "C:\\Users\\K T KUMAR\\Anaconda33\\lib\\site-packages\\xgboost\\core.py:587: FutureWarning: Series.base is deprecated and will be removed in a future version\n",
      "  if getattr(data, 'base', None) is not None and \\\n"
     ]
    },
    {
     "name": "stdout",
     "output_type": "stream",
     "text": [
      "[CV]  subsample=0.8, n_estimators=1000, min_child_parameters=7, max_depth=10, learning_rate=0.04, total=   3.0s\n",
      "[CV] subsample=0.5, n_estimators=100, min_child_parameters=3, max_depth=10, learning_rate=0.5 \n",
      "[11:48:35] WARNING: src/objective/regression_obj.cu:152: reg:linear is now deprecated in favor of reg:squarederror.\n"
     ]
    },
    {
     "name": "stderr",
     "output_type": "stream",
     "text": [
      "C:\\Users\\K T KUMAR\\Anaconda33\\lib\\site-packages\\xgboost\\core.py:587: FutureWarning: Series.base is deprecated and will be removed in a future version\n",
      "  if getattr(data, 'base', None) is not None and \\\n"
     ]
    },
    {
     "name": "stdout",
     "output_type": "stream",
     "text": [
      "[CV]  subsample=0.5, n_estimators=100, min_child_parameters=3, max_depth=10, learning_rate=0.5, total=   0.3s\n",
      "[CV] subsample=0.5, n_estimators=100, min_child_parameters=3, max_depth=10, learning_rate=0.5 \n",
      "[11:48:35] WARNING: src/objective/regression_obj.cu:152: reg:linear is now deprecated in favor of reg:squarederror.\n"
     ]
    },
    {
     "name": "stderr",
     "output_type": "stream",
     "text": [
      "C:\\Users\\K T KUMAR\\Anaconda33\\lib\\site-packages\\xgboost\\core.py:587: FutureWarning: Series.base is deprecated and will be removed in a future version\n",
      "  if getattr(data, 'base', None) is not None and \\\n"
     ]
    },
    {
     "name": "stdout",
     "output_type": "stream",
     "text": [
      "[CV]  subsample=0.5, n_estimators=100, min_child_parameters=3, max_depth=10, learning_rate=0.5, total=   0.3s\n",
      "[CV] subsample=0.5, n_estimators=100, min_child_parameters=3, max_depth=10, learning_rate=0.5 \n",
      "[11:48:36] WARNING: src/objective/regression_obj.cu:152: reg:linear is now deprecated in favor of reg:squarederror.\n"
     ]
    },
    {
     "name": "stderr",
     "output_type": "stream",
     "text": [
      "C:\\Users\\K T KUMAR\\Anaconda33\\lib\\site-packages\\xgboost\\core.py:587: FutureWarning: Series.base is deprecated and will be removed in a future version\n",
      "  if getattr(data, 'base', None) is not None and \\\n"
     ]
    },
    {
     "name": "stdout",
     "output_type": "stream",
     "text": [
      "[CV]  subsample=0.5, n_estimators=100, min_child_parameters=3, max_depth=10, learning_rate=0.5, total=   0.3s\n",
      "[CV] subsample=0.5, n_estimators=100, min_child_parameters=3, max_depth=10, learning_rate=0.5 \n",
      "[11:48:36] WARNING: src/objective/regression_obj.cu:152: reg:linear is now deprecated in favor of reg:squarederror.\n"
     ]
    },
    {
     "name": "stderr",
     "output_type": "stream",
     "text": [
      "C:\\Users\\K T KUMAR\\Anaconda33\\lib\\site-packages\\xgboost\\core.py:587: FutureWarning: Series.base is deprecated and will be removed in a future version\n",
      "  if getattr(data, 'base', None) is not None and \\\n"
     ]
    },
    {
     "name": "stdout",
     "output_type": "stream",
     "text": [
      "[CV]  subsample=0.5, n_estimators=100, min_child_parameters=3, max_depth=10, learning_rate=0.5, total=   0.3s\n",
      "[CV] subsample=0.7, n_estimators=500, min_child_parameters=6, max_depth=5, learning_rate=0.5 \n",
      "[11:48:36] WARNING: src/objective/regression_obj.cu:152: reg:linear is now deprecated in favor of reg:squarederror.\n"
     ]
    },
    {
     "name": "stderr",
     "output_type": "stream",
     "text": [
      "C:\\Users\\K T KUMAR\\Anaconda33\\lib\\site-packages\\xgboost\\core.py:587: FutureWarning: Series.base is deprecated and will be removed in a future version\n",
      "  if getattr(data, 'base', None) is not None and \\\n"
     ]
    },
    {
     "name": "stdout",
     "output_type": "stream",
     "text": [
      "[CV]  subsample=0.7, n_estimators=500, min_child_parameters=6, max_depth=5, learning_rate=0.5, total=   0.6s\n",
      "[CV] subsample=0.7, n_estimators=500, min_child_parameters=6, max_depth=5, learning_rate=0.5 \n",
      "[11:48:37] WARNING: src/objective/regression_obj.cu:152: reg:linear is now deprecated in favor of reg:squarederror.\n"
     ]
    },
    {
     "name": "stderr",
     "output_type": "stream",
     "text": [
      "C:\\Users\\K T KUMAR\\Anaconda33\\lib\\site-packages\\xgboost\\core.py:587: FutureWarning: Series.base is deprecated and will be removed in a future version\n",
      "  if getattr(data, 'base', None) is not None and \\\n"
     ]
    },
    {
     "name": "stdout",
     "output_type": "stream",
     "text": [
      "[CV]  subsample=0.7, n_estimators=500, min_child_parameters=6, max_depth=5, learning_rate=0.5, total=   0.6s\n",
      "[CV] subsample=0.7, n_estimators=500, min_child_parameters=6, max_depth=5, learning_rate=0.5 \n",
      "[11:48:38] WARNING: src/objective/regression_obj.cu:152: reg:linear is now deprecated in favor of reg:squarederror.\n"
     ]
    },
    {
     "name": "stderr",
     "output_type": "stream",
     "text": [
      "C:\\Users\\K T KUMAR\\Anaconda33\\lib\\site-packages\\xgboost\\core.py:587: FutureWarning: Series.base is deprecated and will be removed in a future version\n",
      "  if getattr(data, 'base', None) is not None and \\\n"
     ]
    },
    {
     "name": "stdout",
     "output_type": "stream",
     "text": [
      "[CV]  subsample=0.7, n_estimators=500, min_child_parameters=6, max_depth=5, learning_rate=0.5, total=   0.6s\n",
      "[CV] subsample=0.7, n_estimators=500, min_child_parameters=6, max_depth=5, learning_rate=0.5 \n",
      "[11:48:38] WARNING: src/objective/regression_obj.cu:152: reg:linear is now deprecated in favor of reg:squarederror.\n"
     ]
    },
    {
     "name": "stderr",
     "output_type": "stream",
     "text": [
      "C:\\Users\\K T KUMAR\\Anaconda33\\lib\\site-packages\\xgboost\\core.py:587: FutureWarning: Series.base is deprecated and will be removed in a future version\n",
      "  if getattr(data, 'base', None) is not None and \\\n"
     ]
    },
    {
     "name": "stdout",
     "output_type": "stream",
     "text": [
      "[CV]  subsample=0.7, n_estimators=500, min_child_parameters=6, max_depth=5, learning_rate=0.5, total=   0.6s\n",
      "[CV] subsample=0.7, n_estimators=100, min_child_parameters=7, max_depth=25, learning_rate=0.3 \n",
      "[11:48:39] WARNING: src/objective/regression_obj.cu:152: reg:linear is now deprecated in favor of reg:squarederror.\n"
     ]
    },
    {
     "name": "stderr",
     "output_type": "stream",
     "text": [
      "C:\\Users\\K T KUMAR\\Anaconda33\\lib\\site-packages\\xgboost\\core.py:587: FutureWarning: Series.base is deprecated and will be removed in a future version\n",
      "  if getattr(data, 'base', None) is not None and \\\n"
     ]
    },
    {
     "name": "stdout",
     "output_type": "stream",
     "text": [
      "[CV]  subsample=0.7, n_estimators=100, min_child_parameters=7, max_depth=25, learning_rate=0.3, total=   0.6s\n",
      "[CV] subsample=0.7, n_estimators=100, min_child_parameters=7, max_depth=25, learning_rate=0.3 \n",
      "[11:48:39] WARNING: src/objective/regression_obj.cu:152: reg:linear is now deprecated in favor of reg:squarederror.\n"
     ]
    },
    {
     "name": "stderr",
     "output_type": "stream",
     "text": [
      "C:\\Users\\K T KUMAR\\Anaconda33\\lib\\site-packages\\xgboost\\core.py:587: FutureWarning: Series.base is deprecated and will be removed in a future version\n",
      "  if getattr(data, 'base', None) is not None and \\\n"
     ]
    },
    {
     "name": "stdout",
     "output_type": "stream",
     "text": [
      "[CV]  subsample=0.7, n_estimators=100, min_child_parameters=7, max_depth=25, learning_rate=0.3, total=   0.6s\n",
      "[CV] subsample=0.7, n_estimators=100, min_child_parameters=7, max_depth=25, learning_rate=0.3 \n",
      "[11:48:40] WARNING: src/objective/regression_obj.cu:152: reg:linear is now deprecated in favor of reg:squarederror.\n"
     ]
    },
    {
     "name": "stderr",
     "output_type": "stream",
     "text": [
      "C:\\Users\\K T KUMAR\\Anaconda33\\lib\\site-packages\\xgboost\\core.py:587: FutureWarning: Series.base is deprecated and will be removed in a future version\n",
      "  if getattr(data, 'base', None) is not None and \\\n"
     ]
    },
    {
     "name": "stdout",
     "output_type": "stream",
     "text": [
      "[CV]  subsample=0.7, n_estimators=100, min_child_parameters=7, max_depth=25, learning_rate=0.3, total=   0.6s\n",
      "[CV] subsample=0.7, n_estimators=100, min_child_parameters=7, max_depth=25, learning_rate=0.3 \n",
      "[11:48:40] WARNING: src/objective/regression_obj.cu:152: reg:linear is now deprecated in favor of reg:squarederror.\n"
     ]
    },
    {
     "name": "stderr",
     "output_type": "stream",
     "text": [
      "C:\\Users\\K T KUMAR\\Anaconda33\\lib\\site-packages\\xgboost\\core.py:587: FutureWarning: Series.base is deprecated and will be removed in a future version\n",
      "  if getattr(data, 'base', None) is not None and \\\n"
     ]
    },
    {
     "name": "stdout",
     "output_type": "stream",
     "text": [
      "[CV]  subsample=0.7, n_estimators=100, min_child_parameters=7, max_depth=25, learning_rate=0.3, total=   0.6s\n",
      "[CV] subsample=0.7, n_estimators=900, min_child_parameters=5, max_depth=10, learning_rate=0.2 \n",
      "[11:48:41] WARNING: src/objective/regression_obj.cu:152: reg:linear is now deprecated in favor of reg:squarederror.\n"
     ]
    },
    {
     "name": "stderr",
     "output_type": "stream",
     "text": [
      "C:\\Users\\K T KUMAR\\Anaconda33\\lib\\site-packages\\xgboost\\core.py:587: FutureWarning: Series.base is deprecated and will be removed in a future version\n",
      "  if getattr(data, 'base', None) is not None and \\\n"
     ]
    },
    {
     "name": "stdout",
     "output_type": "stream",
     "text": [
      "[CV]  subsample=0.7, n_estimators=900, min_child_parameters=5, max_depth=10, learning_rate=0.2, total=   1.0s\n",
      "[CV] subsample=0.7, n_estimators=900, min_child_parameters=5, max_depth=10, learning_rate=0.2 \n",
      "[11:48:42] WARNING: src/objective/regression_obj.cu:152: reg:linear is now deprecated in favor of reg:squarederror.\n"
     ]
    },
    {
     "name": "stderr",
     "output_type": "stream",
     "text": [
      "C:\\Users\\K T KUMAR\\Anaconda33\\lib\\site-packages\\xgboost\\core.py:587: FutureWarning: Series.base is deprecated and will be removed in a future version\n",
      "  if getattr(data, 'base', None) is not None and \\\n"
     ]
    },
    {
     "name": "stdout",
     "output_type": "stream",
     "text": [
      "[CV]  subsample=0.7, n_estimators=900, min_child_parameters=5, max_depth=10, learning_rate=0.2, total=   1.0s\n",
      "[CV] subsample=0.7, n_estimators=900, min_child_parameters=5, max_depth=10, learning_rate=0.2 \n",
      "[11:48:43] WARNING: src/objective/regression_obj.cu:152: reg:linear is now deprecated in favor of reg:squarederror.\n"
     ]
    },
    {
     "name": "stderr",
     "output_type": "stream",
     "text": [
      "C:\\Users\\K T KUMAR\\Anaconda33\\lib\\site-packages\\xgboost\\core.py:587: FutureWarning: Series.base is deprecated and will be removed in a future version\n",
      "  if getattr(data, 'base', None) is not None and \\\n"
     ]
    },
    {
     "name": "stdout",
     "output_type": "stream",
     "text": [
      "[CV]  subsample=0.7, n_estimators=900, min_child_parameters=5, max_depth=10, learning_rate=0.2, total=   1.0s\n",
      "[CV] subsample=0.7, n_estimators=900, min_child_parameters=5, max_depth=10, learning_rate=0.2 \n",
      "[11:48:44] WARNING: src/objective/regression_obj.cu:152: reg:linear is now deprecated in favor of reg:squarederror.\n"
     ]
    },
    {
     "name": "stderr",
     "output_type": "stream",
     "text": [
      "C:\\Users\\K T KUMAR\\Anaconda33\\lib\\site-packages\\xgboost\\core.py:587: FutureWarning: Series.base is deprecated and will be removed in a future version\n",
      "  if getattr(data, 'base', None) is not None and \\\n"
     ]
    },
    {
     "name": "stdout",
     "output_type": "stream",
     "text": [
      "[CV]  subsample=0.7, n_estimators=900, min_child_parameters=5, max_depth=10, learning_rate=0.2, total=   1.0s\n",
      "[CV] subsample=0.8, n_estimators=500, min_child_parameters=6, max_depth=15, learning_rate=0.5 \n",
      "[11:48:45] WARNING: src/objective/regression_obj.cu:152: reg:linear is now deprecated in favor of reg:squarederror.\n"
     ]
    },
    {
     "name": "stderr",
     "output_type": "stream",
     "text": [
      "C:\\Users\\K T KUMAR\\Anaconda33\\lib\\site-packages\\xgboost\\core.py:587: FutureWarning: Series.base is deprecated and will be removed in a future version\n",
      "  if getattr(data, 'base', None) is not None and \\\n"
     ]
    },
    {
     "name": "stdout",
     "output_type": "stream",
     "text": [
      "[CV]  subsample=0.8, n_estimators=500, min_child_parameters=6, max_depth=15, learning_rate=0.5, total=   0.5s\n",
      "[CV] subsample=0.8, n_estimators=500, min_child_parameters=6, max_depth=15, learning_rate=0.5 \n",
      "[11:48:46] WARNING: src/objective/regression_obj.cu:152: reg:linear is now deprecated in favor of reg:squarederror.\n"
     ]
    },
    {
     "name": "stderr",
     "output_type": "stream",
     "text": [
      "C:\\Users\\K T KUMAR\\Anaconda33\\lib\\site-packages\\xgboost\\core.py:587: FutureWarning: Series.base is deprecated and will be removed in a future version\n",
      "  if getattr(data, 'base', None) is not None and \\\n"
     ]
    },
    {
     "name": "stdout",
     "output_type": "stream",
     "text": [
      "[CV]  subsample=0.8, n_estimators=500, min_child_parameters=6, max_depth=15, learning_rate=0.5, total=   0.5s\n",
      "[CV] subsample=0.8, n_estimators=500, min_child_parameters=6, max_depth=15, learning_rate=0.5 \n",
      "[11:48:46] WARNING: src/objective/regression_obj.cu:152: reg:linear is now deprecated in favor of reg:squarederror.\n"
     ]
    },
    {
     "name": "stderr",
     "output_type": "stream",
     "text": [
      "C:\\Users\\K T KUMAR\\Anaconda33\\lib\\site-packages\\xgboost\\core.py:587: FutureWarning: Series.base is deprecated and will be removed in a future version\n",
      "  if getattr(data, 'base', None) is not None and \\\n"
     ]
    },
    {
     "name": "stdout",
     "output_type": "stream",
     "text": [
      "[CV]  subsample=0.8, n_estimators=500, min_child_parameters=6, max_depth=15, learning_rate=0.5, total=   0.5s\n",
      "[CV] subsample=0.8, n_estimators=500, min_child_parameters=6, max_depth=15, learning_rate=0.5 \n",
      "[11:48:46] WARNING: src/objective/regression_obj.cu:152: reg:linear is now deprecated in favor of reg:squarederror.\n"
     ]
    },
    {
     "name": "stderr",
     "output_type": "stream",
     "text": [
      "C:\\Users\\K T KUMAR\\Anaconda33\\lib\\site-packages\\xgboost\\core.py:587: FutureWarning: Series.base is deprecated and will be removed in a future version\n",
      "  if getattr(data, 'base', None) is not None and \\\n"
     ]
    },
    {
     "name": "stdout",
     "output_type": "stream",
     "text": [
      "[CV]  subsample=0.8, n_estimators=500, min_child_parameters=6, max_depth=15, learning_rate=0.5, total=   0.5s\n",
      "[CV] subsample=0.8, n_estimators=1000, min_child_parameters=5, max_depth=5, learning_rate=0.3 \n",
      "[11:48:47] WARNING: src/objective/regression_obj.cu:152: reg:linear is now deprecated in favor of reg:squarederror.\n"
     ]
    },
    {
     "name": "stderr",
     "output_type": "stream",
     "text": [
      "C:\\Users\\K T KUMAR\\Anaconda33\\lib\\site-packages\\xgboost\\core.py:587: FutureWarning: Series.base is deprecated and will be removed in a future version\n",
      "  if getattr(data, 'base', None) is not None and \\\n"
     ]
    },
    {
     "name": "stdout",
     "output_type": "stream",
     "text": [
      "[CV]  subsample=0.8, n_estimators=1000, min_child_parameters=5, max_depth=5, learning_rate=0.3, total=   1.0s\n",
      "[CV] subsample=0.8, n_estimators=1000, min_child_parameters=5, max_depth=5, learning_rate=0.3 \n",
      "[11:48:48] WARNING: src/objective/regression_obj.cu:152: reg:linear is now deprecated in favor of reg:squarederror.\n"
     ]
    },
    {
     "name": "stderr",
     "output_type": "stream",
     "text": [
      "C:\\Users\\K T KUMAR\\Anaconda33\\lib\\site-packages\\xgboost\\core.py:587: FutureWarning: Series.base is deprecated and will be removed in a future version\n",
      "  if getattr(data, 'base', None) is not None and \\\n"
     ]
    },
    {
     "name": "stdout",
     "output_type": "stream",
     "text": [
      "[CV]  subsample=0.8, n_estimators=1000, min_child_parameters=5, max_depth=5, learning_rate=0.3, total=   1.0s\n",
      "[CV] subsample=0.8, n_estimators=1000, min_child_parameters=5, max_depth=5, learning_rate=0.3 \n",
      "[11:48:49] WARNING: src/objective/regression_obj.cu:152: reg:linear is now deprecated in favor of reg:squarederror.\n"
     ]
    },
    {
     "name": "stderr",
     "output_type": "stream",
     "text": [
      "C:\\Users\\K T KUMAR\\Anaconda33\\lib\\site-packages\\xgboost\\core.py:587: FutureWarning: Series.base is deprecated and will be removed in a future version\n",
      "  if getattr(data, 'base', None) is not None and \\\n"
     ]
    },
    {
     "name": "stdout",
     "output_type": "stream",
     "text": [
      "[CV]  subsample=0.8, n_estimators=1000, min_child_parameters=5, max_depth=5, learning_rate=0.3, total=   0.9s\n",
      "[CV] subsample=0.8, n_estimators=1000, min_child_parameters=5, max_depth=5, learning_rate=0.3 \n",
      "[11:48:50] WARNING: src/objective/regression_obj.cu:152: reg:linear is now deprecated in favor of reg:squarederror.\n"
     ]
    },
    {
     "name": "stderr",
     "output_type": "stream",
     "text": [
      "C:\\Users\\K T KUMAR\\Anaconda33\\lib\\site-packages\\xgboost\\core.py:587: FutureWarning: Series.base is deprecated and will be removed in a future version\n",
      "  if getattr(data, 'base', None) is not None and \\\n"
     ]
    },
    {
     "name": "stdout",
     "output_type": "stream",
     "text": [
      "[CV]  subsample=0.8, n_estimators=1000, min_child_parameters=5, max_depth=5, learning_rate=0.3, total=   0.9s\n",
      "[CV] subsample=0.8, n_estimators=800, min_child_parameters=5, max_depth=15, learning_rate=0.5 \n",
      "[11:48:51] WARNING: src/objective/regression_obj.cu:152: reg:linear is now deprecated in favor of reg:squarederror.\n"
     ]
    },
    {
     "name": "stderr",
     "output_type": "stream",
     "text": [
      "C:\\Users\\K T KUMAR\\Anaconda33\\lib\\site-packages\\xgboost\\core.py:587: FutureWarning: Series.base is deprecated and will be removed in a future version\n",
      "  if getattr(data, 'base', None) is not None and \\\n"
     ]
    },
    {
     "name": "stdout",
     "output_type": "stream",
     "text": [
      "[CV]  subsample=0.8, n_estimators=800, min_child_parameters=5, max_depth=15, learning_rate=0.5, total=   0.6s\n",
      "[CV] subsample=0.8, n_estimators=800, min_child_parameters=5, max_depth=15, learning_rate=0.5 \n",
      "[11:48:52] WARNING: src/objective/regression_obj.cu:152: reg:linear is now deprecated in favor of reg:squarederror.\n"
     ]
    },
    {
     "name": "stderr",
     "output_type": "stream",
     "text": [
      "C:\\Users\\K T KUMAR\\Anaconda33\\lib\\site-packages\\xgboost\\core.py:587: FutureWarning: Series.base is deprecated and will be removed in a future version\n",
      "  if getattr(data, 'base', None) is not None and \\\n"
     ]
    },
    {
     "name": "stdout",
     "output_type": "stream",
     "text": [
      "[CV]  subsample=0.8, n_estimators=800, min_child_parameters=5, max_depth=15, learning_rate=0.5, total=   0.6s\n",
      "[CV] subsample=0.8, n_estimators=800, min_child_parameters=5, max_depth=15, learning_rate=0.5 \n",
      "[11:48:52] WARNING: src/objective/regression_obj.cu:152: reg:linear is now deprecated in favor of reg:squarederror.\n"
     ]
    },
    {
     "name": "stderr",
     "output_type": "stream",
     "text": [
      "C:\\Users\\K T KUMAR\\Anaconda33\\lib\\site-packages\\xgboost\\core.py:587: FutureWarning: Series.base is deprecated and will be removed in a future version\n",
      "  if getattr(data, 'base', None) is not None and \\\n"
     ]
    },
    {
     "name": "stdout",
     "output_type": "stream",
     "text": [
      "[CV]  subsample=0.8, n_estimators=800, min_child_parameters=5, max_depth=15, learning_rate=0.5, total=   0.6s\n",
      "[CV] subsample=0.8, n_estimators=800, min_child_parameters=5, max_depth=15, learning_rate=0.5 \n",
      "[11:48:53] WARNING: src/objective/regression_obj.cu:152: reg:linear is now deprecated in favor of reg:squarederror.\n"
     ]
    },
    {
     "name": "stderr",
     "output_type": "stream",
     "text": [
      "C:\\Users\\K T KUMAR\\Anaconda33\\lib\\site-packages\\xgboost\\core.py:587: FutureWarning: Series.base is deprecated and will be removed in a future version\n",
      "  if getattr(data, 'base', None) is not None and \\\n"
     ]
    },
    {
     "name": "stdout",
     "output_type": "stream",
     "text": [
      "[CV]  subsample=0.8, n_estimators=800, min_child_parameters=5, max_depth=15, learning_rate=0.5, total=   0.6s\n",
      "[CV] subsample=0.8, n_estimators=200, min_child_parameters=7, max_depth=30, learning_rate=0.04 \n",
      "[11:48:53] WARNING: src/objective/regression_obj.cu:152: reg:linear is now deprecated in favor of reg:squarederror.\n"
     ]
    },
    {
     "name": "stderr",
     "output_type": "stream",
     "text": [
      "C:\\Users\\K T KUMAR\\Anaconda33\\lib\\site-packages\\xgboost\\core.py:587: FutureWarning: Series.base is deprecated and will be removed in a future version\n",
      "  if getattr(data, 'base', None) is not None and \\\n"
     ]
    },
    {
     "name": "stdout",
     "output_type": "stream",
     "text": [
      "[CV]  subsample=0.8, n_estimators=200, min_child_parameters=7, max_depth=30, learning_rate=0.04, total=   1.1s\n",
      "[CV] subsample=0.8, n_estimators=200, min_child_parameters=7, max_depth=30, learning_rate=0.04 \n",
      "[11:48:54] WARNING: src/objective/regression_obj.cu:152: reg:linear is now deprecated in favor of reg:squarederror.\n"
     ]
    },
    {
     "name": "stderr",
     "output_type": "stream",
     "text": [
      "C:\\Users\\K T KUMAR\\Anaconda33\\lib\\site-packages\\xgboost\\core.py:587: FutureWarning: Series.base is deprecated and will be removed in a future version\n",
      "  if getattr(data, 'base', None) is not None and \\\n"
     ]
    },
    {
     "name": "stdout",
     "output_type": "stream",
     "text": [
      "[CV]  subsample=0.8, n_estimators=200, min_child_parameters=7, max_depth=30, learning_rate=0.04, total=   1.1s\n",
      "[CV] subsample=0.8, n_estimators=200, min_child_parameters=7, max_depth=30, learning_rate=0.04 \n",
      "[11:48:56] WARNING: src/objective/regression_obj.cu:152: reg:linear is now deprecated in favor of reg:squarederror.\n"
     ]
    },
    {
     "name": "stderr",
     "output_type": "stream",
     "text": [
      "C:\\Users\\K T KUMAR\\Anaconda33\\lib\\site-packages\\xgboost\\core.py:587: FutureWarning: Series.base is deprecated and will be removed in a future version\n",
      "  if getattr(data, 'base', None) is not None and \\\n"
     ]
    },
    {
     "name": "stdout",
     "output_type": "stream",
     "text": [
      "[CV]  subsample=0.8, n_estimators=200, min_child_parameters=7, max_depth=30, learning_rate=0.04, total=   1.1s\n",
      "[CV] subsample=0.8, n_estimators=200, min_child_parameters=7, max_depth=30, learning_rate=0.04 \n",
      "[11:48:57] WARNING: src/objective/regression_obj.cu:152: reg:linear is now deprecated in favor of reg:squarederror.\n"
     ]
    },
    {
     "name": "stderr",
     "output_type": "stream",
     "text": [
      "C:\\Users\\K T KUMAR\\Anaconda33\\lib\\site-packages\\xgboost\\core.py:587: FutureWarning: Series.base is deprecated and will be removed in a future version\n",
      "  if getattr(data, 'base', None) is not None and \\\n"
     ]
    },
    {
     "name": "stdout",
     "output_type": "stream",
     "text": [
      "[CV]  subsample=0.8, n_estimators=200, min_child_parameters=7, max_depth=30, learning_rate=0.04, total=   1.1s\n",
      "[CV] subsample=0.8, n_estimators=800, min_child_parameters=3, max_depth=15, learning_rate=0.04 \n",
      "[11:48:58] WARNING: src/objective/regression_obj.cu:152: reg:linear is now deprecated in favor of reg:squarederror.\n"
     ]
    },
    {
     "name": "stderr",
     "output_type": "stream",
     "text": [
      "C:\\Users\\K T KUMAR\\Anaconda33\\lib\\site-packages\\xgboost\\core.py:587: FutureWarning: Series.base is deprecated and will be removed in a future version\n",
      "  if getattr(data, 'base', None) is not None and \\\n"
     ]
    },
    {
     "name": "stdout",
     "output_type": "stream",
     "text": [
      "[CV]  subsample=0.8, n_estimators=800, min_child_parameters=3, max_depth=15, learning_rate=0.04, total=   3.6s\n",
      "[CV] subsample=0.8, n_estimators=800, min_child_parameters=3, max_depth=15, learning_rate=0.04 \n",
      "[11:49:01] WARNING: src/objective/regression_obj.cu:152: reg:linear is now deprecated in favor of reg:squarederror.\n"
     ]
    },
    {
     "name": "stderr",
     "output_type": "stream",
     "text": [
      "C:\\Users\\K T KUMAR\\Anaconda33\\lib\\site-packages\\xgboost\\core.py:587: FutureWarning: Series.base is deprecated and will be removed in a future version\n",
      "  if getattr(data, 'base', None) is not None and \\\n"
     ]
    },
    {
     "name": "stdout",
     "output_type": "stream",
     "text": [
      "[CV]  subsample=0.8, n_estimators=800, min_child_parameters=3, max_depth=15, learning_rate=0.04, total=   4.1s\n",
      "[CV] subsample=0.8, n_estimators=800, min_child_parameters=3, max_depth=15, learning_rate=0.04 \n",
      "[11:49:05] WARNING: src/objective/regression_obj.cu:152: reg:linear is now deprecated in favor of reg:squarederror.\n"
     ]
    },
    {
     "name": "stderr",
     "output_type": "stream",
     "text": [
      "C:\\Users\\K T KUMAR\\Anaconda33\\lib\\site-packages\\xgboost\\core.py:587: FutureWarning: Series.base is deprecated and will be removed in a future version\n",
      "  if getattr(data, 'base', None) is not None and \\\n"
     ]
    },
    {
     "name": "stdout",
     "output_type": "stream",
     "text": [
      "[CV]  subsample=0.8, n_estimators=800, min_child_parameters=3, max_depth=15, learning_rate=0.04, total=   3.8s\n",
      "[CV] subsample=0.8, n_estimators=800, min_child_parameters=3, max_depth=15, learning_rate=0.04 \n",
      "[11:49:09] WARNING: src/objective/regression_obj.cu:152: reg:linear is now deprecated in favor of reg:squarederror.\n"
     ]
    },
    {
     "name": "stderr",
     "output_type": "stream",
     "text": [
      "C:\\Users\\K T KUMAR\\Anaconda33\\lib\\site-packages\\xgboost\\core.py:587: FutureWarning: Series.base is deprecated and will be removed in a future version\n",
      "  if getattr(data, 'base', None) is not None and \\\n"
     ]
    },
    {
     "name": "stdout",
     "output_type": "stream",
     "text": [
      "[CV]  subsample=0.8, n_estimators=800, min_child_parameters=3, max_depth=15, learning_rate=0.04, total=   3.3s\n",
      "[CV] subsample=0.8, n_estimators=800, min_child_parameters=4, max_depth=30, learning_rate=0.04 \n",
      "[11:49:13] WARNING: src/objective/regression_obj.cu:152: reg:linear is now deprecated in favor of reg:squarederror.\n"
     ]
    },
    {
     "name": "stderr",
     "output_type": "stream",
     "text": [
      "C:\\Users\\K T KUMAR\\Anaconda33\\lib\\site-packages\\xgboost\\core.py:587: FutureWarning: Series.base is deprecated and will be removed in a future version\n",
      "  if getattr(data, 'base', None) is not None and \\\n"
     ]
    },
    {
     "name": "stdout",
     "output_type": "stream",
     "text": [
      "[CV]  subsample=0.8, n_estimators=800, min_child_parameters=4, max_depth=30, learning_rate=0.04, total=   4.5s\n",
      "[CV] subsample=0.8, n_estimators=800, min_child_parameters=4, max_depth=30, learning_rate=0.04 \n",
      "[11:49:17] WARNING: src/objective/regression_obj.cu:152: reg:linear is now deprecated in favor of reg:squarederror.\n"
     ]
    },
    {
     "name": "stderr",
     "output_type": "stream",
     "text": [
      "C:\\Users\\K T KUMAR\\Anaconda33\\lib\\site-packages\\xgboost\\core.py:587: FutureWarning: Series.base is deprecated and will be removed in a future version\n",
      "  if getattr(data, 'base', None) is not None and \\\n"
     ]
    },
    {
     "name": "stdout",
     "output_type": "stream",
     "text": [
      "[CV]  subsample=0.8, n_estimators=800, min_child_parameters=4, max_depth=30, learning_rate=0.04, total=   4.7s\n",
      "[CV] subsample=0.8, n_estimators=800, min_child_parameters=4, max_depth=30, learning_rate=0.04 \n",
      "[11:49:22] WARNING: src/objective/regression_obj.cu:152: reg:linear is now deprecated in favor of reg:squarederror.\n"
     ]
    },
    {
     "name": "stderr",
     "output_type": "stream",
     "text": [
      "C:\\Users\\K T KUMAR\\Anaconda33\\lib\\site-packages\\xgboost\\core.py:587: FutureWarning: Series.base is deprecated and will be removed in a future version\n",
      "  if getattr(data, 'base', None) is not None and \\\n"
     ]
    },
    {
     "name": "stdout",
     "output_type": "stream",
     "text": [
      "[CV]  subsample=0.8, n_estimators=800, min_child_parameters=4, max_depth=30, learning_rate=0.04, total=   6.0s\n",
      "[CV] subsample=0.8, n_estimators=800, min_child_parameters=4, max_depth=30, learning_rate=0.04 \n",
      "[11:49:28] WARNING: src/objective/regression_obj.cu:152: reg:linear is now deprecated in favor of reg:squarederror.\n"
     ]
    },
    {
     "name": "stderr",
     "output_type": "stream",
     "text": [
      "C:\\Users\\K T KUMAR\\Anaconda33\\lib\\site-packages\\xgboost\\core.py:587: FutureWarning: Series.base is deprecated and will be removed in a future version\n",
      "  if getattr(data, 'base', None) is not None and \\\n"
     ]
    },
    {
     "name": "stdout",
     "output_type": "stream",
     "text": [
      "[CV]  subsample=0.8, n_estimators=800, min_child_parameters=4, max_depth=30, learning_rate=0.04, total=   4.3s\n",
      "[CV] subsample=0.8, n_estimators=1100, min_child_parameters=7, max_depth=30, learning_rate=0.6 \n",
      "[11:49:32] WARNING: src/objective/regression_obj.cu:152: reg:linear is now deprecated in favor of reg:squarederror.\n"
     ]
    },
    {
     "name": "stderr",
     "output_type": "stream",
     "text": [
      "C:\\Users\\K T KUMAR\\Anaconda33\\lib\\site-packages\\xgboost\\core.py:587: FutureWarning: Series.base is deprecated and will be removed in a future version\n",
      "  if getattr(data, 'base', None) is not None and \\\n"
     ]
    },
    {
     "name": "stdout",
     "output_type": "stream",
     "text": [
      "[CV]  subsample=0.8, n_estimators=1100, min_child_parameters=7, max_depth=30, learning_rate=0.6, total=   0.7s\n",
      "[CV] subsample=0.8, n_estimators=1100, min_child_parameters=7, max_depth=30, learning_rate=0.6 \n",
      "[11:49:33] WARNING: src/objective/regression_obj.cu:152: reg:linear is now deprecated in favor of reg:squarederror.\n"
     ]
    },
    {
     "name": "stderr",
     "output_type": "stream",
     "text": [
      "C:\\Users\\K T KUMAR\\Anaconda33\\lib\\site-packages\\xgboost\\core.py:587: FutureWarning: Series.base is deprecated and will be removed in a future version\n",
      "  if getattr(data, 'base', None) is not None and \\\n"
     ]
    },
    {
     "name": "stdout",
     "output_type": "stream",
     "text": [
      "[CV]  subsample=0.8, n_estimators=1100, min_child_parameters=7, max_depth=30, learning_rate=0.6, total=   0.7s\n",
      "[CV] subsample=0.8, n_estimators=1100, min_child_parameters=7, max_depth=30, learning_rate=0.6 \n",
      "[11:49:33] WARNING: src/objective/regression_obj.cu:152: reg:linear is now deprecated in favor of reg:squarederror.\n"
     ]
    },
    {
     "name": "stderr",
     "output_type": "stream",
     "text": [
      "C:\\Users\\K T KUMAR\\Anaconda33\\lib\\site-packages\\xgboost\\core.py:587: FutureWarning: Series.base is deprecated and will be removed in a future version\n",
      "  if getattr(data, 'base', None) is not None and \\\n"
     ]
    },
    {
     "name": "stdout",
     "output_type": "stream",
     "text": [
      "[CV]  subsample=0.8, n_estimators=1100, min_child_parameters=7, max_depth=30, learning_rate=0.6, total=   0.7s\n",
      "[CV] subsample=0.8, n_estimators=1100, min_child_parameters=7, max_depth=30, learning_rate=0.6 \n",
      "[11:49:34] WARNING: src/objective/regression_obj.cu:152: reg:linear is now deprecated in favor of reg:squarederror.\n"
     ]
    },
    {
     "name": "stderr",
     "output_type": "stream",
     "text": [
      "C:\\Users\\K T KUMAR\\Anaconda33\\lib\\site-packages\\xgboost\\core.py:587: FutureWarning: Series.base is deprecated and will be removed in a future version\n",
      "  if getattr(data, 'base', None) is not None and \\\n"
     ]
    },
    {
     "name": "stdout",
     "output_type": "stream",
     "text": [
      "[CV]  subsample=0.8, n_estimators=1100, min_child_parameters=7, max_depth=30, learning_rate=0.6, total=   0.7s\n",
      "[CV] subsample=0.7, n_estimators=800, min_child_parameters=5, max_depth=25, learning_rate=0.5 \n",
      "[11:49:35] WARNING: src/objective/regression_obj.cu:152: reg:linear is now deprecated in favor of reg:squarederror.\n"
     ]
    },
    {
     "name": "stderr",
     "output_type": "stream",
     "text": [
      "C:\\Users\\K T KUMAR\\Anaconda33\\lib\\site-packages\\xgboost\\core.py:587: FutureWarning: Series.base is deprecated and will be removed in a future version\n",
      "  if getattr(data, 'base', None) is not None and \\\n"
     ]
    },
    {
     "name": "stdout",
     "output_type": "stream",
     "text": [
      "[CV]  subsample=0.7, n_estimators=800, min_child_parameters=5, max_depth=25, learning_rate=0.5, total=   0.8s\n",
      "[CV] subsample=0.7, n_estimators=800, min_child_parameters=5, max_depth=25, learning_rate=0.5 \n",
      "[11:49:36] WARNING: src/objective/regression_obj.cu:152: reg:linear is now deprecated in favor of reg:squarederror.\n"
     ]
    },
    {
     "name": "stderr",
     "output_type": "stream",
     "text": [
      "C:\\Users\\K T KUMAR\\Anaconda33\\lib\\site-packages\\xgboost\\core.py:587: FutureWarning: Series.base is deprecated and will be removed in a future version\n",
      "  if getattr(data, 'base', None) is not None and \\\n"
     ]
    },
    {
     "name": "stdout",
     "output_type": "stream",
     "text": [
      "[CV]  subsample=0.7, n_estimators=800, min_child_parameters=5, max_depth=25, learning_rate=0.5, total=   0.7s\n",
      "[CV] subsample=0.7, n_estimators=800, min_child_parameters=5, max_depth=25, learning_rate=0.5 \n",
      "[11:49:36] WARNING: src/objective/regression_obj.cu:152: reg:linear is now deprecated in favor of reg:squarederror.\n"
     ]
    },
    {
     "name": "stderr",
     "output_type": "stream",
     "text": [
      "C:\\Users\\K T KUMAR\\Anaconda33\\lib\\site-packages\\xgboost\\core.py:587: FutureWarning: Series.base is deprecated and will be removed in a future version\n",
      "  if getattr(data, 'base', None) is not None and \\\n"
     ]
    },
    {
     "name": "stdout",
     "output_type": "stream",
     "text": [
      "[CV]  subsample=0.7, n_estimators=800, min_child_parameters=5, max_depth=25, learning_rate=0.5, total=   0.7s\n",
      "[CV] subsample=0.7, n_estimators=800, min_child_parameters=5, max_depth=25, learning_rate=0.5 \n",
      "[11:49:37] WARNING: src/objective/regression_obj.cu:152: reg:linear is now deprecated in favor of reg:squarederror.\n"
     ]
    },
    {
     "name": "stderr",
     "output_type": "stream",
     "text": [
      "C:\\Users\\K T KUMAR\\Anaconda33\\lib\\site-packages\\xgboost\\core.py:587: FutureWarning: Series.base is deprecated and will be removed in a future version\n",
      "  if getattr(data, 'base', None) is not None and \\\n"
     ]
    },
    {
     "name": "stdout",
     "output_type": "stream",
     "text": [
      "[CV]  subsample=0.7, n_estimators=800, min_child_parameters=5, max_depth=25, learning_rate=0.5, total=   0.8s\n",
      "[CV] subsample=0.7, n_estimators=600, min_child_parameters=7, max_depth=15, learning_rate=0.2 \n",
      "[11:49:38] WARNING: src/objective/regression_obj.cu:152: reg:linear is now deprecated in favor of reg:squarederror.\n"
     ]
    },
    {
     "name": "stderr",
     "output_type": "stream",
     "text": [
      "C:\\Users\\K T KUMAR\\Anaconda33\\lib\\site-packages\\xgboost\\core.py:587: FutureWarning: Series.base is deprecated and will be removed in a future version\n",
      "  if getattr(data, 'base', None) is not None and \\\n"
     ]
    },
    {
     "name": "stdout",
     "output_type": "stream",
     "text": [
      "[CV]  subsample=0.7, n_estimators=600, min_child_parameters=7, max_depth=15, learning_rate=0.2, total=   1.3s\n",
      "[CV] subsample=0.7, n_estimators=600, min_child_parameters=7, max_depth=15, learning_rate=0.2 \n",
      "[11:49:39] WARNING: src/objective/regression_obj.cu:152: reg:linear is now deprecated in favor of reg:squarederror.\n"
     ]
    },
    {
     "name": "stderr",
     "output_type": "stream",
     "text": [
      "C:\\Users\\K T KUMAR\\Anaconda33\\lib\\site-packages\\xgboost\\core.py:587: FutureWarning: Series.base is deprecated and will be removed in a future version\n",
      "  if getattr(data, 'base', None) is not None and \\\n"
     ]
    },
    {
     "name": "stdout",
     "output_type": "stream",
     "text": [
      "[CV]  subsample=0.7, n_estimators=600, min_child_parameters=7, max_depth=15, learning_rate=0.2, total=   1.1s\n",
      "[CV] subsample=0.7, n_estimators=600, min_child_parameters=7, max_depth=15, learning_rate=0.2 \n",
      "[11:49:40] WARNING: src/objective/regression_obj.cu:152: reg:linear is now deprecated in favor of reg:squarederror.\n"
     ]
    },
    {
     "name": "stderr",
     "output_type": "stream",
     "text": [
      "C:\\Users\\K T KUMAR\\Anaconda33\\lib\\site-packages\\xgboost\\core.py:587: FutureWarning: Series.base is deprecated and will be removed in a future version\n",
      "  if getattr(data, 'base', None) is not None and \\\n"
     ]
    },
    {
     "name": "stdout",
     "output_type": "stream",
     "text": [
      "[CV]  subsample=0.7, n_estimators=600, min_child_parameters=7, max_depth=15, learning_rate=0.2, total=   1.2s\n",
      "[CV] subsample=0.7, n_estimators=600, min_child_parameters=7, max_depth=15, learning_rate=0.2 \n",
      "[11:49:41] WARNING: src/objective/regression_obj.cu:152: reg:linear is now deprecated in favor of reg:squarederror.\n"
     ]
    },
    {
     "name": "stderr",
     "output_type": "stream",
     "text": [
      "C:\\Users\\K T KUMAR\\Anaconda33\\lib\\site-packages\\xgboost\\core.py:587: FutureWarning: Series.base is deprecated and will be removed in a future version\n",
      "  if getattr(data, 'base', None) is not None and \\\n"
     ]
    },
    {
     "name": "stdout",
     "output_type": "stream",
     "text": [
      "[CV]  subsample=0.7, n_estimators=600, min_child_parameters=7, max_depth=15, learning_rate=0.2, total=   1.2s\n",
      "[CV] subsample=0.5, n_estimators=500, min_child_parameters=4, max_depth=30, learning_rate=0.5 \n",
      "[11:49:43] WARNING: src/objective/regression_obj.cu:152: reg:linear is now deprecated in favor of reg:squarederror.\n"
     ]
    },
    {
     "name": "stderr",
     "output_type": "stream",
     "text": [
      "C:\\Users\\K T KUMAR\\Anaconda33\\lib\\site-packages\\xgboost\\core.py:587: FutureWarning: Series.base is deprecated and will be removed in a future version\n",
      "  if getattr(data, 'base', None) is not None and \\\n"
     ]
    },
    {
     "name": "stdout",
     "output_type": "stream",
     "text": [
      "[CV]  subsample=0.5, n_estimators=500, min_child_parameters=4, max_depth=30, learning_rate=0.5, total=   1.1s\n",
      "[CV] subsample=0.5, n_estimators=500, min_child_parameters=4, max_depth=30, learning_rate=0.5 \n",
      "[11:49:44] WARNING: src/objective/regression_obj.cu:152: reg:linear is now deprecated in favor of reg:squarederror.\n"
     ]
    },
    {
     "name": "stderr",
     "output_type": "stream",
     "text": [
      "C:\\Users\\K T KUMAR\\Anaconda33\\lib\\site-packages\\xgboost\\core.py:587: FutureWarning: Series.base is deprecated and will be removed in a future version\n",
      "  if getattr(data, 'base', None) is not None and \\\n"
     ]
    },
    {
     "name": "stdout",
     "output_type": "stream",
     "text": [
      "[CV]  subsample=0.5, n_estimators=500, min_child_parameters=4, max_depth=30, learning_rate=0.5, total=   0.9s\n",
      "[CV] subsample=0.5, n_estimators=500, min_child_parameters=4, max_depth=30, learning_rate=0.5 \n",
      "[11:49:45] WARNING: src/objective/regression_obj.cu:152: reg:linear is now deprecated in favor of reg:squarederror.\n"
     ]
    },
    {
     "name": "stderr",
     "output_type": "stream",
     "text": [
      "C:\\Users\\K T KUMAR\\Anaconda33\\lib\\site-packages\\xgboost\\core.py:587: FutureWarning: Series.base is deprecated and will be removed in a future version\n",
      "  if getattr(data, 'base', None) is not None and \\\n"
     ]
    },
    {
     "name": "stdout",
     "output_type": "stream",
     "text": [
      "[CV]  subsample=0.5, n_estimators=500, min_child_parameters=4, max_depth=30, learning_rate=0.5, total=   0.8s\n",
      "[CV] subsample=0.5, n_estimators=500, min_child_parameters=4, max_depth=30, learning_rate=0.5 \n",
      "[11:49:45] WARNING: src/objective/regression_obj.cu:152: reg:linear is now deprecated in favor of reg:squarederror.\n"
     ]
    },
    {
     "name": "stderr",
     "output_type": "stream",
     "text": [
      "C:\\Users\\K T KUMAR\\Anaconda33\\lib\\site-packages\\xgboost\\core.py:587: FutureWarning: Series.base is deprecated and will be removed in a future version\n",
      "  if getattr(data, 'base', None) is not None and \\\n"
     ]
    },
    {
     "name": "stdout",
     "output_type": "stream",
     "text": [
      "[CV]  subsample=0.5, n_estimators=500, min_child_parameters=4, max_depth=30, learning_rate=0.5, total=   0.9s\n",
      "[CV] subsample=0.5, n_estimators=500, min_child_parameters=3, max_depth=10, learning_rate=0.5 \n",
      "[11:49:46] WARNING: src/objective/regression_obj.cu:152: reg:linear is now deprecated in favor of reg:squarederror.\n"
     ]
    },
    {
     "name": "stderr",
     "output_type": "stream",
     "text": [
      "C:\\Users\\K T KUMAR\\Anaconda33\\lib\\site-packages\\xgboost\\core.py:587: FutureWarning: Series.base is deprecated and will be removed in a future version\n",
      "  if getattr(data, 'base', None) is not None and \\\n"
     ]
    },
    {
     "name": "stdout",
     "output_type": "stream",
     "text": [
      "[CV]  subsample=0.5, n_estimators=500, min_child_parameters=3, max_depth=10, learning_rate=0.5, total=   0.6s\n",
      "[CV] subsample=0.5, n_estimators=500, min_child_parameters=3, max_depth=10, learning_rate=0.5 \n",
      "[11:49:47] WARNING: src/objective/regression_obj.cu:152: reg:linear is now deprecated in favor of reg:squarederror.\n"
     ]
    },
    {
     "name": "stderr",
     "output_type": "stream",
     "text": [
      "C:\\Users\\K T KUMAR\\Anaconda33\\lib\\site-packages\\xgboost\\core.py:587: FutureWarning: Series.base is deprecated and will be removed in a future version\n",
      "  if getattr(data, 'base', None) is not None and \\\n"
     ]
    },
    {
     "name": "stdout",
     "output_type": "stream",
     "text": [
      "[CV]  subsample=0.5, n_estimators=500, min_child_parameters=3, max_depth=10, learning_rate=0.5, total=   0.6s\n",
      "[CV] subsample=0.5, n_estimators=500, min_child_parameters=3, max_depth=10, learning_rate=0.5 \n",
      "[11:49:48] WARNING: src/objective/regression_obj.cu:152: reg:linear is now deprecated in favor of reg:squarederror.\n"
     ]
    },
    {
     "name": "stderr",
     "output_type": "stream",
     "text": [
      "C:\\Users\\K T KUMAR\\Anaconda33\\lib\\site-packages\\xgboost\\core.py:587: FutureWarning: Series.base is deprecated and will be removed in a future version\n",
      "  if getattr(data, 'base', None) is not None and \\\n"
     ]
    },
    {
     "name": "stdout",
     "output_type": "stream",
     "text": [
      "[CV]  subsample=0.5, n_estimators=500, min_child_parameters=3, max_depth=10, learning_rate=0.5, total=   0.6s\n",
      "[CV] subsample=0.5, n_estimators=500, min_child_parameters=3, max_depth=10, learning_rate=0.5 \n",
      "[11:49:48] WARNING: src/objective/regression_obj.cu:152: reg:linear is now deprecated in favor of reg:squarederror.\n"
     ]
    },
    {
     "name": "stderr",
     "output_type": "stream",
     "text": [
      "C:\\Users\\K T KUMAR\\Anaconda33\\lib\\site-packages\\xgboost\\core.py:587: FutureWarning: Series.base is deprecated and will be removed in a future version\n",
      "  if getattr(data, 'base', None) is not None and \\\n"
     ]
    },
    {
     "name": "stdout",
     "output_type": "stream",
     "text": [
      "[CV]  subsample=0.5, n_estimators=500, min_child_parameters=3, max_depth=10, learning_rate=0.5, total=   0.6s\n",
      "[CV] subsample=0.7, n_estimators=300, min_child_parameters=6, max_depth=30, learning_rate=0.6 \n",
      "[11:49:49] WARNING: src/objective/regression_obj.cu:152: reg:linear is now deprecated in favor of reg:squarederror.\n"
     ]
    },
    {
     "name": "stderr",
     "output_type": "stream",
     "text": [
      "C:\\Users\\K T KUMAR\\Anaconda33\\lib\\site-packages\\xgboost\\core.py:587: FutureWarning: Series.base is deprecated and will be removed in a future version\n",
      "  if getattr(data, 'base', None) is not None and \\\n"
     ]
    },
    {
     "name": "stdout",
     "output_type": "stream",
     "text": [
      "[CV]  subsample=0.7, n_estimators=300, min_child_parameters=6, max_depth=30, learning_rate=0.6, total=   0.5s\n",
      "[CV] subsample=0.7, n_estimators=300, min_child_parameters=6, max_depth=30, learning_rate=0.6 \n",
      "[11:49:49] WARNING: src/objective/regression_obj.cu:152: reg:linear is now deprecated in favor of reg:squarederror.\n"
     ]
    },
    {
     "name": "stderr",
     "output_type": "stream",
     "text": [
      "C:\\Users\\K T KUMAR\\Anaconda33\\lib\\site-packages\\xgboost\\core.py:587: FutureWarning: Series.base is deprecated and will be removed in a future version\n",
      "  if getattr(data, 'base', None) is not None and \\\n"
     ]
    },
    {
     "name": "stdout",
     "output_type": "stream",
     "text": [
      "[CV]  subsample=0.7, n_estimators=300, min_child_parameters=6, max_depth=30, learning_rate=0.6, total=   0.5s\n",
      "[CV] subsample=0.7, n_estimators=300, min_child_parameters=6, max_depth=30, learning_rate=0.6 \n",
      "[11:49:50] WARNING: src/objective/regression_obj.cu:152: reg:linear is now deprecated in favor of reg:squarederror.\n"
     ]
    },
    {
     "name": "stderr",
     "output_type": "stream",
     "text": [
      "C:\\Users\\K T KUMAR\\Anaconda33\\lib\\site-packages\\xgboost\\core.py:587: FutureWarning: Series.base is deprecated and will be removed in a future version\n",
      "  if getattr(data, 'base', None) is not None and \\\n"
     ]
    },
    {
     "name": "stdout",
     "output_type": "stream",
     "text": [
      "[CV]  subsample=0.7, n_estimators=300, min_child_parameters=6, max_depth=30, learning_rate=0.6, total=   0.5s\n",
      "[CV] subsample=0.7, n_estimators=300, min_child_parameters=6, max_depth=30, learning_rate=0.6 \n",
      "[11:49:50] WARNING: src/objective/regression_obj.cu:152: reg:linear is now deprecated in favor of reg:squarederror.\n"
     ]
    },
    {
     "name": "stderr",
     "output_type": "stream",
     "text": [
      "C:\\Users\\K T KUMAR\\Anaconda33\\lib\\site-packages\\xgboost\\core.py:587: FutureWarning: Series.base is deprecated and will be removed in a future version\n",
      "  if getattr(data, 'base', None) is not None and \\\n"
     ]
    },
    {
     "name": "stdout",
     "output_type": "stream",
     "text": [
      "[CV]  subsample=0.7, n_estimators=300, min_child_parameters=6, max_depth=30, learning_rate=0.6, total=   0.4s\n",
      "[CV] subsample=0.5, n_estimators=700, min_child_parameters=7, max_depth=30, learning_rate=0.6 \n",
      "[11:49:51] WARNING: src/objective/regression_obj.cu:152: reg:linear is now deprecated in favor of reg:squarederror.\n"
     ]
    },
    {
     "name": "stderr",
     "output_type": "stream",
     "text": [
      "C:\\Users\\K T KUMAR\\Anaconda33\\lib\\site-packages\\xgboost\\core.py:587: FutureWarning: Series.base is deprecated and will be removed in a future version\n",
      "  if getattr(data, 'base', None) is not None and \\\n"
     ]
    },
    {
     "name": "stdout",
     "output_type": "stream",
     "text": [
      "[CV]  subsample=0.5, n_estimators=700, min_child_parameters=7, max_depth=30, learning_rate=0.6, total=   0.8s\n",
      "[CV] subsample=0.5, n_estimators=700, min_child_parameters=7, max_depth=30, learning_rate=0.6 \n",
      "[11:49:52] WARNING: src/objective/regression_obj.cu:152: reg:linear is now deprecated in favor of reg:squarederror.\n"
     ]
    },
    {
     "name": "stderr",
     "output_type": "stream",
     "text": [
      "C:\\Users\\K T KUMAR\\Anaconda33\\lib\\site-packages\\xgboost\\core.py:587: FutureWarning: Series.base is deprecated and will be removed in a future version\n",
      "  if getattr(data, 'base', None) is not None and \\\n"
     ]
    },
    {
     "name": "stdout",
     "output_type": "stream",
     "text": [
      "[CV]  subsample=0.5, n_estimators=700, min_child_parameters=7, max_depth=30, learning_rate=0.6, total=   0.8s\n",
      "[CV] subsample=0.5, n_estimators=700, min_child_parameters=7, max_depth=30, learning_rate=0.6 \n",
      "[11:49:52] WARNING: src/objective/regression_obj.cu:152: reg:linear is now deprecated in favor of reg:squarederror.\n"
     ]
    },
    {
     "name": "stderr",
     "output_type": "stream",
     "text": [
      "C:\\Users\\K T KUMAR\\Anaconda33\\lib\\site-packages\\xgboost\\core.py:587: FutureWarning: Series.base is deprecated and will be removed in a future version\n",
      "  if getattr(data, 'base', None) is not None and \\\n"
     ]
    },
    {
     "name": "stdout",
     "output_type": "stream",
     "text": [
      "[CV]  subsample=0.5, n_estimators=700, min_child_parameters=7, max_depth=30, learning_rate=0.6, total=   0.8s\n",
      "[CV] subsample=0.5, n_estimators=700, min_child_parameters=7, max_depth=30, learning_rate=0.6 \n",
      "[11:49:53] WARNING: src/objective/regression_obj.cu:152: reg:linear is now deprecated in favor of reg:squarederror.\n"
     ]
    },
    {
     "name": "stderr",
     "output_type": "stream",
     "text": [
      "C:\\Users\\K T KUMAR\\Anaconda33\\lib\\site-packages\\xgboost\\core.py:587: FutureWarning: Series.base is deprecated and will be removed in a future version\n",
      "  if getattr(data, 'base', None) is not None and \\\n"
     ]
    },
    {
     "name": "stdout",
     "output_type": "stream",
     "text": [
      "[CV]  subsample=0.5, n_estimators=700, min_child_parameters=7, max_depth=30, learning_rate=0.6, total=   0.8s\n",
      "[CV] subsample=0.5, n_estimators=1100, min_child_parameters=3, max_depth=20, learning_rate=0.7 \n",
      "[11:49:54] WARNING: src/objective/regression_obj.cu:152: reg:linear is now deprecated in favor of reg:squarederror.\n"
     ]
    },
    {
     "name": "stderr",
     "output_type": "stream",
     "text": [
      "C:\\Users\\K T KUMAR\\Anaconda33\\lib\\site-packages\\xgboost\\core.py:587: FutureWarning: Series.base is deprecated and will be removed in a future version\n",
      "  if getattr(data, 'base', None) is not None and \\\n"
     ]
    },
    {
     "name": "stdout",
     "output_type": "stream",
     "text": [
      "[CV]  subsample=0.5, n_estimators=1100, min_child_parameters=3, max_depth=20, learning_rate=0.7, total=   0.9s\n",
      "[CV] subsample=0.5, n_estimators=1100, min_child_parameters=3, max_depth=20, learning_rate=0.7 \n",
      "[11:49:55] WARNING: src/objective/regression_obj.cu:152: reg:linear is now deprecated in favor of reg:squarederror.\n"
     ]
    },
    {
     "name": "stderr",
     "output_type": "stream",
     "text": [
      "C:\\Users\\K T KUMAR\\Anaconda33\\lib\\site-packages\\xgboost\\core.py:587: FutureWarning: Series.base is deprecated and will be removed in a future version\n",
      "  if getattr(data, 'base', None) is not None and \\\n"
     ]
    },
    {
     "name": "stdout",
     "output_type": "stream",
     "text": [
      "[CV]  subsample=0.5, n_estimators=1100, min_child_parameters=3, max_depth=20, learning_rate=0.7, total=   0.9s\n",
      "[CV] subsample=0.5, n_estimators=1100, min_child_parameters=3, max_depth=20, learning_rate=0.7 \n",
      "[11:49:56] WARNING: src/objective/regression_obj.cu:152: reg:linear is now deprecated in favor of reg:squarederror.\n"
     ]
    },
    {
     "name": "stderr",
     "output_type": "stream",
     "text": [
      "C:\\Users\\K T KUMAR\\Anaconda33\\lib\\site-packages\\xgboost\\core.py:587: FutureWarning: Series.base is deprecated and will be removed in a future version\n",
      "  if getattr(data, 'base', None) is not None and \\\n"
     ]
    },
    {
     "name": "stdout",
     "output_type": "stream",
     "text": [
      "[CV]  subsample=0.5, n_estimators=1100, min_child_parameters=3, max_depth=20, learning_rate=0.7, total=   0.9s\n",
      "[CV] subsample=0.5, n_estimators=1100, min_child_parameters=3, max_depth=20, learning_rate=0.7 \n",
      "[11:49:57] WARNING: src/objective/regression_obj.cu:152: reg:linear is now deprecated in favor of reg:squarederror.\n"
     ]
    },
    {
     "name": "stderr",
     "output_type": "stream",
     "text": [
      "C:\\Users\\K T KUMAR\\Anaconda33\\lib\\site-packages\\xgboost\\core.py:587: FutureWarning: Series.base is deprecated and will be removed in a future version\n",
      "  if getattr(data, 'base', None) is not None and \\\n"
     ]
    },
    {
     "name": "stdout",
     "output_type": "stream",
     "text": [
      "[CV]  subsample=0.5, n_estimators=1100, min_child_parameters=3, max_depth=20, learning_rate=0.7, total=   0.9s\n",
      "[CV] subsample=0.7, n_estimators=1200, min_child_parameters=5, max_depth=10, learning_rate=0.3 \n",
      "[11:49:57] WARNING: src/objective/regression_obj.cu:152: reg:linear is now deprecated in favor of reg:squarederror.\n"
     ]
    },
    {
     "name": "stderr",
     "output_type": "stream",
     "text": [
      "C:\\Users\\K T KUMAR\\Anaconda33\\lib\\site-packages\\xgboost\\core.py:587: FutureWarning: Series.base is deprecated and will be removed in a future version\n",
      "  if getattr(data, 'base', None) is not None and \\\n"
     ]
    },
    {
     "name": "stdout",
     "output_type": "stream",
     "text": [
      "[CV]  subsample=0.7, n_estimators=1200, min_child_parameters=5, max_depth=10, learning_rate=0.3, total=   1.0s\n",
      "[CV] subsample=0.7, n_estimators=1200, min_child_parameters=5, max_depth=10, learning_rate=0.3 \n",
      "[11:49:58] WARNING: src/objective/regression_obj.cu:152: reg:linear is now deprecated in favor of reg:squarederror.\n"
     ]
    },
    {
     "name": "stderr",
     "output_type": "stream",
     "text": [
      "C:\\Users\\K T KUMAR\\Anaconda33\\lib\\site-packages\\xgboost\\core.py:587: FutureWarning: Series.base is deprecated and will be removed in a future version\n",
      "  if getattr(data, 'base', None) is not None and \\\n"
     ]
    },
    {
     "name": "stdout",
     "output_type": "stream",
     "text": [
      "[CV]  subsample=0.7, n_estimators=1200, min_child_parameters=5, max_depth=10, learning_rate=0.3, total=   0.9s\n",
      "[CV] subsample=0.7, n_estimators=1200, min_child_parameters=5, max_depth=10, learning_rate=0.3 \n",
      "[11:49:59] WARNING: src/objective/regression_obj.cu:152: reg:linear is now deprecated in favor of reg:squarederror.\n"
     ]
    },
    {
     "name": "stderr",
     "output_type": "stream",
     "text": [
      "C:\\Users\\K T KUMAR\\Anaconda33\\lib\\site-packages\\xgboost\\core.py:587: FutureWarning: Series.base is deprecated and will be removed in a future version\n",
      "  if getattr(data, 'base', None) is not None and \\\n"
     ]
    },
    {
     "name": "stdout",
     "output_type": "stream",
     "text": [
      "[CV]  subsample=0.7, n_estimators=1200, min_child_parameters=5, max_depth=10, learning_rate=0.3, total=   0.9s\n",
      "[CV] subsample=0.7, n_estimators=1200, min_child_parameters=5, max_depth=10, learning_rate=0.3 \n",
      "[11:50:00] WARNING: src/objective/regression_obj.cu:152: reg:linear is now deprecated in favor of reg:squarederror.\n"
     ]
    },
    {
     "name": "stderr",
     "output_type": "stream",
     "text": [
      "C:\\Users\\K T KUMAR\\Anaconda33\\lib\\site-packages\\xgboost\\core.py:587: FutureWarning: Series.base is deprecated and will be removed in a future version\n",
      "  if getattr(data, 'base', None) is not None and \\\n"
     ]
    },
    {
     "name": "stdout",
     "output_type": "stream",
     "text": [
      "[CV]  subsample=0.7, n_estimators=1200, min_child_parameters=5, max_depth=10, learning_rate=0.3, total=   0.9s\n",
      "[CV] subsample=0.7, n_estimators=800, min_child_parameters=3, max_depth=30, learning_rate=0.2 \n",
      "[11:50:01] WARNING: src/objective/regression_obj.cu:152: reg:linear is now deprecated in favor of reg:squarederror.\n"
     ]
    },
    {
     "name": "stderr",
     "output_type": "stream",
     "text": [
      "C:\\Users\\K T KUMAR\\Anaconda33\\lib\\site-packages\\xgboost\\core.py:587: FutureWarning: Series.base is deprecated and will be removed in a future version\n",
      "  if getattr(data, 'base', None) is not None and \\\n"
     ]
    },
    {
     "name": "stdout",
     "output_type": "stream",
     "text": [
      "[CV]  subsample=0.7, n_estimators=800, min_child_parameters=3, max_depth=30, learning_rate=0.2, total=   1.3s\n",
      "[CV] subsample=0.7, n_estimators=800, min_child_parameters=3, max_depth=30, learning_rate=0.2 \n",
      "[11:50:02] WARNING: src/objective/regression_obj.cu:152: reg:linear is now deprecated in favor of reg:squarederror.\n"
     ]
    },
    {
     "name": "stderr",
     "output_type": "stream",
     "text": [
      "C:\\Users\\K T KUMAR\\Anaconda33\\lib\\site-packages\\xgboost\\core.py:587: FutureWarning: Series.base is deprecated and will be removed in a future version\n",
      "  if getattr(data, 'base', None) is not None and \\\n"
     ]
    },
    {
     "name": "stdout",
     "output_type": "stream",
     "text": [
      "[CV]  subsample=0.7, n_estimators=800, min_child_parameters=3, max_depth=30, learning_rate=0.2, total=   1.2s\n",
      "[CV] subsample=0.7, n_estimators=800, min_child_parameters=3, max_depth=30, learning_rate=0.2 \n",
      "[11:50:04] WARNING: src/objective/regression_obj.cu:152: reg:linear is now deprecated in favor of reg:squarederror.\n"
     ]
    },
    {
     "name": "stderr",
     "output_type": "stream",
     "text": [
      "C:\\Users\\K T KUMAR\\Anaconda33\\lib\\site-packages\\xgboost\\core.py:587: FutureWarning: Series.base is deprecated and will be removed in a future version\n",
      "  if getattr(data, 'base', None) is not None and \\\n"
     ]
    },
    {
     "name": "stdout",
     "output_type": "stream",
     "text": [
      "[CV]  subsample=0.7, n_estimators=800, min_child_parameters=3, max_depth=30, learning_rate=0.2, total=   1.2s\n",
      "[CV] subsample=0.7, n_estimators=800, min_child_parameters=3, max_depth=30, learning_rate=0.2 \n",
      "[11:50:05] WARNING: src/objective/regression_obj.cu:152: reg:linear is now deprecated in favor of reg:squarederror.\n"
     ]
    },
    {
     "name": "stderr",
     "output_type": "stream",
     "text": [
      "C:\\Users\\K T KUMAR\\Anaconda33\\lib\\site-packages\\xgboost\\core.py:587: FutureWarning: Series.base is deprecated and will be removed in a future version\n",
      "  if getattr(data, 'base', None) is not None and \\\n"
     ]
    },
    {
     "name": "stdout",
     "output_type": "stream",
     "text": [
      "[CV]  subsample=0.7, n_estimators=800, min_child_parameters=3, max_depth=30, learning_rate=0.2, total=   1.3s\n",
      "[CV] subsample=0.8, n_estimators=400, min_child_parameters=4, max_depth=30, learning_rate=0.6 \n",
      "[11:50:06] WARNING: src/objective/regression_obj.cu:152: reg:linear is now deprecated in favor of reg:squarederror.\n"
     ]
    },
    {
     "name": "stderr",
     "output_type": "stream",
     "text": [
      "C:\\Users\\K T KUMAR\\Anaconda33\\lib\\site-packages\\xgboost\\core.py:587: FutureWarning: Series.base is deprecated and will be removed in a future version\n",
      "  if getattr(data, 'base', None) is not None and \\\n"
     ]
    },
    {
     "name": "stdout",
     "output_type": "stream",
     "text": [
      "[CV]  subsample=0.8, n_estimators=400, min_child_parameters=4, max_depth=30, learning_rate=0.6, total=   0.5s\n",
      "[CV] subsample=0.8, n_estimators=400, min_child_parameters=4, max_depth=30, learning_rate=0.6 \n",
      "[11:50:07] WARNING: src/objective/regression_obj.cu:152: reg:linear is now deprecated in favor of reg:squarederror.\n"
     ]
    },
    {
     "name": "stderr",
     "output_type": "stream",
     "text": [
      "C:\\Users\\K T KUMAR\\Anaconda33\\lib\\site-packages\\xgboost\\core.py:587: FutureWarning: Series.base is deprecated and will be removed in a future version\n",
      "  if getattr(data, 'base', None) is not None and \\\n"
     ]
    },
    {
     "name": "stdout",
     "output_type": "stream",
     "text": [
      "[CV]  subsample=0.8, n_estimators=400, min_child_parameters=4, max_depth=30, learning_rate=0.6, total=   0.4s\n",
      "[CV] subsample=0.8, n_estimators=400, min_child_parameters=4, max_depth=30, learning_rate=0.6 \n",
      "[11:50:07] WARNING: src/objective/regression_obj.cu:152: reg:linear is now deprecated in favor of reg:squarederror.\n"
     ]
    },
    {
     "name": "stderr",
     "output_type": "stream",
     "text": [
      "C:\\Users\\K T KUMAR\\Anaconda33\\lib\\site-packages\\xgboost\\core.py:587: FutureWarning: Series.base is deprecated and will be removed in a future version\n",
      "  if getattr(data, 'base', None) is not None and \\\n"
     ]
    },
    {
     "name": "stdout",
     "output_type": "stream",
     "text": [
      "[CV]  subsample=0.8, n_estimators=400, min_child_parameters=4, max_depth=30, learning_rate=0.6, total=   0.5s\n",
      "[CV] subsample=0.8, n_estimators=400, min_child_parameters=4, max_depth=30, learning_rate=0.6 \n",
      "[11:50:08] WARNING: src/objective/regression_obj.cu:152: reg:linear is now deprecated in favor of reg:squarederror.\n"
     ]
    },
    {
     "name": "stderr",
     "output_type": "stream",
     "text": [
      "C:\\Users\\K T KUMAR\\Anaconda33\\lib\\site-packages\\xgboost\\core.py:587: FutureWarning: Series.base is deprecated and will be removed in a future version\n",
      "  if getattr(data, 'base', None) is not None and \\\n"
     ]
    },
    {
     "name": "stdout",
     "output_type": "stream",
     "text": [
      "[CV]  subsample=0.8, n_estimators=400, min_child_parameters=4, max_depth=30, learning_rate=0.6, total=   0.4s\n",
      "[CV] subsample=0.5, n_estimators=300, min_child_parameters=4, max_depth=30, learning_rate=0.2 \n",
      "[11:50:08] WARNING: src/objective/regression_obj.cu:152: reg:linear is now deprecated in favor of reg:squarederror.\n"
     ]
    },
    {
     "name": "stderr",
     "output_type": "stream",
     "text": [
      "C:\\Users\\K T KUMAR\\Anaconda33\\lib\\site-packages\\xgboost\\core.py:587: FutureWarning: Series.base is deprecated and will be removed in a future version\n",
      "  if getattr(data, 'base', None) is not None and \\\n"
     ]
    },
    {
     "name": "stdout",
     "output_type": "stream",
     "text": [
      "[CV]  subsample=0.5, n_estimators=300, min_child_parameters=4, max_depth=30, learning_rate=0.2, total=   1.4s\n",
      "[CV] subsample=0.5, n_estimators=300, min_child_parameters=4, max_depth=30, learning_rate=0.2 \n",
      "[11:50:09] WARNING: src/objective/regression_obj.cu:152: reg:linear is now deprecated in favor of reg:squarederror.\n"
     ]
    },
    {
     "name": "stderr",
     "output_type": "stream",
     "text": [
      "C:\\Users\\K T KUMAR\\Anaconda33\\lib\\site-packages\\xgboost\\core.py:587: FutureWarning: Series.base is deprecated and will be removed in a future version\n",
      "  if getattr(data, 'base', None) is not None and \\\n"
     ]
    },
    {
     "name": "stdout",
     "output_type": "stream",
     "text": [
      "[CV]  subsample=0.5, n_estimators=300, min_child_parameters=4, max_depth=30, learning_rate=0.2, total=   1.3s\n",
      "[CV] subsample=0.5, n_estimators=300, min_child_parameters=4, max_depth=30, learning_rate=0.2 \n",
      "[11:50:11] WARNING: src/objective/regression_obj.cu:152: reg:linear is now deprecated in favor of reg:squarederror.\n"
     ]
    },
    {
     "name": "stderr",
     "output_type": "stream",
     "text": [
      "C:\\Users\\K T KUMAR\\Anaconda33\\lib\\site-packages\\xgboost\\core.py:587: FutureWarning: Series.base is deprecated and will be removed in a future version\n",
      "  if getattr(data, 'base', None) is not None and \\\n"
     ]
    },
    {
     "name": "stdout",
     "output_type": "stream",
     "text": [
      "[CV]  subsample=0.5, n_estimators=300, min_child_parameters=4, max_depth=30, learning_rate=0.2, total=   1.3s\n",
      "[CV] subsample=0.5, n_estimators=300, min_child_parameters=4, max_depth=30, learning_rate=0.2 \n",
      "[11:50:12] WARNING: src/objective/regression_obj.cu:152: reg:linear is now deprecated in favor of reg:squarederror.\n"
     ]
    },
    {
     "name": "stderr",
     "output_type": "stream",
     "text": [
      "C:\\Users\\K T KUMAR\\Anaconda33\\lib\\site-packages\\xgboost\\core.py:587: FutureWarning: Series.base is deprecated and will be removed in a future version\n",
      "  if getattr(data, 'base', None) is not None and \\\n"
     ]
    },
    {
     "name": "stdout",
     "output_type": "stream",
     "text": [
      "[CV]  subsample=0.5, n_estimators=300, min_child_parameters=4, max_depth=30, learning_rate=0.2, total=   1.4s\n",
      "[CV] subsample=0.7, n_estimators=300, min_child_parameters=7, max_depth=20, learning_rate=0.5 \n",
      "[11:50:13] WARNING: src/objective/regression_obj.cu:152: reg:linear is now deprecated in favor of reg:squarederror.\n"
     ]
    },
    {
     "name": "stderr",
     "output_type": "stream",
     "text": [
      "C:\\Users\\K T KUMAR\\Anaconda33\\lib\\site-packages\\xgboost\\core.py:587: FutureWarning: Series.base is deprecated and will be removed in a future version\n",
      "  if getattr(data, 'base', None) is not None and \\\n"
     ]
    },
    {
     "name": "stdout",
     "output_type": "stream",
     "text": [
      "[CV]  subsample=0.7, n_estimators=300, min_child_parameters=7, max_depth=20, learning_rate=0.5, total=   0.5s\n",
      "[CV] subsample=0.7, n_estimators=300, min_child_parameters=7, max_depth=20, learning_rate=0.5 \n",
      "[11:50:14] WARNING: src/objective/regression_obj.cu:152: reg:linear is now deprecated in favor of reg:squarederror.\n"
     ]
    },
    {
     "name": "stderr",
     "output_type": "stream",
     "text": [
      "C:\\Users\\K T KUMAR\\Anaconda33\\lib\\site-packages\\xgboost\\core.py:587: FutureWarning: Series.base is deprecated and will be removed in a future version\n",
      "  if getattr(data, 'base', None) is not None and \\\n"
     ]
    },
    {
     "name": "stdout",
     "output_type": "stream",
     "text": [
      "[CV]  subsample=0.7, n_estimators=300, min_child_parameters=7, max_depth=20, learning_rate=0.5, total=   0.5s\n",
      "[CV] subsample=0.7, n_estimators=300, min_child_parameters=7, max_depth=20, learning_rate=0.5 \n",
      "[11:50:14] WARNING: src/objective/regression_obj.cu:152: reg:linear is now deprecated in favor of reg:squarederror.\n"
     ]
    },
    {
     "name": "stderr",
     "output_type": "stream",
     "text": [
      "C:\\Users\\K T KUMAR\\Anaconda33\\lib\\site-packages\\xgboost\\core.py:587: FutureWarning: Series.base is deprecated and will be removed in a future version\n",
      "  if getattr(data, 'base', None) is not None and \\\n"
     ]
    },
    {
     "name": "stdout",
     "output_type": "stream",
     "text": [
      "[CV]  subsample=0.7, n_estimators=300, min_child_parameters=7, max_depth=20, learning_rate=0.5, total=   0.5s\n",
      "[CV] subsample=0.7, n_estimators=300, min_child_parameters=7, max_depth=20, learning_rate=0.5 \n",
      "[11:50:15] WARNING: src/objective/regression_obj.cu:152: reg:linear is now deprecated in favor of reg:squarederror.\n"
     ]
    },
    {
     "name": "stderr",
     "output_type": "stream",
     "text": [
      "C:\\Users\\K T KUMAR\\Anaconda33\\lib\\site-packages\\xgboost\\core.py:587: FutureWarning: Series.base is deprecated and will be removed in a future version\n",
      "  if getattr(data, 'base', None) is not None and \\\n"
     ]
    },
    {
     "name": "stdout",
     "output_type": "stream",
     "text": [
      "[CV]  subsample=0.7, n_estimators=300, min_child_parameters=7, max_depth=20, learning_rate=0.5, total=   0.5s\n",
      "[CV] subsample=0.7, n_estimators=1200, min_child_parameters=3, max_depth=30, learning_rate=0.5 \n",
      "[11:50:15] WARNING: src/objective/regression_obj.cu:152: reg:linear is now deprecated in favor of reg:squarederror.\n"
     ]
    },
    {
     "name": "stderr",
     "output_type": "stream",
     "text": [
      "C:\\Users\\K T KUMAR\\Anaconda33\\lib\\site-packages\\xgboost\\core.py:587: FutureWarning: Series.base is deprecated and will be removed in a future version\n",
      "  if getattr(data, 'base', None) is not None and \\\n"
     ]
    },
    {
     "name": "stdout",
     "output_type": "stream",
     "text": [
      "[CV]  subsample=0.7, n_estimators=1200, min_child_parameters=3, max_depth=30, learning_rate=0.5, total=   0.9s\n",
      "[CV] subsample=0.7, n_estimators=1200, min_child_parameters=3, max_depth=30, learning_rate=0.5 \n",
      "[11:50:16] WARNING: src/objective/regression_obj.cu:152: reg:linear is now deprecated in favor of reg:squarederror.\n"
     ]
    },
    {
     "name": "stderr",
     "output_type": "stream",
     "text": [
      "C:\\Users\\K T KUMAR\\Anaconda33\\lib\\site-packages\\xgboost\\core.py:587: FutureWarning: Series.base is deprecated and will be removed in a future version\n",
      "  if getattr(data, 'base', None) is not None and \\\n"
     ]
    },
    {
     "name": "stdout",
     "output_type": "stream",
     "text": [
      "[CV]  subsample=0.7, n_estimators=1200, min_child_parameters=3, max_depth=30, learning_rate=0.5, total=   0.9s\n",
      "[CV] subsample=0.7, n_estimators=1200, min_child_parameters=3, max_depth=30, learning_rate=0.5 \n",
      "[11:50:17] WARNING: src/objective/regression_obj.cu:152: reg:linear is now deprecated in favor of reg:squarederror.\n"
     ]
    },
    {
     "name": "stderr",
     "output_type": "stream",
     "text": [
      "C:\\Users\\K T KUMAR\\Anaconda33\\lib\\site-packages\\xgboost\\core.py:587: FutureWarning: Series.base is deprecated and will be removed in a future version\n",
      "  if getattr(data, 'base', None) is not None and \\\n"
     ]
    },
    {
     "name": "stdout",
     "output_type": "stream",
     "text": [
      "[CV]  subsample=0.7, n_estimators=1200, min_child_parameters=3, max_depth=30, learning_rate=0.5, total=   0.8s\n",
      "[CV] subsample=0.7, n_estimators=1200, min_child_parameters=3, max_depth=30, learning_rate=0.5 \n",
      "[11:50:18] WARNING: src/objective/regression_obj.cu:152: reg:linear is now deprecated in favor of reg:squarederror.\n"
     ]
    },
    {
     "name": "stderr",
     "output_type": "stream",
     "text": [
      "C:\\Users\\K T KUMAR\\Anaconda33\\lib\\site-packages\\xgboost\\core.py:587: FutureWarning: Series.base is deprecated and will be removed in a future version\n",
      "  if getattr(data, 'base', None) is not None and \\\n"
     ]
    },
    {
     "name": "stdout",
     "output_type": "stream",
     "text": [
      "[CV]  subsample=0.7, n_estimators=1200, min_child_parameters=3, max_depth=30, learning_rate=0.5, total=   0.9s\n",
      "[CV] subsample=0.8, n_estimators=1200, min_child_parameters=4, max_depth=5, learning_rate=0.2 \n",
      "[11:50:19] WARNING: src/objective/regression_obj.cu:152: reg:linear is now deprecated in favor of reg:squarederror.\n"
     ]
    },
    {
     "name": "stderr",
     "output_type": "stream",
     "text": [
      "C:\\Users\\K T KUMAR\\Anaconda33\\lib\\site-packages\\xgboost\\core.py:587: FutureWarning: Series.base is deprecated and will be removed in a future version\n",
      "  if getattr(data, 'base', None) is not None and \\\n"
     ]
    },
    {
     "name": "stdout",
     "output_type": "stream",
     "text": [
      "[CV]  subsample=0.8, n_estimators=1200, min_child_parameters=4, max_depth=5, learning_rate=0.2, total=   1.3s\n",
      "[CV] subsample=0.8, n_estimators=1200, min_child_parameters=4, max_depth=5, learning_rate=0.2 \n",
      "[11:50:20] WARNING: src/objective/regression_obj.cu:152: reg:linear is now deprecated in favor of reg:squarederror.\n"
     ]
    },
    {
     "name": "stderr",
     "output_type": "stream",
     "text": [
      "C:\\Users\\K T KUMAR\\Anaconda33\\lib\\site-packages\\xgboost\\core.py:587: FutureWarning: Series.base is deprecated and will be removed in a future version\n",
      "  if getattr(data, 'base', None) is not None and \\\n"
     ]
    },
    {
     "name": "stdout",
     "output_type": "stream",
     "text": [
      "[CV]  subsample=0.8, n_estimators=1200, min_child_parameters=4, max_depth=5, learning_rate=0.2, total=   1.3s\n",
      "[CV] subsample=0.8, n_estimators=1200, min_child_parameters=4, max_depth=5, learning_rate=0.2 \n",
      "[11:50:21] WARNING: src/objective/regression_obj.cu:152: reg:linear is now deprecated in favor of reg:squarederror.\n"
     ]
    },
    {
     "name": "stderr",
     "output_type": "stream",
     "text": [
      "C:\\Users\\K T KUMAR\\Anaconda33\\lib\\site-packages\\xgboost\\core.py:587: FutureWarning: Series.base is deprecated and will be removed in a future version\n",
      "  if getattr(data, 'base', None) is not None and \\\n"
     ]
    },
    {
     "name": "stdout",
     "output_type": "stream",
     "text": [
      "[CV]  subsample=0.8, n_estimators=1200, min_child_parameters=4, max_depth=5, learning_rate=0.2, total=   1.3s\n",
      "[CV] subsample=0.8, n_estimators=1200, min_child_parameters=4, max_depth=5, learning_rate=0.2 \n",
      "[11:50:23] WARNING: src/objective/regression_obj.cu:152: reg:linear is now deprecated in favor of reg:squarederror.\n"
     ]
    },
    {
     "name": "stderr",
     "output_type": "stream",
     "text": [
      "C:\\Users\\K T KUMAR\\Anaconda33\\lib\\site-packages\\xgboost\\core.py:587: FutureWarning: Series.base is deprecated and will be removed in a future version\n",
      "  if getattr(data, 'base', None) is not None and \\\n"
     ]
    },
    {
     "name": "stdout",
     "output_type": "stream",
     "text": [
      "[CV]  subsample=0.8, n_estimators=1200, min_child_parameters=4, max_depth=5, learning_rate=0.2, total=   1.2s\n",
      "[CV] subsample=0.5, n_estimators=100, min_child_parameters=6, max_depth=20, learning_rate=0.6 \n",
      "[11:50:24] WARNING: src/objective/regression_obj.cu:152: reg:linear is now deprecated in favor of reg:squarederror.\n"
     ]
    },
    {
     "name": "stderr",
     "output_type": "stream",
     "text": [
      "C:\\Users\\K T KUMAR\\Anaconda33\\lib\\site-packages\\xgboost\\core.py:587: FutureWarning: Series.base is deprecated and will be removed in a future version\n",
      "  if getattr(data, 'base', None) is not None and \\\n"
     ]
    },
    {
     "name": "stdout",
     "output_type": "stream",
     "text": [
      "[CV]  subsample=0.5, n_estimators=100, min_child_parameters=6, max_depth=20, learning_rate=0.6, total=   0.5s\n",
      "[CV] subsample=0.5, n_estimators=100, min_child_parameters=6, max_depth=20, learning_rate=0.6 \n",
      "[11:50:24] WARNING: src/objective/regression_obj.cu:152: reg:linear is now deprecated in favor of reg:squarederror.\n"
     ]
    },
    {
     "name": "stderr",
     "output_type": "stream",
     "text": [
      "C:\\Users\\K T KUMAR\\Anaconda33\\lib\\site-packages\\xgboost\\core.py:587: FutureWarning: Series.base is deprecated and will be removed in a future version\n",
      "  if getattr(data, 'base', None) is not None and \\\n"
     ]
    },
    {
     "name": "stdout",
     "output_type": "stream",
     "text": [
      "[CV]  subsample=0.5, n_estimators=100, min_child_parameters=6, max_depth=20, learning_rate=0.6, total=   0.5s\n",
      "[CV] subsample=0.5, n_estimators=100, min_child_parameters=6, max_depth=20, learning_rate=0.6 \n",
      "[11:50:25] WARNING: src/objective/regression_obj.cu:152: reg:linear is now deprecated in favor of reg:squarederror.\n"
     ]
    },
    {
     "name": "stderr",
     "output_type": "stream",
     "text": [
      "C:\\Users\\K T KUMAR\\Anaconda33\\lib\\site-packages\\xgboost\\core.py:587: FutureWarning: Series.base is deprecated and will be removed in a future version\n",
      "  if getattr(data, 'base', None) is not None and \\\n"
     ]
    },
    {
     "name": "stdout",
     "output_type": "stream",
     "text": [
      "[CV]  subsample=0.5, n_estimators=100, min_child_parameters=6, max_depth=20, learning_rate=0.6, total=   0.5s\n",
      "[CV] subsample=0.5, n_estimators=100, min_child_parameters=6, max_depth=20, learning_rate=0.6 \n",
      "[11:50:25] WARNING: src/objective/regression_obj.cu:152: reg:linear is now deprecated in favor of reg:squarederror.\n"
     ]
    },
    {
     "name": "stderr",
     "output_type": "stream",
     "text": [
      "C:\\Users\\K T KUMAR\\Anaconda33\\lib\\site-packages\\xgboost\\core.py:587: FutureWarning: Series.base is deprecated and will be removed in a future version\n",
      "  if getattr(data, 'base', None) is not None and \\\n"
     ]
    },
    {
     "name": "stdout",
     "output_type": "stream",
     "text": [
      "[CV]  subsample=0.5, n_estimators=100, min_child_parameters=6, max_depth=20, learning_rate=0.6, total=   0.5s\n",
      "[CV] subsample=0.8, n_estimators=800, min_child_parameters=7, max_depth=25, learning_rate=0.7 \n",
      "[11:50:26] WARNING: src/objective/regression_obj.cu:152: reg:linear is now deprecated in favor of reg:squarederror.\n"
     ]
    },
    {
     "name": "stderr",
     "output_type": "stream",
     "text": [
      "C:\\Users\\K T KUMAR\\Anaconda33\\lib\\site-packages\\xgboost\\core.py:587: FutureWarning: Series.base is deprecated and will be removed in a future version\n",
      "  if getattr(data, 'base', None) is not None and \\\n"
     ]
    },
    {
     "name": "stdout",
     "output_type": "stream",
     "text": [
      "[CV]  subsample=0.8, n_estimators=800, min_child_parameters=7, max_depth=25, learning_rate=0.7, total=   0.5s\n",
      "[CV] subsample=0.8, n_estimators=800, min_child_parameters=7, max_depth=25, learning_rate=0.7 \n",
      "[11:50:26] WARNING: src/objective/regression_obj.cu:152: reg:linear is now deprecated in favor of reg:squarederror.\n"
     ]
    },
    {
     "name": "stderr",
     "output_type": "stream",
     "text": [
      "C:\\Users\\K T KUMAR\\Anaconda33\\lib\\site-packages\\xgboost\\core.py:587: FutureWarning: Series.base is deprecated and will be removed in a future version\n",
      "  if getattr(data, 'base', None) is not None and \\\n"
     ]
    },
    {
     "name": "stdout",
     "output_type": "stream",
     "text": [
      "[CV]  subsample=0.8, n_estimators=800, min_child_parameters=7, max_depth=25, learning_rate=0.7, total=   0.5s\n",
      "[CV] subsample=0.8, n_estimators=800, min_child_parameters=7, max_depth=25, learning_rate=0.7 \n",
      "[11:50:27] WARNING: src/objective/regression_obj.cu:152: reg:linear is now deprecated in favor of reg:squarederror.\n"
     ]
    },
    {
     "name": "stderr",
     "output_type": "stream",
     "text": [
      "C:\\Users\\K T KUMAR\\Anaconda33\\lib\\site-packages\\xgboost\\core.py:587: FutureWarning: Series.base is deprecated and will be removed in a future version\n",
      "  if getattr(data, 'base', None) is not None and \\\n"
     ]
    },
    {
     "name": "stdout",
     "output_type": "stream",
     "text": [
      "[CV]  subsample=0.8, n_estimators=800, min_child_parameters=7, max_depth=25, learning_rate=0.7, total=   0.5s\n",
      "[CV] subsample=0.8, n_estimators=800, min_child_parameters=7, max_depth=25, learning_rate=0.7 \n",
      "[11:50:28] WARNING: src/objective/regression_obj.cu:152: reg:linear is now deprecated in favor of reg:squarederror.\n"
     ]
    },
    {
     "name": "stderr",
     "output_type": "stream",
     "text": [
      "C:\\Users\\K T KUMAR\\Anaconda33\\lib\\site-packages\\xgboost\\core.py:587: FutureWarning: Series.base is deprecated and will be removed in a future version\n",
      "  if getattr(data, 'base', None) is not None and \\\n"
     ]
    },
    {
     "name": "stdout",
     "output_type": "stream",
     "text": [
      "[CV]  subsample=0.8, n_estimators=800, min_child_parameters=7, max_depth=25, learning_rate=0.7, total=   0.5s\n",
      "[CV] subsample=0.8, n_estimators=200, min_child_parameters=5, max_depth=10, learning_rate=0.2 \n",
      "[11:50:28] WARNING: src/objective/regression_obj.cu:152: reg:linear is now deprecated in favor of reg:squarederror.\n"
     ]
    },
    {
     "name": "stderr",
     "output_type": "stream",
     "text": [
      "C:\\Users\\K T KUMAR\\Anaconda33\\lib\\site-packages\\xgboost\\core.py:587: FutureWarning: Series.base is deprecated and will be removed in a future version\n",
      "  if getattr(data, 'base', None) is not None and \\\n"
     ]
    },
    {
     "name": "stdout",
     "output_type": "stream",
     "text": [
      "[CV]  subsample=0.8, n_estimators=200, min_child_parameters=5, max_depth=10, learning_rate=0.2, total=   0.6s\n",
      "[CV] subsample=0.8, n_estimators=200, min_child_parameters=5, max_depth=10, learning_rate=0.2 \n",
      "[11:50:29] WARNING: src/objective/regression_obj.cu:152: reg:linear is now deprecated in favor of reg:squarederror.\n"
     ]
    },
    {
     "name": "stderr",
     "output_type": "stream",
     "text": [
      "C:\\Users\\K T KUMAR\\Anaconda33\\lib\\site-packages\\xgboost\\core.py:587: FutureWarning: Series.base is deprecated and will be removed in a future version\n",
      "  if getattr(data, 'base', None) is not None and \\\n"
     ]
    },
    {
     "name": "stdout",
     "output_type": "stream",
     "text": [
      "[CV]  subsample=0.8, n_estimators=200, min_child_parameters=5, max_depth=10, learning_rate=0.2, total=   0.6s\n",
      "[CV] subsample=0.8, n_estimators=200, min_child_parameters=5, max_depth=10, learning_rate=0.2 \n",
      "[11:50:29] WARNING: src/objective/regression_obj.cu:152: reg:linear is now deprecated in favor of reg:squarederror.\n"
     ]
    },
    {
     "name": "stderr",
     "output_type": "stream",
     "text": [
      "C:\\Users\\K T KUMAR\\Anaconda33\\lib\\site-packages\\xgboost\\core.py:587: FutureWarning: Series.base is deprecated and will be removed in a future version\n",
      "  if getattr(data, 'base', None) is not None and \\\n"
     ]
    },
    {
     "name": "stdout",
     "output_type": "stream",
     "text": [
      "[CV]  subsample=0.8, n_estimators=200, min_child_parameters=5, max_depth=10, learning_rate=0.2, total=   0.6s\n",
      "[CV] subsample=0.8, n_estimators=200, min_child_parameters=5, max_depth=10, learning_rate=0.2 \n",
      "[11:50:30] WARNING: src/objective/regression_obj.cu:152: reg:linear is now deprecated in favor of reg:squarederror.\n"
     ]
    },
    {
     "name": "stderr",
     "output_type": "stream",
     "text": [
      "C:\\Users\\K T KUMAR\\Anaconda33\\lib\\site-packages\\xgboost\\core.py:587: FutureWarning: Series.base is deprecated and will be removed in a future version\n",
      "  if getattr(data, 'base', None) is not None and \\\n"
     ]
    },
    {
     "name": "stdout",
     "output_type": "stream",
     "text": [
      "[CV]  subsample=0.8, n_estimators=200, min_child_parameters=5, max_depth=10, learning_rate=0.2, total=   0.6s\n",
      "[CV] subsample=0.5, n_estimators=200, min_child_parameters=7, max_depth=30, learning_rate=0.04 \n",
      "[11:50:31] WARNING: src/objective/regression_obj.cu:152: reg:linear is now deprecated in favor of reg:squarederror.\n"
     ]
    },
    {
     "name": "stderr",
     "output_type": "stream",
     "text": [
      "C:\\Users\\K T KUMAR\\Anaconda33\\lib\\site-packages\\xgboost\\core.py:587: FutureWarning: Series.base is deprecated and will be removed in a future version\n",
      "  if getattr(data, 'base', None) is not None and \\\n"
     ]
    },
    {
     "name": "stdout",
     "output_type": "stream",
     "text": [
      "[CV]  subsample=0.5, n_estimators=200, min_child_parameters=7, max_depth=30, learning_rate=0.04, total=   0.9s\n",
      "[CV] subsample=0.5, n_estimators=200, min_child_parameters=7, max_depth=30, learning_rate=0.04 \n",
      "[11:50:31] WARNING: src/objective/regression_obj.cu:152: reg:linear is now deprecated in favor of reg:squarederror.\n"
     ]
    },
    {
     "name": "stderr",
     "output_type": "stream",
     "text": [
      "C:\\Users\\K T KUMAR\\Anaconda33\\lib\\site-packages\\xgboost\\core.py:587: FutureWarning: Series.base is deprecated and will be removed in a future version\n",
      "  if getattr(data, 'base', None) is not None and \\\n"
     ]
    },
    {
     "name": "stdout",
     "output_type": "stream",
     "text": [
      "[CV]  subsample=0.5, n_estimators=200, min_child_parameters=7, max_depth=30, learning_rate=0.04, total=   0.9s\n",
      "[CV] subsample=0.5, n_estimators=200, min_child_parameters=7, max_depth=30, learning_rate=0.04 \n",
      "[11:50:32] WARNING: src/objective/regression_obj.cu:152: reg:linear is now deprecated in favor of reg:squarederror.\n"
     ]
    },
    {
     "name": "stderr",
     "output_type": "stream",
     "text": [
      "C:\\Users\\K T KUMAR\\Anaconda33\\lib\\site-packages\\xgboost\\core.py:587: FutureWarning: Series.base is deprecated and will be removed in a future version\n",
      "  if getattr(data, 'base', None) is not None and \\\n"
     ]
    },
    {
     "name": "stdout",
     "output_type": "stream",
     "text": [
      "[CV]  subsample=0.5, n_estimators=200, min_child_parameters=7, max_depth=30, learning_rate=0.04, total=   0.9s\n",
      "[CV] subsample=0.5, n_estimators=200, min_child_parameters=7, max_depth=30, learning_rate=0.04 \n",
      "[11:50:33] WARNING: src/objective/regression_obj.cu:152: reg:linear is now deprecated in favor of reg:squarederror.\n"
     ]
    },
    {
     "name": "stderr",
     "output_type": "stream",
     "text": [
      "C:\\Users\\K T KUMAR\\Anaconda33\\lib\\site-packages\\xgboost\\core.py:587: FutureWarning: Series.base is deprecated and will be removed in a future version\n",
      "  if getattr(data, 'base', None) is not None and \\\n"
     ]
    },
    {
     "name": "stdout",
     "output_type": "stream",
     "text": [
      "[CV]  subsample=0.5, n_estimators=200, min_child_parameters=7, max_depth=30, learning_rate=0.04, total=   0.9s\n",
      "[CV] subsample=0.8, n_estimators=1200, min_child_parameters=6, max_depth=5, learning_rate=0.2 \n",
      "[11:50:34] WARNING: src/objective/regression_obj.cu:152: reg:linear is now deprecated in favor of reg:squarederror.\n"
     ]
    },
    {
     "name": "stderr",
     "output_type": "stream",
     "text": [
      "C:\\Users\\K T KUMAR\\Anaconda33\\lib\\site-packages\\xgboost\\core.py:587: FutureWarning: Series.base is deprecated and will be removed in a future version\n",
      "  if getattr(data, 'base', None) is not None and \\\n"
     ]
    },
    {
     "name": "stdout",
     "output_type": "stream",
     "text": [
      "[CV]  subsample=0.8, n_estimators=1200, min_child_parameters=6, max_depth=5, learning_rate=0.2, total=   1.2s\n",
      "[CV] subsample=0.8, n_estimators=1200, min_child_parameters=6, max_depth=5, learning_rate=0.2 \n",
      "[11:50:35] WARNING: src/objective/regression_obj.cu:152: reg:linear is now deprecated in favor of reg:squarederror.\n"
     ]
    },
    {
     "name": "stderr",
     "output_type": "stream",
     "text": [
      "C:\\Users\\K T KUMAR\\Anaconda33\\lib\\site-packages\\xgboost\\core.py:587: FutureWarning: Series.base is deprecated and will be removed in a future version\n",
      "  if getattr(data, 'base', None) is not None and \\\n"
     ]
    },
    {
     "name": "stdout",
     "output_type": "stream",
     "text": [
      "[CV]  subsample=0.8, n_estimators=1200, min_child_parameters=6, max_depth=5, learning_rate=0.2, total=   1.3s\n",
      "[CV] subsample=0.8, n_estimators=1200, min_child_parameters=6, max_depth=5, learning_rate=0.2 \n",
      "[11:50:37] WARNING: src/objective/regression_obj.cu:152: reg:linear is now deprecated in favor of reg:squarederror.\n"
     ]
    },
    {
     "name": "stderr",
     "output_type": "stream",
     "text": [
      "C:\\Users\\K T KUMAR\\Anaconda33\\lib\\site-packages\\xgboost\\core.py:587: FutureWarning: Series.base is deprecated and will be removed in a future version\n",
      "  if getattr(data, 'base', None) is not None and \\\n"
     ]
    },
    {
     "name": "stdout",
     "output_type": "stream",
     "text": [
      "[CV]  subsample=0.8, n_estimators=1200, min_child_parameters=6, max_depth=5, learning_rate=0.2, total=   1.3s\n",
      "[CV] subsample=0.8, n_estimators=1200, min_child_parameters=6, max_depth=5, learning_rate=0.2 \n",
      "[11:50:38] WARNING: src/objective/regression_obj.cu:152: reg:linear is now deprecated in favor of reg:squarederror.\n"
     ]
    },
    {
     "name": "stderr",
     "output_type": "stream",
     "text": [
      "C:\\Users\\K T KUMAR\\Anaconda33\\lib\\site-packages\\xgboost\\core.py:587: FutureWarning: Series.base is deprecated and will be removed in a future version\n",
      "  if getattr(data, 'base', None) is not None and \\\n"
     ]
    },
    {
     "name": "stdout",
     "output_type": "stream",
     "text": [
      "[CV]  subsample=0.8, n_estimators=1200, min_child_parameters=6, max_depth=5, learning_rate=0.2, total=   1.2s\n",
      "[CV] subsample=0.7, n_estimators=100, min_child_parameters=6, max_depth=15, learning_rate=0.04 \n",
      "[11:50:39] WARNING: src/objective/regression_obj.cu:152: reg:linear is now deprecated in favor of reg:squarederror.\n"
     ]
    },
    {
     "name": "stderr",
     "output_type": "stream",
     "text": [
      "C:\\Users\\K T KUMAR\\Anaconda33\\lib\\site-packages\\xgboost\\core.py:587: FutureWarning: Series.base is deprecated and will be removed in a future version\n",
      "  if getattr(data, 'base', None) is not None and \\\n"
     ]
    },
    {
     "name": "stdout",
     "output_type": "stream",
     "text": [
      "[CV]  subsample=0.7, n_estimators=100, min_child_parameters=6, max_depth=15, learning_rate=0.04, total=   0.4s\n",
      "[CV] subsample=0.7, n_estimators=100, min_child_parameters=6, max_depth=15, learning_rate=0.04 \n",
      "[11:50:40] WARNING: src/objective/regression_obj.cu:152: reg:linear is now deprecated in favor of reg:squarederror.\n"
     ]
    },
    {
     "name": "stderr",
     "output_type": "stream",
     "text": [
      "C:\\Users\\K T KUMAR\\Anaconda33\\lib\\site-packages\\xgboost\\core.py:587: FutureWarning: Series.base is deprecated and will be removed in a future version\n",
      "  if getattr(data, 'base', None) is not None and \\\n"
     ]
    },
    {
     "name": "stdout",
     "output_type": "stream",
     "text": [
      "[CV]  subsample=0.7, n_estimators=100, min_child_parameters=6, max_depth=15, learning_rate=0.04, total=   0.4s\n",
      "[CV] subsample=0.7, n_estimators=100, min_child_parameters=6, max_depth=15, learning_rate=0.04 \n",
      "[11:50:40] WARNING: src/objective/regression_obj.cu:152: reg:linear is now deprecated in favor of reg:squarederror.\n"
     ]
    },
    {
     "name": "stderr",
     "output_type": "stream",
     "text": [
      "C:\\Users\\K T KUMAR\\Anaconda33\\lib\\site-packages\\xgboost\\core.py:587: FutureWarning: Series.base is deprecated and will be removed in a future version\n",
      "  if getattr(data, 'base', None) is not None and \\\n"
     ]
    },
    {
     "name": "stdout",
     "output_type": "stream",
     "text": [
      "[CV]  subsample=0.7, n_estimators=100, min_child_parameters=6, max_depth=15, learning_rate=0.04, total=   0.4s\n",
      "[CV] subsample=0.7, n_estimators=100, min_child_parameters=6, max_depth=15, learning_rate=0.04 \n",
      "[11:50:41] WARNING: src/objective/regression_obj.cu:152: reg:linear is now deprecated in favor of reg:squarederror.\n"
     ]
    },
    {
     "name": "stderr",
     "output_type": "stream",
     "text": [
      "C:\\Users\\K T KUMAR\\Anaconda33\\lib\\site-packages\\xgboost\\core.py:587: FutureWarning: Series.base is deprecated and will be removed in a future version\n",
      "  if getattr(data, 'base', None) is not None and \\\n"
     ]
    },
    {
     "name": "stdout",
     "output_type": "stream",
     "text": [
      "[CV]  subsample=0.7, n_estimators=100, min_child_parameters=6, max_depth=15, learning_rate=0.04, total=   0.4s\n",
      "[CV] subsample=0.7, n_estimators=1000, min_child_parameters=7, max_depth=15, learning_rate=0.2 \n",
      "[11:50:41] WARNING: src/objective/regression_obj.cu:152: reg:linear is now deprecated in favor of reg:squarederror.\n"
     ]
    },
    {
     "name": "stderr",
     "output_type": "stream",
     "text": [
      "C:\\Users\\K T KUMAR\\Anaconda33\\lib\\site-packages\\xgboost\\core.py:587: FutureWarning: Series.base is deprecated and will be removed in a future version\n",
      "  if getattr(data, 'base', None) is not None and \\\n"
     ]
    },
    {
     "name": "stdout",
     "output_type": "stream",
     "text": [
      "[CV]  subsample=0.7, n_estimators=1000, min_child_parameters=7, max_depth=15, learning_rate=0.2, total=   1.1s\n",
      "[CV] subsample=0.7, n_estimators=1000, min_child_parameters=7, max_depth=15, learning_rate=0.2 \n",
      "[11:50:42] WARNING: src/objective/regression_obj.cu:152: reg:linear is now deprecated in favor of reg:squarederror.\n"
     ]
    },
    {
     "name": "stderr",
     "output_type": "stream",
     "text": [
      "C:\\Users\\K T KUMAR\\Anaconda33\\lib\\site-packages\\xgboost\\core.py:587: FutureWarning: Series.base is deprecated and will be removed in a future version\n",
      "  if getattr(data, 'base', None) is not None and \\\n"
     ]
    },
    {
     "name": "stdout",
     "output_type": "stream",
     "text": [
      "[CV]  subsample=0.7, n_estimators=1000, min_child_parameters=7, max_depth=15, learning_rate=0.2, total=   1.1s\n",
      "[CV] subsample=0.7, n_estimators=1000, min_child_parameters=7, max_depth=15, learning_rate=0.2 \n",
      "[11:50:43] WARNING: src/objective/regression_obj.cu:152: reg:linear is now deprecated in favor of reg:squarederror.\n"
     ]
    },
    {
     "name": "stderr",
     "output_type": "stream",
     "text": [
      "C:\\Users\\K T KUMAR\\Anaconda33\\lib\\site-packages\\xgboost\\core.py:587: FutureWarning: Series.base is deprecated and will be removed in a future version\n",
      "  if getattr(data, 'base', None) is not None and \\\n"
     ]
    },
    {
     "name": "stdout",
     "output_type": "stream",
     "text": [
      "[CV]  subsample=0.7, n_estimators=1000, min_child_parameters=7, max_depth=15, learning_rate=0.2, total=   1.2s\n",
      "[CV] subsample=0.7, n_estimators=1000, min_child_parameters=7, max_depth=15, learning_rate=0.2 \n",
      "[11:50:44] WARNING: src/objective/regression_obj.cu:152: reg:linear is now deprecated in favor of reg:squarederror.\n"
     ]
    },
    {
     "name": "stderr",
     "output_type": "stream",
     "text": [
      "C:\\Users\\K T KUMAR\\Anaconda33\\lib\\site-packages\\xgboost\\core.py:587: FutureWarning: Series.base is deprecated and will be removed in a future version\n",
      "  if getattr(data, 'base', None) is not None and \\\n"
     ]
    },
    {
     "name": "stdout",
     "output_type": "stream",
     "text": [
      "[CV]  subsample=0.7, n_estimators=1000, min_child_parameters=7, max_depth=15, learning_rate=0.2, total=   1.1s\n",
      "[CV] subsample=0.8, n_estimators=400, min_child_parameters=7, max_depth=5, learning_rate=0.7 \n",
      "[11:50:46] WARNING: src/objective/regression_obj.cu:152: reg:linear is now deprecated in favor of reg:squarederror.\n"
     ]
    },
    {
     "name": "stderr",
     "output_type": "stream",
     "text": [
      "C:\\Users\\K T KUMAR\\Anaconda33\\lib\\site-packages\\xgboost\\core.py:587: FutureWarning: Series.base is deprecated and will be removed in a future version\n",
      "  if getattr(data, 'base', None) is not None and \\\n"
     ]
    },
    {
     "name": "stdout",
     "output_type": "stream",
     "text": [
      "[CV]  subsample=0.8, n_estimators=400, min_child_parameters=7, max_depth=5, learning_rate=0.7, total=   0.4s\n",
      "[CV] subsample=0.8, n_estimators=400, min_child_parameters=7, max_depth=5, learning_rate=0.7 \n",
      "[11:50:46] WARNING: src/objective/regression_obj.cu:152: reg:linear is now deprecated in favor of reg:squarederror.\n"
     ]
    },
    {
     "name": "stderr",
     "output_type": "stream",
     "text": [
      "C:\\Users\\K T KUMAR\\Anaconda33\\lib\\site-packages\\xgboost\\core.py:587: FutureWarning: Series.base is deprecated and will be removed in a future version\n",
      "  if getattr(data, 'base', None) is not None and \\\n"
     ]
    },
    {
     "name": "stdout",
     "output_type": "stream",
     "text": [
      "[CV]  subsample=0.8, n_estimators=400, min_child_parameters=7, max_depth=5, learning_rate=0.7, total=   0.4s\n",
      "[CV] subsample=0.8, n_estimators=400, min_child_parameters=7, max_depth=5, learning_rate=0.7 \n",
      "[11:50:46] WARNING: src/objective/regression_obj.cu:152: reg:linear is now deprecated in favor of reg:squarederror.\n"
     ]
    },
    {
     "name": "stderr",
     "output_type": "stream",
     "text": [
      "C:\\Users\\K T KUMAR\\Anaconda33\\lib\\site-packages\\xgboost\\core.py:587: FutureWarning: Series.base is deprecated and will be removed in a future version\n",
      "  if getattr(data, 'base', None) is not None and \\\n"
     ]
    },
    {
     "name": "stdout",
     "output_type": "stream",
     "text": [
      "[CV]  subsample=0.8, n_estimators=400, min_child_parameters=7, max_depth=5, learning_rate=0.7, total=   0.4s\n",
      "[CV] subsample=0.8, n_estimators=400, min_child_parameters=7, max_depth=5, learning_rate=0.7 \n",
      "[11:50:47] WARNING: src/objective/regression_obj.cu:152: reg:linear is now deprecated in favor of reg:squarederror.\n"
     ]
    },
    {
     "name": "stderr",
     "output_type": "stream",
     "text": [
      "C:\\Users\\K T KUMAR\\Anaconda33\\lib\\site-packages\\xgboost\\core.py:587: FutureWarning: Series.base is deprecated and will be removed in a future version\n",
      "  if getattr(data, 'base', None) is not None and \\\n"
     ]
    },
    {
     "name": "stdout",
     "output_type": "stream",
     "text": [
      "[CV]  subsample=0.8, n_estimators=400, min_child_parameters=7, max_depth=5, learning_rate=0.7, total=   0.4s\n",
      "[CV] subsample=0.5, n_estimators=900, min_child_parameters=7, max_depth=15, learning_rate=0.5 \n",
      "[11:50:47] WARNING: src/objective/regression_obj.cu:152: reg:linear is now deprecated in favor of reg:squarederror.\n"
     ]
    },
    {
     "name": "stderr",
     "output_type": "stream",
     "text": [
      "C:\\Users\\K T KUMAR\\Anaconda33\\lib\\site-packages\\xgboost\\core.py:587: FutureWarning: Series.base is deprecated and will be removed in a future version\n",
      "  if getattr(data, 'base', None) is not None and \\\n"
     ]
    },
    {
     "name": "stdout",
     "output_type": "stream",
     "text": [
      "[CV]  subsample=0.5, n_estimators=900, min_child_parameters=7, max_depth=15, learning_rate=0.5, total=   0.9s\n",
      "[CV] subsample=0.5, n_estimators=900, min_child_parameters=7, max_depth=15, learning_rate=0.5 \n",
      "[11:50:48] WARNING: src/objective/regression_obj.cu:152: reg:linear is now deprecated in favor of reg:squarederror.\n"
     ]
    },
    {
     "name": "stderr",
     "output_type": "stream",
     "text": [
      "C:\\Users\\K T KUMAR\\Anaconda33\\lib\\site-packages\\xgboost\\core.py:587: FutureWarning: Series.base is deprecated and will be removed in a future version\n",
      "  if getattr(data, 'base', None) is not None and \\\n"
     ]
    },
    {
     "name": "stdout",
     "output_type": "stream",
     "text": [
      "[CV]  subsample=0.5, n_estimators=900, min_child_parameters=7, max_depth=15, learning_rate=0.5, total=   0.9s\n",
      "[CV] subsample=0.5, n_estimators=900, min_child_parameters=7, max_depth=15, learning_rate=0.5 \n",
      "[11:50:49] WARNING: src/objective/regression_obj.cu:152: reg:linear is now deprecated in favor of reg:squarederror.\n"
     ]
    },
    {
     "name": "stderr",
     "output_type": "stream",
     "text": [
      "C:\\Users\\K T KUMAR\\Anaconda33\\lib\\site-packages\\xgboost\\core.py:587: FutureWarning: Series.base is deprecated and will be removed in a future version\n",
      "  if getattr(data, 'base', None) is not None and \\\n"
     ]
    },
    {
     "name": "stdout",
     "output_type": "stream",
     "text": [
      "[CV]  subsample=0.5, n_estimators=900, min_child_parameters=7, max_depth=15, learning_rate=0.5, total=   0.9s\n",
      "[CV] subsample=0.5, n_estimators=900, min_child_parameters=7, max_depth=15, learning_rate=0.5 \n",
      "[11:50:50] WARNING: src/objective/regression_obj.cu:152: reg:linear is now deprecated in favor of reg:squarederror.\n"
     ]
    },
    {
     "name": "stderr",
     "output_type": "stream",
     "text": [
      "C:\\Users\\K T KUMAR\\Anaconda33\\lib\\site-packages\\xgboost\\core.py:587: FutureWarning: Series.base is deprecated and will be removed in a future version\n",
      "  if getattr(data, 'base', None) is not None and \\\n"
     ]
    },
    {
     "name": "stdout",
     "output_type": "stream",
     "text": [
      "[CV]  subsample=0.5, n_estimators=900, min_child_parameters=7, max_depth=15, learning_rate=0.5, total=   0.8s\n",
      "[CV] subsample=0.7, n_estimators=300, min_child_parameters=5, max_depth=5, learning_rate=0.5 \n",
      "[11:50:51] WARNING: src/objective/regression_obj.cu:152: reg:linear is now deprecated in favor of reg:squarederror.\n"
     ]
    },
    {
     "name": "stderr",
     "output_type": "stream",
     "text": [
      "C:\\Users\\K T KUMAR\\Anaconda33\\lib\\site-packages\\xgboost\\core.py:587: FutureWarning: Series.base is deprecated and will be removed in a future version\n",
      "  if getattr(data, 'base', None) is not None and \\\n"
     ]
    },
    {
     "name": "stdout",
     "output_type": "stream",
     "text": [
      "[CV]  subsample=0.7, n_estimators=300, min_child_parameters=5, max_depth=5, learning_rate=0.5, total=   0.5s\n",
      "[CV] subsample=0.7, n_estimators=300, min_child_parameters=5, max_depth=5, learning_rate=0.5 \n",
      "[11:50:51] WARNING: src/objective/regression_obj.cu:152: reg:linear is now deprecated in favor of reg:squarederror.\n"
     ]
    },
    {
     "name": "stderr",
     "output_type": "stream",
     "text": [
      "C:\\Users\\K T KUMAR\\Anaconda33\\lib\\site-packages\\xgboost\\core.py:587: FutureWarning: Series.base is deprecated and will be removed in a future version\n",
      "  if getattr(data, 'base', None) is not None and \\\n"
     ]
    },
    {
     "name": "stdout",
     "output_type": "stream",
     "text": [
      "[CV]  subsample=0.7, n_estimators=300, min_child_parameters=5, max_depth=5, learning_rate=0.5, total=   0.5s\n",
      "[CV] subsample=0.7, n_estimators=300, min_child_parameters=5, max_depth=5, learning_rate=0.5 \n",
      "[11:50:52] WARNING: src/objective/regression_obj.cu:152: reg:linear is now deprecated in favor of reg:squarederror.\n"
     ]
    },
    {
     "name": "stderr",
     "output_type": "stream",
     "text": [
      "C:\\Users\\K T KUMAR\\Anaconda33\\lib\\site-packages\\xgboost\\core.py:587: FutureWarning: Series.base is deprecated and will be removed in a future version\n",
      "  if getattr(data, 'base', None) is not None and \\\n"
     ]
    },
    {
     "name": "stdout",
     "output_type": "stream",
     "text": [
      "[CV]  subsample=0.7, n_estimators=300, min_child_parameters=5, max_depth=5, learning_rate=0.5, total=   0.5s\n",
      "[CV] subsample=0.7, n_estimators=300, min_child_parameters=5, max_depth=5, learning_rate=0.5 \n",
      "[11:50:52] WARNING: src/objective/regression_obj.cu:152: reg:linear is now deprecated in favor of reg:squarederror.\n"
     ]
    },
    {
     "name": "stderr",
     "output_type": "stream",
     "text": [
      "C:\\Users\\K T KUMAR\\Anaconda33\\lib\\site-packages\\xgboost\\core.py:587: FutureWarning: Series.base is deprecated and will be removed in a future version\n",
      "  if getattr(data, 'base', None) is not None and \\\n"
     ]
    },
    {
     "name": "stdout",
     "output_type": "stream",
     "text": [
      "[CV]  subsample=0.7, n_estimators=300, min_child_parameters=5, max_depth=5, learning_rate=0.5, total=   0.5s\n",
      "[CV] subsample=0.8, n_estimators=900, min_child_parameters=7, max_depth=10, learning_rate=0.7 \n",
      "[11:50:53] WARNING: src/objective/regression_obj.cu:152: reg:linear is now deprecated in favor of reg:squarederror.\n"
     ]
    },
    {
     "name": "stderr",
     "output_type": "stream",
     "text": [
      "C:\\Users\\K T KUMAR\\Anaconda33\\lib\\site-packages\\xgboost\\core.py:587: FutureWarning: Series.base is deprecated and will be removed in a future version\n",
      "  if getattr(data, 'base', None) is not None and \\\n"
     ]
    },
    {
     "name": "stdout",
     "output_type": "stream",
     "text": [
      "[CV]  subsample=0.8, n_estimators=900, min_child_parameters=7, max_depth=10, learning_rate=0.7, total=   0.5s\n",
      "[CV] subsample=0.8, n_estimators=900, min_child_parameters=7, max_depth=10, learning_rate=0.7 \n",
      "[11:50:53] WARNING: src/objective/regression_obj.cu:152: reg:linear is now deprecated in favor of reg:squarederror.\n"
     ]
    },
    {
     "name": "stderr",
     "output_type": "stream",
     "text": [
      "C:\\Users\\K T KUMAR\\Anaconda33\\lib\\site-packages\\xgboost\\core.py:587: FutureWarning: Series.base is deprecated and will be removed in a future version\n",
      "  if getattr(data, 'base', None) is not None and \\\n"
     ]
    },
    {
     "name": "stdout",
     "output_type": "stream",
     "text": [
      "[CV]  subsample=0.8, n_estimators=900, min_child_parameters=7, max_depth=10, learning_rate=0.7, total=   0.5s\n",
      "[CV] subsample=0.8, n_estimators=900, min_child_parameters=7, max_depth=10, learning_rate=0.7 \n",
      "[11:50:54] WARNING: src/objective/regression_obj.cu:152: reg:linear is now deprecated in favor of reg:squarederror.\n"
     ]
    },
    {
     "name": "stderr",
     "output_type": "stream",
     "text": [
      "C:\\Users\\K T KUMAR\\Anaconda33\\lib\\site-packages\\xgboost\\core.py:587: FutureWarning: Series.base is deprecated and will be removed in a future version\n",
      "  if getattr(data, 'base', None) is not None and \\\n"
     ]
    },
    {
     "name": "stdout",
     "output_type": "stream",
     "text": [
      "[CV]  subsample=0.8, n_estimators=900, min_child_parameters=7, max_depth=10, learning_rate=0.7, total=   0.5s\n",
      "[CV] subsample=0.8, n_estimators=900, min_child_parameters=7, max_depth=10, learning_rate=0.7 \n",
      "[11:50:54] WARNING: src/objective/regression_obj.cu:152: reg:linear is now deprecated in favor of reg:squarederror.\n"
     ]
    },
    {
     "name": "stderr",
     "output_type": "stream",
     "text": [
      "C:\\Users\\K T KUMAR\\Anaconda33\\lib\\site-packages\\xgboost\\core.py:587: FutureWarning: Series.base is deprecated and will be removed in a future version\n",
      "  if getattr(data, 'base', None) is not None and \\\n"
     ]
    },
    {
     "name": "stdout",
     "output_type": "stream",
     "text": [
      "[CV]  subsample=0.8, n_estimators=900, min_child_parameters=7, max_depth=10, learning_rate=0.7, total=   0.5s\n",
      "[CV] subsample=0.5, n_estimators=500, min_child_parameters=7, max_depth=20, learning_rate=0.5 \n",
      "[11:50:54] WARNING: src/objective/regression_obj.cu:152: reg:linear is now deprecated in favor of reg:squarederror.\n"
     ]
    },
    {
     "name": "stderr",
     "output_type": "stream",
     "text": [
      "C:\\Users\\K T KUMAR\\Anaconda33\\lib\\site-packages\\xgboost\\core.py:587: FutureWarning: Series.base is deprecated and will be removed in a future version\n",
      "  if getattr(data, 'base', None) is not None and \\\n"
     ]
    },
    {
     "name": "stdout",
     "output_type": "stream",
     "text": [
      "[CV]  subsample=0.5, n_estimators=500, min_child_parameters=7, max_depth=20, learning_rate=0.5, total=   0.8s\n",
      "[CV] subsample=0.5, n_estimators=500, min_child_parameters=7, max_depth=20, learning_rate=0.5 \n",
      "[11:50:55] WARNING: src/objective/regression_obj.cu:152: reg:linear is now deprecated in favor of reg:squarederror.\n"
     ]
    },
    {
     "name": "stderr",
     "output_type": "stream",
     "text": [
      "C:\\Users\\K T KUMAR\\Anaconda33\\lib\\site-packages\\xgboost\\core.py:587: FutureWarning: Series.base is deprecated and will be removed in a future version\n",
      "  if getattr(data, 'base', None) is not None and \\\n"
     ]
    },
    {
     "name": "stdout",
     "output_type": "stream",
     "text": [
      "[CV]  subsample=0.5, n_estimators=500, min_child_parameters=7, max_depth=20, learning_rate=0.5, total=   0.7s\n",
      "[CV] subsample=0.5, n_estimators=500, min_child_parameters=7, max_depth=20, learning_rate=0.5 \n",
      "[11:50:56] WARNING: src/objective/regression_obj.cu:152: reg:linear is now deprecated in favor of reg:squarederror.\n"
     ]
    },
    {
     "name": "stderr",
     "output_type": "stream",
     "text": [
      "C:\\Users\\K T KUMAR\\Anaconda33\\lib\\site-packages\\xgboost\\core.py:587: FutureWarning: Series.base is deprecated and will be removed in a future version\n",
      "  if getattr(data, 'base', None) is not None and \\\n"
     ]
    },
    {
     "name": "stdout",
     "output_type": "stream",
     "text": [
      "[CV]  subsample=0.5, n_estimators=500, min_child_parameters=7, max_depth=20, learning_rate=0.5, total=   0.7s\n",
      "[CV] subsample=0.5, n_estimators=500, min_child_parameters=7, max_depth=20, learning_rate=0.5 \n",
      "[11:50:57] WARNING: src/objective/regression_obj.cu:152: reg:linear is now deprecated in favor of reg:squarederror.\n"
     ]
    },
    {
     "name": "stderr",
     "output_type": "stream",
     "text": [
      "C:\\Users\\K T KUMAR\\Anaconda33\\lib\\site-packages\\xgboost\\core.py:587: FutureWarning: Series.base is deprecated and will be removed in a future version\n",
      "  if getattr(data, 'base', None) is not None and \\\n"
     ]
    },
    {
     "name": "stdout",
     "output_type": "stream",
     "text": [
      "[CV]  subsample=0.5, n_estimators=500, min_child_parameters=7, max_depth=20, learning_rate=0.5, total=   0.7s\n",
      "[CV] subsample=0.5, n_estimators=1000, min_child_parameters=7, max_depth=5, learning_rate=0.5 \n",
      "[11:50:58] WARNING: src/objective/regression_obj.cu:152: reg:linear is now deprecated in favor of reg:squarederror.\n"
     ]
    },
    {
     "name": "stderr",
     "output_type": "stream",
     "text": [
      "C:\\Users\\K T KUMAR\\Anaconda33\\lib\\site-packages\\xgboost\\core.py:587: FutureWarning: Series.base is deprecated and will be removed in a future version\n",
      "  if getattr(data, 'base', None) is not None and \\\n"
     ]
    },
    {
     "name": "stdout",
     "output_type": "stream",
     "text": [
      "[CV]  subsample=0.5, n_estimators=1000, min_child_parameters=7, max_depth=5, learning_rate=0.5, total=   0.9s\n",
      "[CV] subsample=0.5, n_estimators=1000, min_child_parameters=7, max_depth=5, learning_rate=0.5 \n",
      "[11:50:58] WARNING: src/objective/regression_obj.cu:152: reg:linear is now deprecated in favor of reg:squarederror.\n"
     ]
    },
    {
     "name": "stderr",
     "output_type": "stream",
     "text": [
      "C:\\Users\\K T KUMAR\\Anaconda33\\lib\\site-packages\\xgboost\\core.py:587: FutureWarning: Series.base is deprecated and will be removed in a future version\n",
      "  if getattr(data, 'base', None) is not None and \\\n"
     ]
    },
    {
     "name": "stdout",
     "output_type": "stream",
     "text": [
      "[CV]  subsample=0.5, n_estimators=1000, min_child_parameters=7, max_depth=5, learning_rate=0.5, total=   0.9s\n",
      "[CV] subsample=0.5, n_estimators=1000, min_child_parameters=7, max_depth=5, learning_rate=0.5 \n",
      "[11:50:59] WARNING: src/objective/regression_obj.cu:152: reg:linear is now deprecated in favor of reg:squarederror.\n"
     ]
    },
    {
     "name": "stderr",
     "output_type": "stream",
     "text": [
      "C:\\Users\\K T KUMAR\\Anaconda33\\lib\\site-packages\\xgboost\\core.py:587: FutureWarning: Series.base is deprecated and will be removed in a future version\n",
      "  if getattr(data, 'base', None) is not None and \\\n"
     ]
    },
    {
     "name": "stdout",
     "output_type": "stream",
     "text": [
      "[CV]  subsample=0.5, n_estimators=1000, min_child_parameters=7, max_depth=5, learning_rate=0.5, total=   0.9s\n",
      "[CV] subsample=0.5, n_estimators=1000, min_child_parameters=7, max_depth=5, learning_rate=0.5 \n",
      "[11:51:00] WARNING: src/objective/regression_obj.cu:152: reg:linear is now deprecated in favor of reg:squarederror.\n"
     ]
    },
    {
     "name": "stderr",
     "output_type": "stream",
     "text": [
      "C:\\Users\\K T KUMAR\\Anaconda33\\lib\\site-packages\\xgboost\\core.py:587: FutureWarning: Series.base is deprecated and will be removed in a future version\n",
      "  if getattr(data, 'base', None) is not None and \\\n"
     ]
    },
    {
     "name": "stdout",
     "output_type": "stream",
     "text": [
      "[CV]  subsample=0.5, n_estimators=1000, min_child_parameters=7, max_depth=5, learning_rate=0.5, total=   0.9s\n",
      "[CV] subsample=0.7, n_estimators=1100, min_child_parameters=3, max_depth=5, learning_rate=0.04 \n",
      "[11:51:01] WARNING: src/objective/regression_obj.cu:152: reg:linear is now deprecated in favor of reg:squarederror.\n"
     ]
    },
    {
     "name": "stderr",
     "output_type": "stream",
     "text": [
      "C:\\Users\\K T KUMAR\\Anaconda33\\lib\\site-packages\\xgboost\\core.py:587: FutureWarning: Series.base is deprecated and will be removed in a future version\n",
      "  if getattr(data, 'base', None) is not None and \\\n"
     ]
    },
    {
     "name": "stdout",
     "output_type": "stream",
     "text": [
      "[CV]  subsample=0.7, n_estimators=1100, min_child_parameters=3, max_depth=5, learning_rate=0.04, total=   1.7s\n",
      "[CV] subsample=0.7, n_estimators=1100, min_child_parameters=3, max_depth=5, learning_rate=0.04 \n",
      "[11:51:03] WARNING: src/objective/regression_obj.cu:152: reg:linear is now deprecated in favor of reg:squarederror.\n"
     ]
    },
    {
     "name": "stderr",
     "output_type": "stream",
     "text": [
      "C:\\Users\\K T KUMAR\\Anaconda33\\lib\\site-packages\\xgboost\\core.py:587: FutureWarning: Series.base is deprecated and will be removed in a future version\n",
      "  if getattr(data, 'base', None) is not None and \\\n"
     ]
    },
    {
     "name": "stdout",
     "output_type": "stream",
     "text": [
      "[CV]  subsample=0.7, n_estimators=1100, min_child_parameters=3, max_depth=5, learning_rate=0.04, total=   1.7s\n",
      "[CV] subsample=0.7, n_estimators=1100, min_child_parameters=3, max_depth=5, learning_rate=0.04 \n",
      "[11:51:04] WARNING: src/objective/regression_obj.cu:152: reg:linear is now deprecated in favor of reg:squarederror.\n"
     ]
    },
    {
     "name": "stderr",
     "output_type": "stream",
     "text": [
      "C:\\Users\\K T KUMAR\\Anaconda33\\lib\\site-packages\\xgboost\\core.py:587: FutureWarning: Series.base is deprecated and will be removed in a future version\n",
      "  if getattr(data, 'base', None) is not None and \\\n"
     ]
    },
    {
     "name": "stdout",
     "output_type": "stream",
     "text": [
      "[CV]  subsample=0.7, n_estimators=1100, min_child_parameters=3, max_depth=5, learning_rate=0.04, total=   1.7s\n",
      "[CV] subsample=0.7, n_estimators=1100, min_child_parameters=3, max_depth=5, learning_rate=0.04 \n",
      "[11:51:06] WARNING: src/objective/regression_obj.cu:152: reg:linear is now deprecated in favor of reg:squarederror.\n"
     ]
    },
    {
     "name": "stderr",
     "output_type": "stream",
     "text": [
      "C:\\Users\\K T KUMAR\\Anaconda33\\lib\\site-packages\\xgboost\\core.py:587: FutureWarning: Series.base is deprecated and will be removed in a future version\n",
      "  if getattr(data, 'base', None) is not None and \\\n"
     ]
    },
    {
     "name": "stdout",
     "output_type": "stream",
     "text": [
      "[CV]  subsample=0.7, n_estimators=1100, min_child_parameters=3, max_depth=5, learning_rate=0.04, total=   1.7s\n",
      "[CV] subsample=0.5, n_estimators=1100, min_child_parameters=3, max_depth=30, learning_rate=0.04 \n",
      "[11:51:08] WARNING: src/objective/regression_obj.cu:152: reg:linear is now deprecated in favor of reg:squarederror.\n"
     ]
    },
    {
     "name": "stderr",
     "output_type": "stream",
     "text": [
      "C:\\Users\\K T KUMAR\\Anaconda33\\lib\\site-packages\\xgboost\\core.py:587: FutureWarning: Series.base is deprecated and will be removed in a future version\n",
      "  if getattr(data, 'base', None) is not None and \\\n"
     ]
    },
    {
     "name": "stdout",
     "output_type": "stream",
     "text": [
      "[CV]  subsample=0.5, n_estimators=1100, min_child_parameters=3, max_depth=30, learning_rate=0.04, total=   5.9s\n",
      "[CV] subsample=0.5, n_estimators=1100, min_child_parameters=3, max_depth=30, learning_rate=0.04 \n",
      "[11:51:14] WARNING: src/objective/regression_obj.cu:152: reg:linear is now deprecated in favor of reg:squarederror.\n"
     ]
    },
    {
     "name": "stderr",
     "output_type": "stream",
     "text": [
      "C:\\Users\\K T KUMAR\\Anaconda33\\lib\\site-packages\\xgboost\\core.py:587: FutureWarning: Series.base is deprecated and will be removed in a future version\n",
      "  if getattr(data, 'base', None) is not None and \\\n"
     ]
    },
    {
     "name": "stdout",
     "output_type": "stream",
     "text": [
      "[CV]  subsample=0.5, n_estimators=1100, min_child_parameters=3, max_depth=30, learning_rate=0.04, total=   5.8s\n",
      "[CV] subsample=0.5, n_estimators=1100, min_child_parameters=3, max_depth=30, learning_rate=0.04 \n",
      "[11:51:20] WARNING: src/objective/regression_obj.cu:152: reg:linear is now deprecated in favor of reg:squarederror.\n"
     ]
    },
    {
     "name": "stderr",
     "output_type": "stream",
     "text": [
      "C:\\Users\\K T KUMAR\\Anaconda33\\lib\\site-packages\\xgboost\\core.py:587: FutureWarning: Series.base is deprecated and will be removed in a future version\n",
      "  if getattr(data, 'base', None) is not None and \\\n"
     ]
    },
    {
     "name": "stdout",
     "output_type": "stream",
     "text": [
      "[CV]  subsample=0.5, n_estimators=1100, min_child_parameters=3, max_depth=30, learning_rate=0.04, total=   5.5s\n",
      "[CV] subsample=0.5, n_estimators=1100, min_child_parameters=3, max_depth=30, learning_rate=0.04 \n",
      "[11:51:25] WARNING: src/objective/regression_obj.cu:152: reg:linear is now deprecated in favor of reg:squarederror.\n"
     ]
    },
    {
     "name": "stderr",
     "output_type": "stream",
     "text": [
      "C:\\Users\\K T KUMAR\\Anaconda33\\lib\\site-packages\\xgboost\\core.py:587: FutureWarning: Series.base is deprecated and will be removed in a future version\n",
      "  if getattr(data, 'base', None) is not None and \\\n"
     ]
    },
    {
     "name": "stdout",
     "output_type": "stream",
     "text": [
      "[CV]  subsample=0.5, n_estimators=1100, min_child_parameters=3, max_depth=30, learning_rate=0.04, total=   5.9s\n",
      "[CV] subsample=0.7, n_estimators=1200, min_child_parameters=5, max_depth=30, learning_rate=0.3 \n",
      "[11:51:31] WARNING: src/objective/regression_obj.cu:152: reg:linear is now deprecated in favor of reg:squarederror.\n"
     ]
    },
    {
     "name": "stderr",
     "output_type": "stream",
     "text": [
      "C:\\Users\\K T KUMAR\\Anaconda33\\lib\\site-packages\\xgboost\\core.py:587: FutureWarning: Series.base is deprecated and will be removed in a future version\n",
      "  if getattr(data, 'base', None) is not None and \\\n"
     ]
    },
    {
     "name": "stdout",
     "output_type": "stream",
     "text": [
      "[CV]  subsample=0.7, n_estimators=1200, min_child_parameters=5, max_depth=30, learning_rate=0.3, total=   1.1s\n",
      "[CV] subsample=0.7, n_estimators=1200, min_child_parameters=5, max_depth=30, learning_rate=0.3 \n",
      "[11:51:32] WARNING: src/objective/regression_obj.cu:152: reg:linear is now deprecated in favor of reg:squarederror.\n"
     ]
    },
    {
     "name": "stderr",
     "output_type": "stream",
     "text": [
      "C:\\Users\\K T KUMAR\\Anaconda33\\lib\\site-packages\\xgboost\\core.py:587: FutureWarning: Series.base is deprecated and will be removed in a future version\n",
      "  if getattr(data, 'base', None) is not None and \\\n"
     ]
    },
    {
     "name": "stdout",
     "output_type": "stream",
     "text": [
      "[CV]  subsample=0.7, n_estimators=1200, min_child_parameters=5, max_depth=30, learning_rate=0.3, total=   1.1s\n",
      "[CV] subsample=0.7, n_estimators=1200, min_child_parameters=5, max_depth=30, learning_rate=0.3 \n",
      "[11:51:33] WARNING: src/objective/regression_obj.cu:152: reg:linear is now deprecated in favor of reg:squarederror.\n"
     ]
    },
    {
     "name": "stderr",
     "output_type": "stream",
     "text": [
      "C:\\Users\\K T KUMAR\\Anaconda33\\lib\\site-packages\\xgboost\\core.py:587: FutureWarning: Series.base is deprecated and will be removed in a future version\n",
      "  if getattr(data, 'base', None) is not None and \\\n"
     ]
    },
    {
     "name": "stdout",
     "output_type": "stream",
     "text": [
      "[CV]  subsample=0.7, n_estimators=1200, min_child_parameters=5, max_depth=30, learning_rate=0.3, total=   1.1s\n",
      "[CV] subsample=0.7, n_estimators=1200, min_child_parameters=5, max_depth=30, learning_rate=0.3 \n",
      "[11:51:34] WARNING: src/objective/regression_obj.cu:152: reg:linear is now deprecated in favor of reg:squarederror.\n"
     ]
    },
    {
     "name": "stderr",
     "output_type": "stream",
     "text": [
      "C:\\Users\\K T KUMAR\\Anaconda33\\lib\\site-packages\\xgboost\\core.py:587: FutureWarning: Series.base is deprecated and will be removed in a future version\n",
      "  if getattr(data, 'base', None) is not None and \\\n"
     ]
    },
    {
     "name": "stdout",
     "output_type": "stream",
     "text": [
      "[CV]  subsample=0.7, n_estimators=1200, min_child_parameters=5, max_depth=30, learning_rate=0.3, total=   1.2s\n",
      "[CV] subsample=0.5, n_estimators=1200, min_child_parameters=5, max_depth=10, learning_rate=0.3 \n",
      "[11:51:35] WARNING: src/objective/regression_obj.cu:152: reg:linear is now deprecated in favor of reg:squarederror.\n"
     ]
    },
    {
     "name": "stderr",
     "output_type": "stream",
     "text": [
      "C:\\Users\\K T KUMAR\\Anaconda33\\lib\\site-packages\\xgboost\\core.py:587: FutureWarning: Series.base is deprecated and will be removed in a future version\n",
      "  if getattr(data, 'base', None) is not None and \\\n"
     ]
    },
    {
     "name": "stdout",
     "output_type": "stream",
     "text": [
      "[CV]  subsample=0.5, n_estimators=1200, min_child_parameters=5, max_depth=10, learning_rate=0.3, total=   1.2s\n",
      "[CV] subsample=0.5, n_estimators=1200, min_child_parameters=5, max_depth=10, learning_rate=0.3 \n",
      "[11:51:37] WARNING: src/objective/regression_obj.cu:152: reg:linear is now deprecated in favor of reg:squarederror.\n"
     ]
    },
    {
     "name": "stderr",
     "output_type": "stream",
     "text": [
      "C:\\Users\\K T KUMAR\\Anaconda33\\lib\\site-packages\\xgboost\\core.py:587: FutureWarning: Series.base is deprecated and will be removed in a future version\n",
      "  if getattr(data, 'base', None) is not None and \\\n"
     ]
    },
    {
     "name": "stdout",
     "output_type": "stream",
     "text": [
      "[CV]  subsample=0.5, n_estimators=1200, min_child_parameters=5, max_depth=10, learning_rate=0.3, total=   1.1s\n",
      "[CV] subsample=0.5, n_estimators=1200, min_child_parameters=5, max_depth=10, learning_rate=0.3 \n",
      "[11:51:38] WARNING: src/objective/regression_obj.cu:152: reg:linear is now deprecated in favor of reg:squarederror.\n"
     ]
    },
    {
     "name": "stderr",
     "output_type": "stream",
     "text": [
      "C:\\Users\\K T KUMAR\\Anaconda33\\lib\\site-packages\\xgboost\\core.py:587: FutureWarning: Series.base is deprecated and will be removed in a future version\n",
      "  if getattr(data, 'base', None) is not None and \\\n"
     ]
    },
    {
     "name": "stdout",
     "output_type": "stream",
     "text": [
      "[CV]  subsample=0.5, n_estimators=1200, min_child_parameters=5, max_depth=10, learning_rate=0.3, total=   1.1s\n",
      "[CV] subsample=0.5, n_estimators=1200, min_child_parameters=5, max_depth=10, learning_rate=0.3 \n",
      "[11:51:39] WARNING: src/objective/regression_obj.cu:152: reg:linear is now deprecated in favor of reg:squarederror.\n"
     ]
    },
    {
     "name": "stderr",
     "output_type": "stream",
     "text": [
      "C:\\Users\\K T KUMAR\\Anaconda33\\lib\\site-packages\\xgboost\\core.py:587: FutureWarning: Series.base is deprecated and will be removed in a future version\n",
      "  if getattr(data, 'base', None) is not None and \\\n"
     ]
    },
    {
     "name": "stdout",
     "output_type": "stream",
     "text": [
      "[CV]  subsample=0.5, n_estimators=1200, min_child_parameters=5, max_depth=10, learning_rate=0.3, total=   1.1s\n",
      "[CV] subsample=0.7, n_estimators=900, min_child_parameters=4, max_depth=10, learning_rate=0.7 \n",
      "[11:51:40] WARNING: src/objective/regression_obj.cu:152: reg:linear is now deprecated in favor of reg:squarederror.\n"
     ]
    },
    {
     "name": "stderr",
     "output_type": "stream",
     "text": [
      "C:\\Users\\K T KUMAR\\Anaconda33\\lib\\site-packages\\xgboost\\core.py:587: FutureWarning: Series.base is deprecated and will be removed in a future version\n",
      "  if getattr(data, 'base', None) is not None and \\\n"
     ]
    },
    {
     "name": "stdout",
     "output_type": "stream",
     "text": [
      "[CV]  subsample=0.7, n_estimators=900, min_child_parameters=4, max_depth=10, learning_rate=0.7, total=   0.5s\n",
      "[CV] subsample=0.7, n_estimators=900, min_child_parameters=4, max_depth=10, learning_rate=0.7 \n",
      "[11:51:40] WARNING: src/objective/regression_obj.cu:152: reg:linear is now deprecated in favor of reg:squarederror.\n"
     ]
    },
    {
     "name": "stderr",
     "output_type": "stream",
     "text": [
      "C:\\Users\\K T KUMAR\\Anaconda33\\lib\\site-packages\\xgboost\\core.py:587: FutureWarning: Series.base is deprecated and will be removed in a future version\n",
      "  if getattr(data, 'base', None) is not None and \\\n"
     ]
    },
    {
     "name": "stdout",
     "output_type": "stream",
     "text": [
      "[CV]  subsample=0.7, n_estimators=900, min_child_parameters=4, max_depth=10, learning_rate=0.7, total=   0.5s\n",
      "[CV] subsample=0.7, n_estimators=900, min_child_parameters=4, max_depth=10, learning_rate=0.7 \n",
      "[11:51:41] WARNING: src/objective/regression_obj.cu:152: reg:linear is now deprecated in favor of reg:squarederror.\n"
     ]
    },
    {
     "name": "stderr",
     "output_type": "stream",
     "text": [
      "C:\\Users\\K T KUMAR\\Anaconda33\\lib\\site-packages\\xgboost\\core.py:587: FutureWarning: Series.base is deprecated and will be removed in a future version\n",
      "  if getattr(data, 'base', None) is not None and \\\n"
     ]
    },
    {
     "name": "stdout",
     "output_type": "stream",
     "text": [
      "[CV]  subsample=0.7, n_estimators=900, min_child_parameters=4, max_depth=10, learning_rate=0.7, total=   0.5s\n",
      "[CV] subsample=0.7, n_estimators=900, min_child_parameters=4, max_depth=10, learning_rate=0.7 \n",
      "[11:51:42] WARNING: src/objective/regression_obj.cu:152: reg:linear is now deprecated in favor of reg:squarederror.\n"
     ]
    },
    {
     "name": "stderr",
     "output_type": "stream",
     "text": [
      "C:\\Users\\K T KUMAR\\Anaconda33\\lib\\site-packages\\xgboost\\core.py:587: FutureWarning: Series.base is deprecated and will be removed in a future version\n",
      "  if getattr(data, 'base', None) is not None and \\\n"
     ]
    },
    {
     "name": "stdout",
     "output_type": "stream",
     "text": [
      "[CV]  subsample=0.7, n_estimators=900, min_child_parameters=4, max_depth=10, learning_rate=0.7, total=   0.6s\n",
      "[CV] subsample=0.5, n_estimators=1100, min_child_parameters=6, max_depth=20, learning_rate=0.2 \n",
      "[11:51:42] WARNING: src/objective/regression_obj.cu:152: reg:linear is now deprecated in favor of reg:squarederror.\n"
     ]
    },
    {
     "name": "stderr",
     "output_type": "stream",
     "text": [
      "C:\\Users\\K T KUMAR\\Anaconda33\\lib\\site-packages\\xgboost\\core.py:587: FutureWarning: Series.base is deprecated and will be removed in a future version\n",
      "  if getattr(data, 'base', None) is not None and \\\n"
     ]
    },
    {
     "name": "stdout",
     "output_type": "stream",
     "text": [
      "[CV]  subsample=0.5, n_estimators=1100, min_child_parameters=6, max_depth=20, learning_rate=0.2, total=   1.8s\n",
      "[CV] subsample=0.5, n_estimators=1100, min_child_parameters=6, max_depth=20, learning_rate=0.2 \n",
      "[11:51:44] WARNING: src/objective/regression_obj.cu:152: reg:linear is now deprecated in favor of reg:squarederror.\n"
     ]
    },
    {
     "name": "stderr",
     "output_type": "stream",
     "text": [
      "C:\\Users\\K T KUMAR\\Anaconda33\\lib\\site-packages\\xgboost\\core.py:587: FutureWarning: Series.base is deprecated and will be removed in a future version\n",
      "  if getattr(data, 'base', None) is not None and \\\n"
     ]
    },
    {
     "name": "stdout",
     "output_type": "stream",
     "text": [
      "[CV]  subsample=0.5, n_estimators=1100, min_child_parameters=6, max_depth=20, learning_rate=0.2, total=   1.6s\n",
      "[CV] subsample=0.5, n_estimators=1100, min_child_parameters=6, max_depth=20, learning_rate=0.2 \n",
      "[11:51:46] WARNING: src/objective/regression_obj.cu:152: reg:linear is now deprecated in favor of reg:squarederror.\n"
     ]
    },
    {
     "name": "stderr",
     "output_type": "stream",
     "text": [
      "C:\\Users\\K T KUMAR\\Anaconda33\\lib\\site-packages\\xgboost\\core.py:587: FutureWarning: Series.base is deprecated and will be removed in a future version\n",
      "  if getattr(data, 'base', None) is not None and \\\n"
     ]
    },
    {
     "name": "stdout",
     "output_type": "stream",
     "text": [
      "[CV]  subsample=0.5, n_estimators=1100, min_child_parameters=6, max_depth=20, learning_rate=0.2, total=   1.7s\n",
      "[CV] subsample=0.5, n_estimators=1100, min_child_parameters=6, max_depth=20, learning_rate=0.2 \n",
      "[11:51:47] WARNING: src/objective/regression_obj.cu:152: reg:linear is now deprecated in favor of reg:squarederror.\n"
     ]
    },
    {
     "name": "stderr",
     "output_type": "stream",
     "text": [
      "C:\\Users\\K T KUMAR\\Anaconda33\\lib\\site-packages\\xgboost\\core.py:587: FutureWarning: Series.base is deprecated and will be removed in a future version\n",
      "  if getattr(data, 'base', None) is not None and \\\n"
     ]
    },
    {
     "name": "stdout",
     "output_type": "stream",
     "text": [
      "[CV]  subsample=0.5, n_estimators=1100, min_child_parameters=6, max_depth=20, learning_rate=0.2, total=   1.7s\n",
      "[CV] subsample=0.7, n_estimators=800, min_child_parameters=7, max_depth=10, learning_rate=0.04 \n",
      "[11:51:49] WARNING: src/objective/regression_obj.cu:152: reg:linear is now deprecated in favor of reg:squarederror.\n"
     ]
    },
    {
     "name": "stderr",
     "output_type": "stream",
     "text": [
      "C:\\Users\\K T KUMAR\\Anaconda33\\lib\\site-packages\\xgboost\\core.py:587: FutureWarning: Series.base is deprecated and will be removed in a future version\n",
      "  if getattr(data, 'base', None) is not None and \\\n"
     ]
    },
    {
     "name": "stdout",
     "output_type": "stream",
     "text": [
      "[CV]  subsample=0.7, n_estimators=800, min_child_parameters=7, max_depth=10, learning_rate=0.04, total=   2.7s\n",
      "[CV] subsample=0.7, n_estimators=800, min_child_parameters=7, max_depth=10, learning_rate=0.04 \n",
      "[11:51:52] WARNING: src/objective/regression_obj.cu:152: reg:linear is now deprecated in favor of reg:squarederror.\n"
     ]
    },
    {
     "name": "stderr",
     "output_type": "stream",
     "text": [
      "C:\\Users\\K T KUMAR\\Anaconda33\\lib\\site-packages\\xgboost\\core.py:587: FutureWarning: Series.base is deprecated and will be removed in a future version\n",
      "  if getattr(data, 'base', None) is not None and \\\n"
     ]
    },
    {
     "name": "stdout",
     "output_type": "stream",
     "text": [
      "[CV]  subsample=0.7, n_estimators=800, min_child_parameters=7, max_depth=10, learning_rate=0.04, total=   2.7s\n",
      "[CV] subsample=0.7, n_estimators=800, min_child_parameters=7, max_depth=10, learning_rate=0.04 \n",
      "[11:51:54] WARNING: src/objective/regression_obj.cu:152: reg:linear is now deprecated in favor of reg:squarederror.\n"
     ]
    },
    {
     "name": "stderr",
     "output_type": "stream",
     "text": [
      "C:\\Users\\K T KUMAR\\Anaconda33\\lib\\site-packages\\xgboost\\core.py:587: FutureWarning: Series.base is deprecated and will be removed in a future version\n",
      "  if getattr(data, 'base', None) is not None and \\\n"
     ]
    },
    {
     "name": "stdout",
     "output_type": "stream",
     "text": [
      "[CV]  subsample=0.7, n_estimators=800, min_child_parameters=7, max_depth=10, learning_rate=0.04, total=   2.7s\n",
      "[CV] subsample=0.7, n_estimators=800, min_child_parameters=7, max_depth=10, learning_rate=0.04 \n",
      "[11:51:57] WARNING: src/objective/regression_obj.cu:152: reg:linear is now deprecated in favor of reg:squarederror.\n"
     ]
    },
    {
     "name": "stderr",
     "output_type": "stream",
     "text": [
      "C:\\Users\\K T KUMAR\\Anaconda33\\lib\\site-packages\\xgboost\\core.py:587: FutureWarning: Series.base is deprecated and will be removed in a future version\n",
      "  if getattr(data, 'base', None) is not None and \\\n"
     ]
    },
    {
     "name": "stdout",
     "output_type": "stream",
     "text": [
      "[CV]  subsample=0.7, n_estimators=800, min_child_parameters=7, max_depth=10, learning_rate=0.04, total=   2.7s\n",
      "[CV] subsample=0.5, n_estimators=1200, min_child_parameters=6, max_depth=20, learning_rate=0.6 \n",
      "[11:52:00] WARNING: src/objective/regression_obj.cu:152: reg:linear is now deprecated in favor of reg:squarederror.\n"
     ]
    },
    {
     "name": "stderr",
     "output_type": "stream",
     "text": [
      "C:\\Users\\K T KUMAR\\Anaconda33\\lib\\site-packages\\xgboost\\core.py:587: FutureWarning: Series.base is deprecated and will be removed in a future version\n",
      "  if getattr(data, 'base', None) is not None and \\\n"
     ]
    },
    {
     "name": "stdout",
     "output_type": "stream",
     "text": [
      "[CV]  subsample=0.5, n_estimators=1200, min_child_parameters=6, max_depth=20, learning_rate=0.6, total=   1.0s\n",
      "[CV] subsample=0.5, n_estimators=1200, min_child_parameters=6, max_depth=20, learning_rate=0.6 \n",
      "[11:52:01] WARNING: src/objective/regression_obj.cu:152: reg:linear is now deprecated in favor of reg:squarederror.\n"
     ]
    },
    {
     "name": "stderr",
     "output_type": "stream",
     "text": [
      "C:\\Users\\K T KUMAR\\Anaconda33\\lib\\site-packages\\xgboost\\core.py:587: FutureWarning: Series.base is deprecated and will be removed in a future version\n",
      "  if getattr(data, 'base', None) is not None and \\\n"
     ]
    },
    {
     "name": "stdout",
     "output_type": "stream",
     "text": [
      "[CV]  subsample=0.5, n_estimators=1200, min_child_parameters=6, max_depth=20, learning_rate=0.6, total=   0.9s\n",
      "[CV] subsample=0.5, n_estimators=1200, min_child_parameters=6, max_depth=20, learning_rate=0.6 \n",
      "[11:52:02] WARNING: src/objective/regression_obj.cu:152: reg:linear is now deprecated in favor of reg:squarederror.\n"
     ]
    },
    {
     "name": "stderr",
     "output_type": "stream",
     "text": [
      "C:\\Users\\K T KUMAR\\Anaconda33\\lib\\site-packages\\xgboost\\core.py:587: FutureWarning: Series.base is deprecated and will be removed in a future version\n",
      "  if getattr(data, 'base', None) is not None and \\\n"
     ]
    },
    {
     "name": "stdout",
     "output_type": "stream",
     "text": [
      "[CV]  subsample=0.5, n_estimators=1200, min_child_parameters=6, max_depth=20, learning_rate=0.6, total=   1.0s\n",
      "[CV] subsample=0.5, n_estimators=1200, min_child_parameters=6, max_depth=20, learning_rate=0.6 \n",
      "[11:52:03] WARNING: src/objective/regression_obj.cu:152: reg:linear is now deprecated in favor of reg:squarederror.\n"
     ]
    },
    {
     "name": "stderr",
     "output_type": "stream",
     "text": [
      "C:\\Users\\K T KUMAR\\Anaconda33\\lib\\site-packages\\xgboost\\core.py:587: FutureWarning: Series.base is deprecated and will be removed in a future version\n",
      "  if getattr(data, 'base', None) is not None and \\\n"
     ]
    },
    {
     "name": "stdout",
     "output_type": "stream",
     "text": [
      "[CV]  subsample=0.5, n_estimators=1200, min_child_parameters=6, max_depth=20, learning_rate=0.6, total=   1.0s\n",
      "[CV] subsample=0.8, n_estimators=900, min_child_parameters=7, max_depth=15, learning_rate=0.2 \n",
      "[11:52:04] WARNING: src/objective/regression_obj.cu:152: reg:linear is now deprecated in favor of reg:squarederror.\n"
     ]
    },
    {
     "name": "stderr",
     "output_type": "stream",
     "text": [
      "C:\\Users\\K T KUMAR\\Anaconda33\\lib\\site-packages\\xgboost\\core.py:587: FutureWarning: Series.base is deprecated and will be removed in a future version\n",
      "  if getattr(data, 'base', None) is not None and \\\n"
     ]
    },
    {
     "name": "stdout",
     "output_type": "stream",
     "text": [
      "[CV]  subsample=0.8, n_estimators=900, min_child_parameters=7, max_depth=15, learning_rate=0.2, total=   1.0s\n",
      "[CV] subsample=0.8, n_estimators=900, min_child_parameters=7, max_depth=15, learning_rate=0.2 \n",
      "[11:52:05] WARNING: src/objective/regression_obj.cu:152: reg:linear is now deprecated in favor of reg:squarederror.\n"
     ]
    },
    {
     "name": "stderr",
     "output_type": "stream",
     "text": [
      "C:\\Users\\K T KUMAR\\Anaconda33\\lib\\site-packages\\xgboost\\core.py:587: FutureWarning: Series.base is deprecated and will be removed in a future version\n",
      "  if getattr(data, 'base', None) is not None and \\\n"
     ]
    },
    {
     "name": "stdout",
     "output_type": "stream",
     "text": [
      "[CV]  subsample=0.8, n_estimators=900, min_child_parameters=7, max_depth=15, learning_rate=0.2, total=   1.0s\n",
      "[CV] subsample=0.8, n_estimators=900, min_child_parameters=7, max_depth=15, learning_rate=0.2 \n",
      "[11:52:06] WARNING: src/objective/regression_obj.cu:152: reg:linear is now deprecated in favor of reg:squarederror.\n"
     ]
    },
    {
     "name": "stderr",
     "output_type": "stream",
     "text": [
      "C:\\Users\\K T KUMAR\\Anaconda33\\lib\\site-packages\\xgboost\\core.py:587: FutureWarning: Series.base is deprecated and will be removed in a future version\n",
      "  if getattr(data, 'base', None) is not None and \\\n"
     ]
    },
    {
     "name": "stdout",
     "output_type": "stream",
     "text": [
      "[CV]  subsample=0.8, n_estimators=900, min_child_parameters=7, max_depth=15, learning_rate=0.2, total=   1.0s\n",
      "[CV] subsample=0.8, n_estimators=900, min_child_parameters=7, max_depth=15, learning_rate=0.2 \n",
      "[11:52:07] WARNING: src/objective/regression_obj.cu:152: reg:linear is now deprecated in favor of reg:squarederror.\n"
     ]
    },
    {
     "name": "stderr",
     "output_type": "stream",
     "text": [
      "C:\\Users\\K T KUMAR\\Anaconda33\\lib\\site-packages\\xgboost\\core.py:587: FutureWarning: Series.base is deprecated and will be removed in a future version\n",
      "  if getattr(data, 'base', None) is not None and \\\n"
     ]
    },
    {
     "name": "stdout",
     "output_type": "stream",
     "text": [
      "[CV]  subsample=0.8, n_estimators=900, min_child_parameters=7, max_depth=15, learning_rate=0.2, total=   1.0s\n",
      "[CV] subsample=0.8, n_estimators=100, min_child_parameters=7, max_depth=30, learning_rate=0.7 \n",
      "[11:52:08] WARNING: src/objective/regression_obj.cu:152: reg:linear is now deprecated in favor of reg:squarederror.\n"
     ]
    },
    {
     "name": "stderr",
     "output_type": "stream",
     "text": [
      "C:\\Users\\K T KUMAR\\Anaconda33\\lib\\site-packages\\xgboost\\core.py:587: FutureWarning: Series.base is deprecated and will be removed in a future version\n",
      "  if getattr(data, 'base', None) is not None and \\\n"
     ]
    },
    {
     "name": "stdout",
     "output_type": "stream",
     "text": [
      "[CV]  subsample=0.8, n_estimators=100, min_child_parameters=7, max_depth=30, learning_rate=0.7, total=   0.3s\n",
      "[CV] subsample=0.8, n_estimators=100, min_child_parameters=7, max_depth=30, learning_rate=0.7 \n",
      "[11:52:08] WARNING: src/objective/regression_obj.cu:152: reg:linear is now deprecated in favor of reg:squarederror.\n"
     ]
    },
    {
     "name": "stderr",
     "output_type": "stream",
     "text": [
      "C:\\Users\\K T KUMAR\\Anaconda33\\lib\\site-packages\\xgboost\\core.py:587: FutureWarning: Series.base is deprecated and will be removed in a future version\n",
      "  if getattr(data, 'base', None) is not None and \\\n"
     ]
    },
    {
     "name": "stdout",
     "output_type": "stream",
     "text": [
      "[CV]  subsample=0.8, n_estimators=100, min_child_parameters=7, max_depth=30, learning_rate=0.7, total=   0.3s\n",
      "[CV] subsample=0.8, n_estimators=100, min_child_parameters=7, max_depth=30, learning_rate=0.7 \n",
      "[11:52:08] WARNING: src/objective/regression_obj.cu:152: reg:linear is now deprecated in favor of reg:squarederror.\n"
     ]
    },
    {
     "name": "stderr",
     "output_type": "stream",
     "text": [
      "C:\\Users\\K T KUMAR\\Anaconda33\\lib\\site-packages\\xgboost\\core.py:587: FutureWarning: Series.base is deprecated and will be removed in a future version\n",
      "  if getattr(data, 'base', None) is not None and \\\n"
     ]
    },
    {
     "name": "stdout",
     "output_type": "stream",
     "text": [
      "[CV]  subsample=0.8, n_estimators=100, min_child_parameters=7, max_depth=30, learning_rate=0.7, total=   0.3s\n",
      "[CV] subsample=0.8, n_estimators=100, min_child_parameters=7, max_depth=30, learning_rate=0.7 \n",
      "[11:52:08] WARNING: src/objective/regression_obj.cu:152: reg:linear is now deprecated in favor of reg:squarederror.\n"
     ]
    },
    {
     "name": "stderr",
     "output_type": "stream",
     "text": [
      "C:\\Users\\K T KUMAR\\Anaconda33\\lib\\site-packages\\xgboost\\core.py:587: FutureWarning: Series.base is deprecated and will be removed in a future version\n",
      "  if getattr(data, 'base', None) is not None and \\\n"
     ]
    },
    {
     "name": "stdout",
     "output_type": "stream",
     "text": [
      "[CV]  subsample=0.8, n_estimators=100, min_child_parameters=7, max_depth=30, learning_rate=0.7, total=   0.3s\n",
      "[CV] subsample=0.8, n_estimators=900, min_child_parameters=6, max_depth=5, learning_rate=0.04 \n",
      "[11:52:09] WARNING: src/objective/regression_obj.cu:152: reg:linear is now deprecated in favor of reg:squarederror.\n"
     ]
    },
    {
     "name": "stderr",
     "output_type": "stream",
     "text": [
      "C:\\Users\\K T KUMAR\\Anaconda33\\lib\\site-packages\\xgboost\\core.py:587: FutureWarning: Series.base is deprecated and will be removed in a future version\n",
      "  if getattr(data, 'base', None) is not None and \\\n"
     ]
    },
    {
     "name": "stdout",
     "output_type": "stream",
     "text": [
      "[CV]  subsample=0.8, n_estimators=900, min_child_parameters=6, max_depth=5, learning_rate=0.04, total=   1.4s\n",
      "[CV] subsample=0.8, n_estimators=900, min_child_parameters=6, max_depth=5, learning_rate=0.04 \n",
      "[11:52:10] WARNING: src/objective/regression_obj.cu:152: reg:linear is now deprecated in favor of reg:squarederror.\n"
     ]
    },
    {
     "name": "stderr",
     "output_type": "stream",
     "text": [
      "C:\\Users\\K T KUMAR\\Anaconda33\\lib\\site-packages\\xgboost\\core.py:587: FutureWarning: Series.base is deprecated and will be removed in a future version\n",
      "  if getattr(data, 'base', None) is not None and \\\n"
     ]
    },
    {
     "name": "stdout",
     "output_type": "stream",
     "text": [
      "[CV]  subsample=0.8, n_estimators=900, min_child_parameters=6, max_depth=5, learning_rate=0.04, total=   1.4s\n",
      "[CV] subsample=0.8, n_estimators=900, min_child_parameters=6, max_depth=5, learning_rate=0.04 \n",
      "[11:52:12] WARNING: src/objective/regression_obj.cu:152: reg:linear is now deprecated in favor of reg:squarederror.\n"
     ]
    },
    {
     "name": "stderr",
     "output_type": "stream",
     "text": [
      "C:\\Users\\K T KUMAR\\Anaconda33\\lib\\site-packages\\xgboost\\core.py:587: FutureWarning: Series.base is deprecated and will be removed in a future version\n",
      "  if getattr(data, 'base', None) is not None and \\\n"
     ]
    },
    {
     "name": "stdout",
     "output_type": "stream",
     "text": [
      "[CV]  subsample=0.8, n_estimators=900, min_child_parameters=6, max_depth=5, learning_rate=0.04, total=   1.4s\n",
      "[CV] subsample=0.8, n_estimators=900, min_child_parameters=6, max_depth=5, learning_rate=0.04 \n",
      "[11:52:13] WARNING: src/objective/regression_obj.cu:152: reg:linear is now deprecated in favor of reg:squarederror.\n"
     ]
    },
    {
     "name": "stderr",
     "output_type": "stream",
     "text": [
      "C:\\Users\\K T KUMAR\\Anaconda33\\lib\\site-packages\\xgboost\\core.py:587: FutureWarning: Series.base is deprecated and will be removed in a future version\n",
      "  if getattr(data, 'base', None) is not None and \\\n"
     ]
    },
    {
     "name": "stdout",
     "output_type": "stream",
     "text": [
      "[CV]  subsample=0.8, n_estimators=900, min_child_parameters=6, max_depth=5, learning_rate=0.04, total=   1.4s\n",
      "[CV] subsample=0.5, n_estimators=1100, min_child_parameters=3, max_depth=15, learning_rate=0.6 \n",
      "[11:52:14] WARNING: src/objective/regression_obj.cu:152: reg:linear is now deprecated in favor of reg:squarederror.\n"
     ]
    },
    {
     "name": "stderr",
     "output_type": "stream",
     "text": [
      "C:\\Users\\K T KUMAR\\Anaconda33\\lib\\site-packages\\xgboost\\core.py:587: FutureWarning: Series.base is deprecated and will be removed in a future version\n",
      "  if getattr(data, 'base', None) is not None and \\\n"
     ]
    },
    {
     "name": "stdout",
     "output_type": "stream",
     "text": [
      "[CV]  subsample=0.5, n_estimators=1100, min_child_parameters=3, max_depth=15, learning_rate=0.6, total=   0.9s\n",
      "[CV] subsample=0.5, n_estimators=1100, min_child_parameters=3, max_depth=15, learning_rate=0.6 \n",
      "[11:52:15] WARNING: src/objective/regression_obj.cu:152: reg:linear is now deprecated in favor of reg:squarederror.\n"
     ]
    },
    {
     "name": "stderr",
     "output_type": "stream",
     "text": [
      "C:\\Users\\K T KUMAR\\Anaconda33\\lib\\site-packages\\xgboost\\core.py:587: FutureWarning: Series.base is deprecated and will be removed in a future version\n",
      "  if getattr(data, 'base', None) is not None and \\\n"
     ]
    },
    {
     "name": "stdout",
     "output_type": "stream",
     "text": [
      "[CV]  subsample=0.5, n_estimators=1100, min_child_parameters=3, max_depth=15, learning_rate=0.6, total=   0.9s\n",
      "[CV] subsample=0.5, n_estimators=1100, min_child_parameters=3, max_depth=15, learning_rate=0.6 \n",
      "[11:52:16] WARNING: src/objective/regression_obj.cu:152: reg:linear is now deprecated in favor of reg:squarederror.\n"
     ]
    },
    {
     "name": "stderr",
     "output_type": "stream",
     "text": [
      "C:\\Users\\K T KUMAR\\Anaconda33\\lib\\site-packages\\xgboost\\core.py:587: FutureWarning: Series.base is deprecated and will be removed in a future version\n",
      "  if getattr(data, 'base', None) is not None and \\\n"
     ]
    },
    {
     "name": "stdout",
     "output_type": "stream",
     "text": [
      "[CV]  subsample=0.5, n_estimators=1100, min_child_parameters=3, max_depth=15, learning_rate=0.6, total=   0.9s\n",
      "[CV] subsample=0.5, n_estimators=1100, min_child_parameters=3, max_depth=15, learning_rate=0.6 \n",
      "[11:52:17] WARNING: src/objective/regression_obj.cu:152: reg:linear is now deprecated in favor of reg:squarederror.\n"
     ]
    },
    {
     "name": "stderr",
     "output_type": "stream",
     "text": [
      "C:\\Users\\K T KUMAR\\Anaconda33\\lib\\site-packages\\xgboost\\core.py:587: FutureWarning: Series.base is deprecated and will be removed in a future version\n",
      "  if getattr(data, 'base', None) is not None and \\\n"
     ]
    },
    {
     "name": "stdout",
     "output_type": "stream",
     "text": [
      "[CV]  subsample=0.5, n_estimators=1100, min_child_parameters=3, max_depth=15, learning_rate=0.6, total=   0.9s\n",
      "[CV] subsample=0.7, n_estimators=1200, min_child_parameters=5, max_depth=5, learning_rate=0.5 \n",
      "[11:52:18] WARNING: src/objective/regression_obj.cu:152: reg:linear is now deprecated in favor of reg:squarederror.\n"
     ]
    },
    {
     "name": "stderr",
     "output_type": "stream",
     "text": [
      "C:\\Users\\K T KUMAR\\Anaconda33\\lib\\site-packages\\xgboost\\core.py:587: FutureWarning: Series.base is deprecated and will be removed in a future version\n",
      "  if getattr(data, 'base', None) is not None and \\\n"
     ]
    },
    {
     "name": "stdout",
     "output_type": "stream",
     "text": [
      "[CV]  subsample=0.7, n_estimators=1200, min_child_parameters=5, max_depth=5, learning_rate=0.5, total=   0.8s\n",
      "[CV] subsample=0.7, n_estimators=1200, min_child_parameters=5, max_depth=5, learning_rate=0.5 \n",
      "[11:52:19] WARNING: src/objective/regression_obj.cu:152: reg:linear is now deprecated in favor of reg:squarederror.\n"
     ]
    },
    {
     "name": "stderr",
     "output_type": "stream",
     "text": [
      "C:\\Users\\K T KUMAR\\Anaconda33\\lib\\site-packages\\xgboost\\core.py:587: FutureWarning: Series.base is deprecated and will be removed in a future version\n",
      "  if getattr(data, 'base', None) is not None and \\\n"
     ]
    },
    {
     "name": "stdout",
     "output_type": "stream",
     "text": [
      "[CV]  subsample=0.7, n_estimators=1200, min_child_parameters=5, max_depth=5, learning_rate=0.5, total=   0.8s\n",
      "[CV] subsample=0.7, n_estimators=1200, min_child_parameters=5, max_depth=5, learning_rate=0.5 \n",
      "[11:52:19] WARNING: src/objective/regression_obj.cu:152: reg:linear is now deprecated in favor of reg:squarederror.\n"
     ]
    },
    {
     "name": "stderr",
     "output_type": "stream",
     "text": [
      "C:\\Users\\K T KUMAR\\Anaconda33\\lib\\site-packages\\xgboost\\core.py:587: FutureWarning: Series.base is deprecated and will be removed in a future version\n",
      "  if getattr(data, 'base', None) is not None and \\\n"
     ]
    },
    {
     "name": "stdout",
     "output_type": "stream",
     "text": [
      "[CV]  subsample=0.7, n_estimators=1200, min_child_parameters=5, max_depth=5, learning_rate=0.5, total=   0.8s\n",
      "[CV] subsample=0.7, n_estimators=1200, min_child_parameters=5, max_depth=5, learning_rate=0.5 \n",
      "[11:52:20] WARNING: src/objective/regression_obj.cu:152: reg:linear is now deprecated in favor of reg:squarederror.\n"
     ]
    },
    {
     "name": "stderr",
     "output_type": "stream",
     "text": [
      "C:\\Users\\K T KUMAR\\Anaconda33\\lib\\site-packages\\xgboost\\core.py:587: FutureWarning: Series.base is deprecated and will be removed in a future version\n",
      "  if getattr(data, 'base', None) is not None and \\\n"
     ]
    },
    {
     "name": "stdout",
     "output_type": "stream",
     "text": [
      "[CV]  subsample=0.7, n_estimators=1200, min_child_parameters=5, max_depth=5, learning_rate=0.5, total=   0.8s\n",
      "[CV] subsample=0.5, n_estimators=100, min_child_parameters=6, max_depth=15, learning_rate=0.6 \n",
      "[11:52:21] WARNING: src/objective/regression_obj.cu:152: reg:linear is now deprecated in favor of reg:squarederror.\n"
     ]
    },
    {
     "name": "stderr",
     "output_type": "stream",
     "text": [
      "C:\\Users\\K T KUMAR\\Anaconda33\\lib\\site-packages\\xgboost\\core.py:587: FutureWarning: Series.base is deprecated and will be removed in a future version\n",
      "  if getattr(data, 'base', None) is not None and \\\n"
     ]
    },
    {
     "name": "stdout",
     "output_type": "stream",
     "text": [
      "[CV]  subsample=0.5, n_estimators=100, min_child_parameters=6, max_depth=15, learning_rate=0.6, total=   0.4s\n",
      "[CV] subsample=0.5, n_estimators=100, min_child_parameters=6, max_depth=15, learning_rate=0.6 \n",
      "[11:52:22] WARNING: src/objective/regression_obj.cu:152: reg:linear is now deprecated in favor of reg:squarederror.\n"
     ]
    },
    {
     "name": "stderr",
     "output_type": "stream",
     "text": [
      "C:\\Users\\K T KUMAR\\Anaconda33\\lib\\site-packages\\xgboost\\core.py:587: FutureWarning: Series.base is deprecated and will be removed in a future version\n",
      "  if getattr(data, 'base', None) is not None and \\\n"
     ]
    },
    {
     "name": "stdout",
     "output_type": "stream",
     "text": [
      "[CV]  subsample=0.5, n_estimators=100, min_child_parameters=6, max_depth=15, learning_rate=0.6, total=   0.4s\n",
      "[CV] subsample=0.5, n_estimators=100, min_child_parameters=6, max_depth=15, learning_rate=0.6 \n",
      "[11:52:22] WARNING: src/objective/regression_obj.cu:152: reg:linear is now deprecated in favor of reg:squarederror.\n"
     ]
    },
    {
     "name": "stderr",
     "output_type": "stream",
     "text": [
      "C:\\Users\\K T KUMAR\\Anaconda33\\lib\\site-packages\\xgboost\\core.py:587: FutureWarning: Series.base is deprecated and will be removed in a future version\n",
      "  if getattr(data, 'base', None) is not None and \\\n"
     ]
    },
    {
     "name": "stdout",
     "output_type": "stream",
     "text": [
      "[CV]  subsample=0.5, n_estimators=100, min_child_parameters=6, max_depth=15, learning_rate=0.6, total=   0.4s\n",
      "[CV] subsample=0.5, n_estimators=100, min_child_parameters=6, max_depth=15, learning_rate=0.6 \n",
      "[11:52:22] WARNING: src/objective/regression_obj.cu:152: reg:linear is now deprecated in favor of reg:squarederror.\n"
     ]
    },
    {
     "name": "stderr",
     "output_type": "stream",
     "text": [
      "C:\\Users\\K T KUMAR\\Anaconda33\\lib\\site-packages\\xgboost\\core.py:587: FutureWarning: Series.base is deprecated and will be removed in a future version\n",
      "  if getattr(data, 'base', None) is not None and \\\n"
     ]
    },
    {
     "name": "stdout",
     "output_type": "stream",
     "text": [
      "[CV]  subsample=0.5, n_estimators=100, min_child_parameters=6, max_depth=15, learning_rate=0.6, total=   0.4s\n",
      "[CV] subsample=0.8, n_estimators=400, min_child_parameters=6, max_depth=20, learning_rate=0.2 \n",
      "[11:52:23] WARNING: src/objective/regression_obj.cu:152: reg:linear is now deprecated in favor of reg:squarederror.\n"
     ]
    },
    {
     "name": "stderr",
     "output_type": "stream",
     "text": [
      "C:\\Users\\K T KUMAR\\Anaconda33\\lib\\site-packages\\xgboost\\core.py:587: FutureWarning: Series.base is deprecated and will be removed in a future version\n",
      "  if getattr(data, 'base', None) is not None and \\\n"
     ]
    },
    {
     "name": "stdout",
     "output_type": "stream",
     "text": [
      "[CV]  subsample=0.8, n_estimators=400, min_child_parameters=6, max_depth=20, learning_rate=0.2, total=   0.9s\n",
      "[CV] subsample=0.8, n_estimators=400, min_child_parameters=6, max_depth=20, learning_rate=0.2 \n",
      "[11:52:24] WARNING: src/objective/regression_obj.cu:152: reg:linear is now deprecated in favor of reg:squarederror.\n"
     ]
    },
    {
     "name": "stderr",
     "output_type": "stream",
     "text": [
      "C:\\Users\\K T KUMAR\\Anaconda33\\lib\\site-packages\\xgboost\\core.py:587: FutureWarning: Series.base is deprecated and will be removed in a future version\n",
      "  if getattr(data, 'base', None) is not None and \\\n"
     ]
    },
    {
     "name": "stdout",
     "output_type": "stream",
     "text": [
      "[CV]  subsample=0.8, n_estimators=400, min_child_parameters=6, max_depth=20, learning_rate=0.2, total=   0.9s\n",
      "[CV] subsample=0.8, n_estimators=400, min_child_parameters=6, max_depth=20, learning_rate=0.2 \n",
      "[11:52:25] WARNING: src/objective/regression_obj.cu:152: reg:linear is now deprecated in favor of reg:squarederror.\n"
     ]
    },
    {
     "name": "stderr",
     "output_type": "stream",
     "text": [
      "C:\\Users\\K T KUMAR\\Anaconda33\\lib\\site-packages\\xgboost\\core.py:587: FutureWarning: Series.base is deprecated and will be removed in a future version\n",
      "  if getattr(data, 'base', None) is not None and \\\n"
     ]
    },
    {
     "name": "stdout",
     "output_type": "stream",
     "text": [
      "[CV]  subsample=0.8, n_estimators=400, min_child_parameters=6, max_depth=20, learning_rate=0.2, total=   0.9s\n",
      "[CV] subsample=0.8, n_estimators=400, min_child_parameters=6, max_depth=20, learning_rate=0.2 \n",
      "[11:52:25] WARNING: src/objective/regression_obj.cu:152: reg:linear is now deprecated in favor of reg:squarederror.\n"
     ]
    },
    {
     "name": "stderr",
     "output_type": "stream",
     "text": [
      "C:\\Users\\K T KUMAR\\Anaconda33\\lib\\site-packages\\xgboost\\core.py:587: FutureWarning: Series.base is deprecated and will be removed in a future version\n",
      "  if getattr(data, 'base', None) is not None and \\\n"
     ]
    },
    {
     "name": "stdout",
     "output_type": "stream",
     "text": [
      "[CV]  subsample=0.8, n_estimators=400, min_child_parameters=6, max_depth=20, learning_rate=0.2, total=   0.9s\n",
      "[CV] subsample=0.8, n_estimators=800, min_child_parameters=7, max_depth=10, learning_rate=0.5 \n",
      "[11:52:26] WARNING: src/objective/regression_obj.cu:152: reg:linear is now deprecated in favor of reg:squarederror.\n"
     ]
    },
    {
     "name": "stderr",
     "output_type": "stream",
     "text": [
      "C:\\Users\\K T KUMAR\\Anaconda33\\lib\\site-packages\\xgboost\\core.py:587: FutureWarning: Series.base is deprecated and will be removed in a future version\n",
      "  if getattr(data, 'base', None) is not None and \\\n"
     ]
    },
    {
     "name": "stdout",
     "output_type": "stream",
     "text": [
      "[CV]  subsample=0.8, n_estimators=800, min_child_parameters=7, max_depth=10, learning_rate=0.5, total=   0.5s\n",
      "[CV] subsample=0.8, n_estimators=800, min_child_parameters=7, max_depth=10, learning_rate=0.5 \n",
      "[11:52:27] WARNING: src/objective/regression_obj.cu:152: reg:linear is now deprecated in favor of reg:squarederror.\n"
     ]
    },
    {
     "name": "stderr",
     "output_type": "stream",
     "text": [
      "C:\\Users\\K T KUMAR\\Anaconda33\\lib\\site-packages\\xgboost\\core.py:587: FutureWarning: Series.base is deprecated and will be removed in a future version\n",
      "  if getattr(data, 'base', None) is not None and \\\n"
     ]
    },
    {
     "name": "stdout",
     "output_type": "stream",
     "text": [
      "[CV]  subsample=0.8, n_estimators=800, min_child_parameters=7, max_depth=10, learning_rate=0.5, total=   0.4s\n",
      "[CV] subsample=0.8, n_estimators=800, min_child_parameters=7, max_depth=10, learning_rate=0.5 \n",
      "[11:52:27] WARNING: src/objective/regression_obj.cu:152: reg:linear is now deprecated in favor of reg:squarederror.\n"
     ]
    },
    {
     "name": "stderr",
     "output_type": "stream",
     "text": [
      "C:\\Users\\K T KUMAR\\Anaconda33\\lib\\site-packages\\xgboost\\core.py:587: FutureWarning: Series.base is deprecated and will be removed in a future version\n",
      "  if getattr(data, 'base', None) is not None and \\\n"
     ]
    },
    {
     "name": "stdout",
     "output_type": "stream",
     "text": [
      "[CV]  subsample=0.8, n_estimators=800, min_child_parameters=7, max_depth=10, learning_rate=0.5, total=   0.4s\n",
      "[CV] subsample=0.8, n_estimators=800, min_child_parameters=7, max_depth=10, learning_rate=0.5 \n",
      "[11:52:28] WARNING: src/objective/regression_obj.cu:152: reg:linear is now deprecated in favor of reg:squarederror.\n"
     ]
    },
    {
     "name": "stderr",
     "output_type": "stream",
     "text": [
      "C:\\Users\\K T KUMAR\\Anaconda33\\lib\\site-packages\\xgboost\\core.py:587: FutureWarning: Series.base is deprecated and will be removed in a future version\n",
      "  if getattr(data, 'base', None) is not None and \\\n"
     ]
    },
    {
     "name": "stdout",
     "output_type": "stream",
     "text": [
      "[CV]  subsample=0.8, n_estimators=800, min_child_parameters=7, max_depth=10, learning_rate=0.5, total=   0.5s\n",
      "[CV] subsample=0.5, n_estimators=300, min_child_parameters=6, max_depth=15, learning_rate=0.04 \n",
      "[11:52:28] WARNING: src/objective/regression_obj.cu:152: reg:linear is now deprecated in favor of reg:squarederror.\n"
     ]
    },
    {
     "name": "stderr",
     "output_type": "stream",
     "text": [
      "C:\\Users\\K T KUMAR\\Anaconda33\\lib\\site-packages\\xgboost\\core.py:587: FutureWarning: Series.base is deprecated and will be removed in a future version\n",
      "  if getattr(data, 'base', None) is not None and \\\n"
     ]
    },
    {
     "name": "stdout",
     "output_type": "stream",
     "text": [
      "[CV]  subsample=0.5, n_estimators=300, min_child_parameters=6, max_depth=15, learning_rate=0.04, total=   1.2s\n",
      "[CV] subsample=0.5, n_estimators=300, min_child_parameters=6, max_depth=15, learning_rate=0.04 \n",
      "[11:52:30] WARNING: src/objective/regression_obj.cu:152: reg:linear is now deprecated in favor of reg:squarederror.\n"
     ]
    },
    {
     "name": "stderr",
     "output_type": "stream",
     "text": [
      "C:\\Users\\K T KUMAR\\Anaconda33\\lib\\site-packages\\xgboost\\core.py:587: FutureWarning: Series.base is deprecated and will be removed in a future version\n",
      "  if getattr(data, 'base', None) is not None and \\\n"
     ]
    },
    {
     "name": "stdout",
     "output_type": "stream",
     "text": [
      "[CV]  subsample=0.5, n_estimators=300, min_child_parameters=6, max_depth=15, learning_rate=0.04, total=   1.2s\n",
      "[CV] subsample=0.5, n_estimators=300, min_child_parameters=6, max_depth=15, learning_rate=0.04 \n",
      "[11:52:31] WARNING: src/objective/regression_obj.cu:152: reg:linear is now deprecated in favor of reg:squarederror.\n"
     ]
    },
    {
     "name": "stderr",
     "output_type": "stream",
     "text": [
      "C:\\Users\\K T KUMAR\\Anaconda33\\lib\\site-packages\\xgboost\\core.py:587: FutureWarning: Series.base is deprecated and will be removed in a future version\n",
      "  if getattr(data, 'base', None) is not None and \\\n"
     ]
    },
    {
     "name": "stdout",
     "output_type": "stream",
     "text": [
      "[CV]  subsample=0.5, n_estimators=300, min_child_parameters=6, max_depth=15, learning_rate=0.04, total=   1.2s\n",
      "[CV] subsample=0.5, n_estimators=300, min_child_parameters=6, max_depth=15, learning_rate=0.04 \n",
      "[11:52:32] WARNING: src/objective/regression_obj.cu:152: reg:linear is now deprecated in favor of reg:squarederror.\n"
     ]
    },
    {
     "name": "stderr",
     "output_type": "stream",
     "text": [
      "C:\\Users\\K T KUMAR\\Anaconda33\\lib\\site-packages\\xgboost\\core.py:587: FutureWarning: Series.base is deprecated and will be removed in a future version\n",
      "  if getattr(data, 'base', None) is not None and \\\n"
     ]
    },
    {
     "name": "stdout",
     "output_type": "stream",
     "text": [
      "[CV]  subsample=0.5, n_estimators=300, min_child_parameters=6, max_depth=15, learning_rate=0.04, total=   1.3s\n",
      "[CV] subsample=0.8, n_estimators=300, min_child_parameters=5, max_depth=20, learning_rate=0.5 \n",
      "[11:52:33] WARNING: src/objective/regression_obj.cu:152: reg:linear is now deprecated in favor of reg:squarederror.\n"
     ]
    },
    {
     "name": "stderr",
     "output_type": "stream",
     "text": [
      "C:\\Users\\K T KUMAR\\Anaconda33\\lib\\site-packages\\xgboost\\core.py:587: FutureWarning: Series.base is deprecated and will be removed in a future version\n",
      "  if getattr(data, 'base', None) is not None and \\\n"
     ]
    },
    {
     "name": "stdout",
     "output_type": "stream",
     "text": [
      "[CV]  subsample=0.8, n_estimators=300, min_child_parameters=5, max_depth=20, learning_rate=0.5, total=   0.4s\n",
      "[CV] subsample=0.8, n_estimators=300, min_child_parameters=5, max_depth=20, learning_rate=0.5 \n",
      "[11:52:34] WARNING: src/objective/regression_obj.cu:152: reg:linear is now deprecated in favor of reg:squarederror.\n"
     ]
    },
    {
     "name": "stderr",
     "output_type": "stream",
     "text": [
      "C:\\Users\\K T KUMAR\\Anaconda33\\lib\\site-packages\\xgboost\\core.py:587: FutureWarning: Series.base is deprecated and will be removed in a future version\n",
      "  if getattr(data, 'base', None) is not None and \\\n"
     ]
    },
    {
     "name": "stdout",
     "output_type": "stream",
     "text": [
      "[CV]  subsample=0.8, n_estimators=300, min_child_parameters=5, max_depth=20, learning_rate=0.5, total=   0.4s\n",
      "[CV] subsample=0.8, n_estimators=300, min_child_parameters=5, max_depth=20, learning_rate=0.5 \n",
      "[11:52:34] WARNING: src/objective/regression_obj.cu:152: reg:linear is now deprecated in favor of reg:squarederror.\n"
     ]
    },
    {
     "name": "stderr",
     "output_type": "stream",
     "text": [
      "C:\\Users\\K T KUMAR\\Anaconda33\\lib\\site-packages\\xgboost\\core.py:587: FutureWarning: Series.base is deprecated and will be removed in a future version\n",
      "  if getattr(data, 'base', None) is not None and \\\n"
     ]
    },
    {
     "name": "stdout",
     "output_type": "stream",
     "text": [
      "[CV]  subsample=0.8, n_estimators=300, min_child_parameters=5, max_depth=20, learning_rate=0.5, total=   0.4s\n",
      "[CV] subsample=0.8, n_estimators=300, min_child_parameters=5, max_depth=20, learning_rate=0.5 \n",
      "[11:52:35] WARNING: src/objective/regression_obj.cu:152: reg:linear is now deprecated in favor of reg:squarederror.\n"
     ]
    },
    {
     "name": "stderr",
     "output_type": "stream",
     "text": [
      "C:\\Users\\K T KUMAR\\Anaconda33\\lib\\site-packages\\xgboost\\core.py:587: FutureWarning: Series.base is deprecated and will be removed in a future version\n",
      "  if getattr(data, 'base', None) is not None and \\\n"
     ]
    },
    {
     "name": "stdout",
     "output_type": "stream",
     "text": [
      "[CV]  subsample=0.8, n_estimators=300, min_child_parameters=5, max_depth=20, learning_rate=0.5, total=   0.4s\n",
      "[CV] subsample=0.7, n_estimators=600, min_child_parameters=4, max_depth=25, learning_rate=0.3 \n",
      "[11:52:35] WARNING: src/objective/regression_obj.cu:152: reg:linear is now deprecated in favor of reg:squarederror.\n"
     ]
    },
    {
     "name": "stderr",
     "output_type": "stream",
     "text": [
      "C:\\Users\\K T KUMAR\\Anaconda33\\lib\\site-packages\\xgboost\\core.py:587: FutureWarning: Series.base is deprecated and will be removed in a future version\n",
      "  if getattr(data, 'base', None) is not None and \\\n"
     ]
    },
    {
     "name": "stdout",
     "output_type": "stream",
     "text": [
      "[CV]  subsample=0.7, n_estimators=600, min_child_parameters=4, max_depth=25, learning_rate=0.3, total=   0.9s\n",
      "[CV] subsample=0.7, n_estimators=600, min_child_parameters=4, max_depth=25, learning_rate=0.3 \n",
      "[11:52:36] WARNING: src/objective/regression_obj.cu:152: reg:linear is now deprecated in favor of reg:squarederror.\n"
     ]
    },
    {
     "name": "stderr",
     "output_type": "stream",
     "text": [
      "C:\\Users\\K T KUMAR\\Anaconda33\\lib\\site-packages\\xgboost\\core.py:587: FutureWarning: Series.base is deprecated and will be removed in a future version\n",
      "  if getattr(data, 'base', None) is not None and \\\n"
     ]
    },
    {
     "name": "stdout",
     "output_type": "stream",
     "text": [
      "[CV]  subsample=0.7, n_estimators=600, min_child_parameters=4, max_depth=25, learning_rate=0.3, total=   0.9s\n",
      "[CV] subsample=0.7, n_estimators=600, min_child_parameters=4, max_depth=25, learning_rate=0.3 \n",
      "[11:52:37] WARNING: src/objective/regression_obj.cu:152: reg:linear is now deprecated in favor of reg:squarederror.\n"
     ]
    },
    {
     "name": "stderr",
     "output_type": "stream",
     "text": [
      "C:\\Users\\K T KUMAR\\Anaconda33\\lib\\site-packages\\xgboost\\core.py:587: FutureWarning: Series.base is deprecated and will be removed in a future version\n",
      "  if getattr(data, 'base', None) is not None and \\\n"
     ]
    },
    {
     "name": "stdout",
     "output_type": "stream",
     "text": [
      "[CV]  subsample=0.7, n_estimators=600, min_child_parameters=4, max_depth=25, learning_rate=0.3, total=   0.8s\n",
      "[CV] subsample=0.7, n_estimators=600, min_child_parameters=4, max_depth=25, learning_rate=0.3 \n",
      "[11:52:38] WARNING: src/objective/regression_obj.cu:152: reg:linear is now deprecated in favor of reg:squarederror.\n"
     ]
    },
    {
     "name": "stderr",
     "output_type": "stream",
     "text": [
      "C:\\Users\\K T KUMAR\\Anaconda33\\lib\\site-packages\\xgboost\\core.py:587: FutureWarning: Series.base is deprecated and will be removed in a future version\n",
      "  if getattr(data, 'base', None) is not None and \\\n"
     ]
    },
    {
     "name": "stdout",
     "output_type": "stream",
     "text": [
      "[CV]  subsample=0.7, n_estimators=600, min_child_parameters=4, max_depth=25, learning_rate=0.3, total=   0.9s\n",
      "[CV] subsample=0.8, n_estimators=200, min_child_parameters=3, max_depth=25, learning_rate=0.6 \n",
      "[11:52:38] WARNING: src/objective/regression_obj.cu:152: reg:linear is now deprecated in favor of reg:squarederror.\n"
     ]
    },
    {
     "name": "stderr",
     "output_type": "stream",
     "text": [
      "C:\\Users\\K T KUMAR\\Anaconda33\\lib\\site-packages\\xgboost\\core.py:587: FutureWarning: Series.base is deprecated and will be removed in a future version\n",
      "  if getattr(data, 'base', None) is not None and \\\n"
     ]
    },
    {
     "name": "stdout",
     "output_type": "stream",
     "text": [
      "[CV]  subsample=0.8, n_estimators=200, min_child_parameters=3, max_depth=25, learning_rate=0.6, total=   0.4s\n",
      "[CV] subsample=0.8, n_estimators=200, min_child_parameters=3, max_depth=25, learning_rate=0.6 \n",
      "[11:52:39] WARNING: src/objective/regression_obj.cu:152: reg:linear is now deprecated in favor of reg:squarederror.\n"
     ]
    },
    {
     "name": "stderr",
     "output_type": "stream",
     "text": [
      "C:\\Users\\K T KUMAR\\Anaconda33\\lib\\site-packages\\xgboost\\core.py:587: FutureWarning: Series.base is deprecated and will be removed in a future version\n",
      "  if getattr(data, 'base', None) is not None and \\\n"
     ]
    },
    {
     "name": "stdout",
     "output_type": "stream",
     "text": [
      "[CV]  subsample=0.8, n_estimators=200, min_child_parameters=3, max_depth=25, learning_rate=0.6, total=   0.3s\n",
      "[CV] subsample=0.8, n_estimators=200, min_child_parameters=3, max_depth=25, learning_rate=0.6 \n",
      "[11:52:39] WARNING: src/objective/regression_obj.cu:152: reg:linear is now deprecated in favor of reg:squarederror.\n"
     ]
    },
    {
     "name": "stderr",
     "output_type": "stream",
     "text": [
      "C:\\Users\\K T KUMAR\\Anaconda33\\lib\\site-packages\\xgboost\\core.py:587: FutureWarning: Series.base is deprecated and will be removed in a future version\n",
      "  if getattr(data, 'base', None) is not None and \\\n"
     ]
    },
    {
     "name": "stdout",
     "output_type": "stream",
     "text": [
      "[CV]  subsample=0.8, n_estimators=200, min_child_parameters=3, max_depth=25, learning_rate=0.6, total=   0.4s\n",
      "[CV] subsample=0.8, n_estimators=200, min_child_parameters=3, max_depth=25, learning_rate=0.6 \n",
      "[11:52:39] WARNING: src/objective/regression_obj.cu:152: reg:linear is now deprecated in favor of reg:squarederror.\n"
     ]
    },
    {
     "name": "stderr",
     "output_type": "stream",
     "text": [
      "C:\\Users\\K T KUMAR\\Anaconda33\\lib\\site-packages\\xgboost\\core.py:587: FutureWarning: Series.base is deprecated and will be removed in a future version\n",
      "  if getattr(data, 'base', None) is not None and \\\n"
     ]
    },
    {
     "name": "stdout",
     "output_type": "stream",
     "text": [
      "[CV]  subsample=0.8, n_estimators=200, min_child_parameters=3, max_depth=25, learning_rate=0.6, total=   0.3s\n",
      "[CV] subsample=0.8, n_estimators=800, min_child_parameters=3, max_depth=20, learning_rate=0.04 \n",
      "[11:52:40] WARNING: src/objective/regression_obj.cu:152: reg:linear is now deprecated in favor of reg:squarederror.\n"
     ]
    },
    {
     "name": "stderr",
     "output_type": "stream",
     "text": [
      "C:\\Users\\K T KUMAR\\Anaconda33\\lib\\site-packages\\xgboost\\core.py:587: FutureWarning: Series.base is deprecated and will be removed in a future version\n",
      "  if getattr(data, 'base', None) is not None and \\\n"
     ]
    },
    {
     "name": "stdout",
     "output_type": "stream",
     "text": [
      "[CV]  subsample=0.8, n_estimators=800, min_child_parameters=3, max_depth=20, learning_rate=0.04, total=   3.9s\n",
      "[CV] subsample=0.8, n_estimators=800, min_child_parameters=3, max_depth=20, learning_rate=0.04 \n",
      "[11:52:44] WARNING: src/objective/regression_obj.cu:152: reg:linear is now deprecated in favor of reg:squarederror.\n"
     ]
    },
    {
     "name": "stderr",
     "output_type": "stream",
     "text": [
      "C:\\Users\\K T KUMAR\\Anaconda33\\lib\\site-packages\\xgboost\\core.py:587: FutureWarning: Series.base is deprecated and will be removed in a future version\n",
      "  if getattr(data, 'base', None) is not None and \\\n"
     ]
    },
    {
     "name": "stdout",
     "output_type": "stream",
     "text": [
      "[CV]  subsample=0.8, n_estimators=800, min_child_parameters=3, max_depth=20, learning_rate=0.04, total=   3.9s\n",
      "[CV] subsample=0.8, n_estimators=800, min_child_parameters=3, max_depth=20, learning_rate=0.04 \n",
      "[11:52:48] WARNING: src/objective/regression_obj.cu:152: reg:linear is now deprecated in favor of reg:squarederror.\n"
     ]
    },
    {
     "name": "stderr",
     "output_type": "stream",
     "text": [
      "C:\\Users\\K T KUMAR\\Anaconda33\\lib\\site-packages\\xgboost\\core.py:587: FutureWarning: Series.base is deprecated and will be removed in a future version\n",
      "  if getattr(data, 'base', None) is not None and \\\n"
     ]
    },
    {
     "name": "stdout",
     "output_type": "stream",
     "text": [
      "[CV]  subsample=0.8, n_estimators=800, min_child_parameters=3, max_depth=20, learning_rate=0.04, total=   3.9s\n",
      "[CV] subsample=0.8, n_estimators=800, min_child_parameters=3, max_depth=20, learning_rate=0.04 \n",
      "[11:52:52] WARNING: src/objective/regression_obj.cu:152: reg:linear is now deprecated in favor of reg:squarederror.\n"
     ]
    },
    {
     "name": "stderr",
     "output_type": "stream",
     "text": [
      "C:\\Users\\K T KUMAR\\Anaconda33\\lib\\site-packages\\xgboost\\core.py:587: FutureWarning: Series.base is deprecated and will be removed in a future version\n",
      "  if getattr(data, 'base', None) is not None and \\\n"
     ]
    },
    {
     "name": "stdout",
     "output_type": "stream",
     "text": [
      "[CV]  subsample=0.8, n_estimators=800, min_child_parameters=3, max_depth=20, learning_rate=0.04, total=   3.9s\n",
      "[CV] subsample=0.5, n_estimators=800, min_child_parameters=4, max_depth=10, learning_rate=0.04 \n",
      "[11:52:55] WARNING: src/objective/regression_obj.cu:152: reg:linear is now deprecated in favor of reg:squarederror.\n"
     ]
    },
    {
     "name": "stderr",
     "output_type": "stream",
     "text": [
      "C:\\Users\\K T KUMAR\\Anaconda33\\lib\\site-packages\\xgboost\\core.py:587: FutureWarning: Series.base is deprecated and will be removed in a future version\n",
      "  if getattr(data, 'base', None) is not None and \\\n"
     ]
    },
    {
     "name": "stdout",
     "output_type": "stream",
     "text": [
      "[CV]  subsample=0.5, n_estimators=800, min_child_parameters=4, max_depth=10, learning_rate=0.04, total=   2.5s\n",
      "[CV] subsample=0.5, n_estimators=800, min_child_parameters=4, max_depth=10, learning_rate=0.04 \n",
      "[11:52:58] WARNING: src/objective/regression_obj.cu:152: reg:linear is now deprecated in favor of reg:squarederror.\n"
     ]
    },
    {
     "name": "stderr",
     "output_type": "stream",
     "text": [
      "C:\\Users\\K T KUMAR\\Anaconda33\\lib\\site-packages\\xgboost\\core.py:587: FutureWarning: Series.base is deprecated and will be removed in a future version\n",
      "  if getattr(data, 'base', None) is not None and \\\n"
     ]
    },
    {
     "name": "stdout",
     "output_type": "stream",
     "text": [
      "[CV]  subsample=0.5, n_estimators=800, min_child_parameters=4, max_depth=10, learning_rate=0.04, total=   2.5s\n",
      "[CV] subsample=0.5, n_estimators=800, min_child_parameters=4, max_depth=10, learning_rate=0.04 \n",
      "[11:53:00] WARNING: src/objective/regression_obj.cu:152: reg:linear is now deprecated in favor of reg:squarederror.\n"
     ]
    },
    {
     "name": "stderr",
     "output_type": "stream",
     "text": [
      "C:\\Users\\K T KUMAR\\Anaconda33\\lib\\site-packages\\xgboost\\core.py:587: FutureWarning: Series.base is deprecated and will be removed in a future version\n",
      "  if getattr(data, 'base', None) is not None and \\\n"
     ]
    },
    {
     "name": "stdout",
     "output_type": "stream",
     "text": [
      "[CV]  subsample=0.5, n_estimators=800, min_child_parameters=4, max_depth=10, learning_rate=0.04, total=   2.5s\n",
      "[CV] subsample=0.5, n_estimators=800, min_child_parameters=4, max_depth=10, learning_rate=0.04 \n",
      "[11:53:03] WARNING: src/objective/regression_obj.cu:152: reg:linear is now deprecated in favor of reg:squarederror.\n"
     ]
    },
    {
     "name": "stderr",
     "output_type": "stream",
     "text": [
      "C:\\Users\\K T KUMAR\\Anaconda33\\lib\\site-packages\\xgboost\\core.py:587: FutureWarning: Series.base is deprecated and will be removed in a future version\n",
      "  if getattr(data, 'base', None) is not None and \\\n"
     ]
    },
    {
     "name": "stdout",
     "output_type": "stream",
     "text": [
      "[CV]  subsample=0.5, n_estimators=800, min_child_parameters=4, max_depth=10, learning_rate=0.04, total=   2.5s\n",
      "[CV] subsample=0.8, n_estimators=600, min_child_parameters=4, max_depth=5, learning_rate=0.7 \n",
      "[11:53:06] WARNING: src/objective/regression_obj.cu:152: reg:linear is now deprecated in favor of reg:squarederror.\n"
     ]
    },
    {
     "name": "stderr",
     "output_type": "stream",
     "text": [
      "C:\\Users\\K T KUMAR\\Anaconda33\\lib\\site-packages\\xgboost\\core.py:587: FutureWarning: Series.base is deprecated and will be removed in a future version\n",
      "  if getattr(data, 'base', None) is not None and \\\n"
     ]
    },
    {
     "name": "stdout",
     "output_type": "stream",
     "text": [
      "[CV]  subsample=0.8, n_estimators=600, min_child_parameters=4, max_depth=5, learning_rate=0.7, total=   0.5s\n",
      "[CV] subsample=0.8, n_estimators=600, min_child_parameters=4, max_depth=5, learning_rate=0.7 \n",
      "[11:53:06] WARNING: src/objective/regression_obj.cu:152: reg:linear is now deprecated in favor of reg:squarederror.\n"
     ]
    },
    {
     "name": "stderr",
     "output_type": "stream",
     "text": [
      "C:\\Users\\K T KUMAR\\Anaconda33\\lib\\site-packages\\xgboost\\core.py:587: FutureWarning: Series.base is deprecated and will be removed in a future version\n",
      "  if getattr(data, 'base', None) is not None and \\\n"
     ]
    },
    {
     "name": "stdout",
     "output_type": "stream",
     "text": [
      "[CV]  subsample=0.8, n_estimators=600, min_child_parameters=4, max_depth=5, learning_rate=0.7, total=   0.5s\n",
      "[CV] subsample=0.8, n_estimators=600, min_child_parameters=4, max_depth=5, learning_rate=0.7 \n",
      "[11:53:06] WARNING: src/objective/regression_obj.cu:152: reg:linear is now deprecated in favor of reg:squarederror.\n"
     ]
    },
    {
     "name": "stderr",
     "output_type": "stream",
     "text": [
      "C:\\Users\\K T KUMAR\\Anaconda33\\lib\\site-packages\\xgboost\\core.py:587: FutureWarning: Series.base is deprecated and will be removed in a future version\n",
      "  if getattr(data, 'base', None) is not None and \\\n"
     ]
    },
    {
     "name": "stdout",
     "output_type": "stream",
     "text": [
      "[CV]  subsample=0.8, n_estimators=600, min_child_parameters=4, max_depth=5, learning_rate=0.7, total=   0.5s\n",
      "[CV] subsample=0.8, n_estimators=600, min_child_parameters=4, max_depth=5, learning_rate=0.7 \n",
      "[11:53:07] WARNING: src/objective/regression_obj.cu:152: reg:linear is now deprecated in favor of reg:squarederror.\n"
     ]
    },
    {
     "name": "stderr",
     "output_type": "stream",
     "text": [
      "C:\\Users\\K T KUMAR\\Anaconda33\\lib\\site-packages\\xgboost\\core.py:587: FutureWarning: Series.base is deprecated and will be removed in a future version\n",
      "  if getattr(data, 'base', None) is not None and \\\n"
     ]
    },
    {
     "name": "stdout",
     "output_type": "stream",
     "text": [
      "[CV]  subsample=0.8, n_estimators=600, min_child_parameters=4, max_depth=5, learning_rate=0.7, total=   0.5s\n",
      "[CV] subsample=0.7, n_estimators=900, min_child_parameters=5, max_depth=30, learning_rate=0.7 \n",
      "[11:53:07] WARNING: src/objective/regression_obj.cu:152: reg:linear is now deprecated in favor of reg:squarederror.\n"
     ]
    },
    {
     "name": "stderr",
     "output_type": "stream",
     "text": [
      "C:\\Users\\K T KUMAR\\Anaconda33\\lib\\site-packages\\xgboost\\core.py:587: FutureWarning: Series.base is deprecated and will be removed in a future version\n",
      "  if getattr(data, 'base', None) is not None and \\\n"
     ]
    },
    {
     "name": "stdout",
     "output_type": "stream",
     "text": [
      "[CV]  subsample=0.7, n_estimators=900, min_child_parameters=5, max_depth=30, learning_rate=0.7, total=   0.7s\n",
      "[CV] subsample=0.7, n_estimators=900, min_child_parameters=5, max_depth=30, learning_rate=0.7 \n",
      "[11:53:08] WARNING: src/objective/regression_obj.cu:152: reg:linear is now deprecated in favor of reg:squarederror.\n"
     ]
    },
    {
     "name": "stderr",
     "output_type": "stream",
     "text": [
      "C:\\Users\\K T KUMAR\\Anaconda33\\lib\\site-packages\\xgboost\\core.py:587: FutureWarning: Series.base is deprecated and will be removed in a future version\n",
      "  if getattr(data, 'base', None) is not None and \\\n"
     ]
    },
    {
     "name": "stdout",
     "output_type": "stream",
     "text": [
      "[CV]  subsample=0.7, n_estimators=900, min_child_parameters=5, max_depth=30, learning_rate=0.7, total=   0.6s\n",
      "[CV] subsample=0.7, n_estimators=900, min_child_parameters=5, max_depth=30, learning_rate=0.7 \n",
      "[11:53:09] WARNING: src/objective/regression_obj.cu:152: reg:linear is now deprecated in favor of reg:squarederror.\n"
     ]
    },
    {
     "name": "stderr",
     "output_type": "stream",
     "text": [
      "C:\\Users\\K T KUMAR\\Anaconda33\\lib\\site-packages\\xgboost\\core.py:587: FutureWarning: Series.base is deprecated and will be removed in a future version\n",
      "  if getattr(data, 'base', None) is not None and \\\n"
     ]
    },
    {
     "name": "stdout",
     "output_type": "stream",
     "text": [
      "[CV]  subsample=0.7, n_estimators=900, min_child_parameters=5, max_depth=30, learning_rate=0.7, total=   0.6s\n",
      "[CV] subsample=0.7, n_estimators=900, min_child_parameters=5, max_depth=30, learning_rate=0.7 \n",
      "[11:53:09] WARNING: src/objective/regression_obj.cu:152: reg:linear is now deprecated in favor of reg:squarederror.\n"
     ]
    },
    {
     "name": "stderr",
     "output_type": "stream",
     "text": [
      "C:\\Users\\K T KUMAR\\Anaconda33\\lib\\site-packages\\xgboost\\core.py:587: FutureWarning: Series.base is deprecated and will be removed in a future version\n",
      "  if getattr(data, 'base', None) is not None and \\\n"
     ]
    },
    {
     "name": "stdout",
     "output_type": "stream",
     "text": [
      "[CV]  subsample=0.7, n_estimators=900, min_child_parameters=5, max_depth=30, learning_rate=0.7, total=   0.7s\n",
      "[CV] subsample=0.8, n_estimators=1100, min_child_parameters=5, max_depth=10, learning_rate=0.6 \n",
      "[11:53:10] WARNING: src/objective/regression_obj.cu:152: reg:linear is now deprecated in favor of reg:squarederror.\n"
     ]
    },
    {
     "name": "stderr",
     "output_type": "stream",
     "text": [
      "C:\\Users\\K T KUMAR\\Anaconda33\\lib\\site-packages\\xgboost\\core.py:587: FutureWarning: Series.base is deprecated and will be removed in a future version\n",
      "  if getattr(data, 'base', None) is not None and \\\n"
     ]
    },
    {
     "name": "stdout",
     "output_type": "stream",
     "text": [
      "[CV]  subsample=0.8, n_estimators=1100, min_child_parameters=5, max_depth=10, learning_rate=0.6, total=   0.6s\n",
      "[CV] subsample=0.8, n_estimators=1100, min_child_parameters=5, max_depth=10, learning_rate=0.6 \n",
      "[11:53:11] WARNING: src/objective/regression_obj.cu:152: reg:linear is now deprecated in favor of reg:squarederror.\n"
     ]
    },
    {
     "name": "stderr",
     "output_type": "stream",
     "text": [
      "C:\\Users\\K T KUMAR\\Anaconda33\\lib\\site-packages\\xgboost\\core.py:587: FutureWarning: Series.base is deprecated and will be removed in a future version\n",
      "  if getattr(data, 'base', None) is not None and \\\n"
     ]
    },
    {
     "name": "stdout",
     "output_type": "stream",
     "text": [
      "[CV]  subsample=0.8, n_estimators=1100, min_child_parameters=5, max_depth=10, learning_rate=0.6, total=   0.6s\n",
      "[CV] subsample=0.8, n_estimators=1100, min_child_parameters=5, max_depth=10, learning_rate=0.6 \n",
      "[11:53:11] WARNING: src/objective/regression_obj.cu:152: reg:linear is now deprecated in favor of reg:squarederror.\n"
     ]
    },
    {
     "name": "stderr",
     "output_type": "stream",
     "text": [
      "C:\\Users\\K T KUMAR\\Anaconda33\\lib\\site-packages\\xgboost\\core.py:587: FutureWarning: Series.base is deprecated and will be removed in a future version\n",
      "  if getattr(data, 'base', None) is not None and \\\n"
     ]
    },
    {
     "name": "stdout",
     "output_type": "stream",
     "text": [
      "[CV]  subsample=0.8, n_estimators=1100, min_child_parameters=5, max_depth=10, learning_rate=0.6, total=   0.6s\n",
      "[CV] subsample=0.8, n_estimators=1100, min_child_parameters=5, max_depth=10, learning_rate=0.6 \n",
      "[11:53:12] WARNING: src/objective/regression_obj.cu:152: reg:linear is now deprecated in favor of reg:squarederror.\n"
     ]
    },
    {
     "name": "stderr",
     "output_type": "stream",
     "text": [
      "C:\\Users\\K T KUMAR\\Anaconda33\\lib\\site-packages\\xgboost\\core.py:587: FutureWarning: Series.base is deprecated and will be removed in a future version\n",
      "  if getattr(data, 'base', None) is not None and \\\n"
     ]
    },
    {
     "name": "stdout",
     "output_type": "stream",
     "text": [
      "[CV]  subsample=0.8, n_estimators=1100, min_child_parameters=5, max_depth=10, learning_rate=0.6, total=   0.6s\n",
      "[CV] subsample=0.8, n_estimators=100, min_child_parameters=3, max_depth=5, learning_rate=0.5 \n",
      "[11:53:12] WARNING: src/objective/regression_obj.cu:152: reg:linear is now deprecated in favor of reg:squarederror.\n",
      "[CV]  subsample=0.8, n_estimators=100, min_child_parameters=3, max_depth=5, learning_rate=0.5, total=   0.2s\n",
      "[CV] subsample=0.8, n_estimators=100, min_child_parameters=3, max_depth=5, learning_rate=0.5 \n",
      "[11:53:13] WARNING: src/objective/regression_obj.cu:152: reg:linear is now deprecated in favor of reg:squarederror.\n"
     ]
    },
    {
     "name": "stderr",
     "output_type": "stream",
     "text": [
      "C:\\Users\\K T KUMAR\\Anaconda33\\lib\\site-packages\\xgboost\\core.py:587: FutureWarning: Series.base is deprecated and will be removed in a future version\n",
      "  if getattr(data, 'base', None) is not None and \\\n",
      "C:\\Users\\K T KUMAR\\Anaconda33\\lib\\site-packages\\xgboost\\core.py:587: FutureWarning: Series.base is deprecated and will be removed in a future version\n",
      "  if getattr(data, 'base', None) is not None and \\\n"
     ]
    },
    {
     "name": "stdout",
     "output_type": "stream",
     "text": [
      "[CV]  subsample=0.8, n_estimators=100, min_child_parameters=3, max_depth=5, learning_rate=0.5, total=   0.2s\n",
      "[CV] subsample=0.8, n_estimators=100, min_child_parameters=3, max_depth=5, learning_rate=0.5 \n",
      "[11:53:13] WARNING: src/objective/regression_obj.cu:152: reg:linear is now deprecated in favor of reg:squarederror.\n",
      "[CV]  subsample=0.8, n_estimators=100, min_child_parameters=3, max_depth=5, learning_rate=0.5, total=   0.2s\n",
      "[CV] subsample=0.8, n_estimators=100, min_child_parameters=3, max_depth=5, learning_rate=0.5 \n",
      "[11:53:13] WARNING: src/objective/regression_obj.cu:152: reg:linear is now deprecated in favor of reg:squarederror.\n"
     ]
    },
    {
     "name": "stderr",
     "output_type": "stream",
     "text": [
      "C:\\Users\\K T KUMAR\\Anaconda33\\lib\\site-packages\\xgboost\\core.py:587: FutureWarning: Series.base is deprecated and will be removed in a future version\n",
      "  if getattr(data, 'base', None) is not None and \\\n",
      "C:\\Users\\K T KUMAR\\Anaconda33\\lib\\site-packages\\xgboost\\core.py:587: FutureWarning: Series.base is deprecated and will be removed in a future version\n",
      "  if getattr(data, 'base', None) is not None and \\\n"
     ]
    },
    {
     "name": "stdout",
     "output_type": "stream",
     "text": [
      "[CV]  subsample=0.8, n_estimators=100, min_child_parameters=3, max_depth=5, learning_rate=0.5, total=   0.2s\n",
      "[CV] subsample=0.8, n_estimators=200, min_child_parameters=3, max_depth=5, learning_rate=0.6 \n",
      "[11:53:13] WARNING: src/objective/regression_obj.cu:152: reg:linear is now deprecated in favor of reg:squarederror.\n"
     ]
    },
    {
     "name": "stderr",
     "output_type": "stream",
     "text": [
      "C:\\Users\\K T KUMAR\\Anaconda33\\lib\\site-packages\\xgboost\\core.py:587: FutureWarning: Series.base is deprecated and will be removed in a future version\n",
      "  if getattr(data, 'base', None) is not None and \\\n"
     ]
    },
    {
     "name": "stdout",
     "output_type": "stream",
     "text": [
      "[CV]  subsample=0.8, n_estimators=200, min_child_parameters=3, max_depth=5, learning_rate=0.6, total=   0.3s\n",
      "[CV] subsample=0.8, n_estimators=200, min_child_parameters=3, max_depth=5, learning_rate=0.6 \n",
      "[11:53:13] WARNING: src/objective/regression_obj.cu:152: reg:linear is now deprecated in favor of reg:squarederror.\n"
     ]
    },
    {
     "name": "stderr",
     "output_type": "stream",
     "text": [
      "C:\\Users\\K T KUMAR\\Anaconda33\\lib\\site-packages\\xgboost\\core.py:587: FutureWarning: Series.base is deprecated and will be removed in a future version\n",
      "  if getattr(data, 'base', None) is not None and \\\n"
     ]
    },
    {
     "name": "stdout",
     "output_type": "stream",
     "text": [
      "[CV]  subsample=0.8, n_estimators=200, min_child_parameters=3, max_depth=5, learning_rate=0.6, total=   0.3s\n",
      "[CV] subsample=0.8, n_estimators=200, min_child_parameters=3, max_depth=5, learning_rate=0.6 \n",
      "[11:53:14] WARNING: src/objective/regression_obj.cu:152: reg:linear is now deprecated in favor of reg:squarederror.\n"
     ]
    },
    {
     "name": "stderr",
     "output_type": "stream",
     "text": [
      "C:\\Users\\K T KUMAR\\Anaconda33\\lib\\site-packages\\xgboost\\core.py:587: FutureWarning: Series.base is deprecated and will be removed in a future version\n",
      "  if getattr(data, 'base', None) is not None and \\\n"
     ]
    },
    {
     "name": "stdout",
     "output_type": "stream",
     "text": [
      "[CV]  subsample=0.8, n_estimators=200, min_child_parameters=3, max_depth=5, learning_rate=0.6, total=   0.3s\n",
      "[CV] subsample=0.8, n_estimators=200, min_child_parameters=3, max_depth=5, learning_rate=0.6 \n",
      "[11:53:14] WARNING: src/objective/regression_obj.cu:152: reg:linear is now deprecated in favor of reg:squarederror.\n"
     ]
    },
    {
     "name": "stderr",
     "output_type": "stream",
     "text": [
      "C:\\Users\\K T KUMAR\\Anaconda33\\lib\\site-packages\\xgboost\\core.py:587: FutureWarning: Series.base is deprecated and will be removed in a future version\n",
      "  if getattr(data, 'base', None) is not None and \\\n"
     ]
    },
    {
     "name": "stdout",
     "output_type": "stream",
     "text": [
      "[CV]  subsample=0.8, n_estimators=200, min_child_parameters=3, max_depth=5, learning_rate=0.6, total=   0.3s\n",
      "[CV] subsample=0.5, n_estimators=900, min_child_parameters=3, max_depth=30, learning_rate=0.04 \n",
      "[11:53:14] WARNING: src/objective/regression_obj.cu:152: reg:linear is now deprecated in favor of reg:squarederror.\n"
     ]
    },
    {
     "name": "stderr",
     "output_type": "stream",
     "text": [
      "C:\\Users\\K T KUMAR\\Anaconda33\\lib\\site-packages\\xgboost\\core.py:587: FutureWarning: Series.base is deprecated and will be removed in a future version\n",
      "  if getattr(data, 'base', None) is not None and \\\n"
     ]
    },
    {
     "name": "stdout",
     "output_type": "stream",
     "text": [
      "[CV]  subsample=0.5, n_estimators=900, min_child_parameters=3, max_depth=30, learning_rate=0.04, total=   4.9s\n",
      "[CV] subsample=0.5, n_estimators=900, min_child_parameters=3, max_depth=30, learning_rate=0.04 \n",
      "[11:53:19] WARNING: src/objective/regression_obj.cu:152: reg:linear is now deprecated in favor of reg:squarederror.\n"
     ]
    },
    {
     "name": "stderr",
     "output_type": "stream",
     "text": [
      "C:\\Users\\K T KUMAR\\Anaconda33\\lib\\site-packages\\xgboost\\core.py:587: FutureWarning: Series.base is deprecated and will be removed in a future version\n",
      "  if getattr(data, 'base', None) is not None and \\\n"
     ]
    },
    {
     "name": "stdout",
     "output_type": "stream",
     "text": [
      "[CV]  subsample=0.5, n_estimators=900, min_child_parameters=3, max_depth=30, learning_rate=0.04, total=   4.8s\n",
      "[CV] subsample=0.5, n_estimators=900, min_child_parameters=3, max_depth=30, learning_rate=0.04 \n",
      "[11:53:24] WARNING: src/objective/regression_obj.cu:152: reg:linear is now deprecated in favor of reg:squarederror.\n"
     ]
    },
    {
     "name": "stderr",
     "output_type": "stream",
     "text": [
      "C:\\Users\\K T KUMAR\\Anaconda33\\lib\\site-packages\\xgboost\\core.py:587: FutureWarning: Series.base is deprecated and will be removed in a future version\n",
      "  if getattr(data, 'base', None) is not None and \\\n"
     ]
    },
    {
     "name": "stdout",
     "output_type": "stream",
     "text": [
      "[CV]  subsample=0.5, n_estimators=900, min_child_parameters=3, max_depth=30, learning_rate=0.04, total=   4.6s\n",
      "[CV] subsample=0.5, n_estimators=900, min_child_parameters=3, max_depth=30, learning_rate=0.04 \n",
      "[11:53:29] WARNING: src/objective/regression_obj.cu:152: reg:linear is now deprecated in favor of reg:squarederror.\n"
     ]
    },
    {
     "name": "stderr",
     "output_type": "stream",
     "text": [
      "C:\\Users\\K T KUMAR\\Anaconda33\\lib\\site-packages\\xgboost\\core.py:587: FutureWarning: Series.base is deprecated and will be removed in a future version\n",
      "  if getattr(data, 'base', None) is not None and \\\n"
     ]
    },
    {
     "name": "stdout",
     "output_type": "stream",
     "text": [
      "[CV]  subsample=0.5, n_estimators=900, min_child_parameters=3, max_depth=30, learning_rate=0.04, total=   4.8s\n",
      "[CV] subsample=0.5, n_estimators=500, min_child_parameters=7, max_depth=30, learning_rate=0.6 \n",
      "[11:53:33] WARNING: src/objective/regression_obj.cu:152: reg:linear is now deprecated in favor of reg:squarederror.\n"
     ]
    },
    {
     "name": "stderr",
     "output_type": "stream",
     "text": [
      "C:\\Users\\K T KUMAR\\Anaconda33\\lib\\site-packages\\xgboost\\core.py:587: FutureWarning: Series.base is deprecated and will be removed in a future version\n",
      "  if getattr(data, 'base', None) is not None and \\\n"
     ]
    },
    {
     "name": "stdout",
     "output_type": "stream",
     "text": [
      "[CV]  subsample=0.5, n_estimators=500, min_child_parameters=7, max_depth=30, learning_rate=0.6, total=   0.8s\n",
      "[CV] subsample=0.5, n_estimators=500, min_child_parameters=7, max_depth=30, learning_rate=0.6 \n",
      "[11:53:34] WARNING: src/objective/regression_obj.cu:152: reg:linear is now deprecated in favor of reg:squarederror.\n"
     ]
    },
    {
     "name": "stderr",
     "output_type": "stream",
     "text": [
      "C:\\Users\\K T KUMAR\\Anaconda33\\lib\\site-packages\\xgboost\\core.py:587: FutureWarning: Series.base is deprecated and will be removed in a future version\n",
      "  if getattr(data, 'base', None) is not None and \\\n"
     ]
    },
    {
     "name": "stdout",
     "output_type": "stream",
     "text": [
      "[CV]  subsample=0.5, n_estimators=500, min_child_parameters=7, max_depth=30, learning_rate=0.6, total=   0.7s\n",
      "[CV] subsample=0.5, n_estimators=500, min_child_parameters=7, max_depth=30, learning_rate=0.6 \n",
      "[11:53:35] WARNING: src/objective/regression_obj.cu:152: reg:linear is now deprecated in favor of reg:squarederror.\n"
     ]
    },
    {
     "name": "stderr",
     "output_type": "stream",
     "text": [
      "C:\\Users\\K T KUMAR\\Anaconda33\\lib\\site-packages\\xgboost\\core.py:587: FutureWarning: Series.base is deprecated and will be removed in a future version\n",
      "  if getattr(data, 'base', None) is not None and \\\n"
     ]
    },
    {
     "name": "stdout",
     "output_type": "stream",
     "text": [
      "[CV]  subsample=0.5, n_estimators=500, min_child_parameters=7, max_depth=30, learning_rate=0.6, total=   0.7s\n",
      "[CV] subsample=0.5, n_estimators=500, min_child_parameters=7, max_depth=30, learning_rate=0.6 \n",
      "[11:53:36] WARNING: src/objective/regression_obj.cu:152: reg:linear is now deprecated in favor of reg:squarederror.\n"
     ]
    },
    {
     "name": "stderr",
     "output_type": "stream",
     "text": [
      "C:\\Users\\K T KUMAR\\Anaconda33\\lib\\site-packages\\xgboost\\core.py:587: FutureWarning: Series.base is deprecated and will be removed in a future version\n",
      "  if getattr(data, 'base', None) is not None and \\\n"
     ]
    },
    {
     "name": "stdout",
     "output_type": "stream",
     "text": [
      "[CV]  subsample=0.5, n_estimators=500, min_child_parameters=7, max_depth=30, learning_rate=0.6, total=   0.7s\n",
      "[CV] subsample=0.8, n_estimators=500, min_child_parameters=6, max_depth=15, learning_rate=0.3 \n",
      "[11:53:36] WARNING: src/objective/regression_obj.cu:152: reg:linear is now deprecated in favor of reg:squarederror.\n"
     ]
    },
    {
     "name": "stderr",
     "output_type": "stream",
     "text": [
      "C:\\Users\\K T KUMAR\\Anaconda33\\lib\\site-packages\\xgboost\\core.py:587: FutureWarning: Series.base is deprecated and will be removed in a future version\n",
      "  if getattr(data, 'base', None) is not None and \\\n"
     ]
    },
    {
     "name": "stdout",
     "output_type": "stream",
     "text": [
      "[CV]  subsample=0.8, n_estimators=500, min_child_parameters=6, max_depth=15, learning_rate=0.3, total=   0.6s\n",
      "[CV] subsample=0.8, n_estimators=500, min_child_parameters=6, max_depth=15, learning_rate=0.3 \n",
      "[11:53:37] WARNING: src/objective/regression_obj.cu:152: reg:linear is now deprecated in favor of reg:squarederror.\n"
     ]
    },
    {
     "name": "stderr",
     "output_type": "stream",
     "text": [
      "C:\\Users\\K T KUMAR\\Anaconda33\\lib\\site-packages\\xgboost\\core.py:587: FutureWarning: Series.base is deprecated and will be removed in a future version\n",
      "  if getattr(data, 'base', None) is not None and \\\n"
     ]
    },
    {
     "name": "stdout",
     "output_type": "stream",
     "text": [
      "[CV]  subsample=0.8, n_estimators=500, min_child_parameters=6, max_depth=15, learning_rate=0.3, total=   0.6s\n",
      "[CV] subsample=0.8, n_estimators=500, min_child_parameters=6, max_depth=15, learning_rate=0.3 \n",
      "[11:53:38] WARNING: src/objective/regression_obj.cu:152: reg:linear is now deprecated in favor of reg:squarederror.\n"
     ]
    },
    {
     "name": "stderr",
     "output_type": "stream",
     "text": [
      "C:\\Users\\K T KUMAR\\Anaconda33\\lib\\site-packages\\xgboost\\core.py:587: FutureWarning: Series.base is deprecated and will be removed in a future version\n",
      "  if getattr(data, 'base', None) is not None and \\\n"
     ]
    },
    {
     "name": "stdout",
     "output_type": "stream",
     "text": [
      "[CV]  subsample=0.8, n_estimators=500, min_child_parameters=6, max_depth=15, learning_rate=0.3, total=   0.6s\n",
      "[CV] subsample=0.8, n_estimators=500, min_child_parameters=6, max_depth=15, learning_rate=0.3 \n",
      "[11:53:38] WARNING: src/objective/regression_obj.cu:152: reg:linear is now deprecated in favor of reg:squarederror.\n"
     ]
    },
    {
     "name": "stderr",
     "output_type": "stream",
     "text": [
      "C:\\Users\\K T KUMAR\\Anaconda33\\lib\\site-packages\\xgboost\\core.py:587: FutureWarning: Series.base is deprecated and will be removed in a future version\n",
      "  if getattr(data, 'base', None) is not None and \\\n"
     ]
    },
    {
     "name": "stdout",
     "output_type": "stream",
     "text": [
      "[CV]  subsample=0.8, n_estimators=500, min_child_parameters=6, max_depth=15, learning_rate=0.3, total=   0.6s\n",
      "[CV] subsample=0.7, n_estimators=400, min_child_parameters=3, max_depth=25, learning_rate=0.6 \n",
      "[11:53:39] WARNING: src/objective/regression_obj.cu:152: reg:linear is now deprecated in favor of reg:squarederror.\n"
     ]
    },
    {
     "name": "stderr",
     "output_type": "stream",
     "text": [
      "C:\\Users\\K T KUMAR\\Anaconda33\\lib\\site-packages\\xgboost\\core.py:587: FutureWarning: Series.base is deprecated and will be removed in a future version\n",
      "  if getattr(data, 'base', None) is not None and \\\n"
     ]
    },
    {
     "name": "stdout",
     "output_type": "stream",
     "text": [
      "[CV]  subsample=0.7, n_estimators=400, min_child_parameters=3, max_depth=25, learning_rate=0.6, total=   0.5s\n",
      "[CV] subsample=0.7, n_estimators=400, min_child_parameters=3, max_depth=25, learning_rate=0.6 \n",
      "[11:53:39] WARNING: src/objective/regression_obj.cu:152: reg:linear is now deprecated in favor of reg:squarederror.\n"
     ]
    },
    {
     "name": "stderr",
     "output_type": "stream",
     "text": [
      "C:\\Users\\K T KUMAR\\Anaconda33\\lib\\site-packages\\xgboost\\core.py:587: FutureWarning: Series.base is deprecated and will be removed in a future version\n",
      "  if getattr(data, 'base', None) is not None and \\\n"
     ]
    },
    {
     "name": "stdout",
     "output_type": "stream",
     "text": [
      "[CV]  subsample=0.7, n_estimators=400, min_child_parameters=3, max_depth=25, learning_rate=0.6, total=   0.5s\n",
      "[CV] subsample=0.7, n_estimators=400, min_child_parameters=3, max_depth=25, learning_rate=0.6 \n",
      "[11:53:40] WARNING: src/objective/regression_obj.cu:152: reg:linear is now deprecated in favor of reg:squarederror.\n"
     ]
    },
    {
     "name": "stderr",
     "output_type": "stream",
     "text": [
      "C:\\Users\\K T KUMAR\\Anaconda33\\lib\\site-packages\\xgboost\\core.py:587: FutureWarning: Series.base is deprecated and will be removed in a future version\n",
      "  if getattr(data, 'base', None) is not None and \\\n"
     ]
    },
    {
     "name": "stdout",
     "output_type": "stream",
     "text": [
      "[CV]  subsample=0.7, n_estimators=400, min_child_parameters=3, max_depth=25, learning_rate=0.6, total=   0.5s\n",
      "[CV] subsample=0.7, n_estimators=400, min_child_parameters=3, max_depth=25, learning_rate=0.6 \n",
      "[11:53:40] WARNING: src/objective/regression_obj.cu:152: reg:linear is now deprecated in favor of reg:squarederror.\n"
     ]
    },
    {
     "name": "stderr",
     "output_type": "stream",
     "text": [
      "C:\\Users\\K T KUMAR\\Anaconda33\\lib\\site-packages\\xgboost\\core.py:587: FutureWarning: Series.base is deprecated and will be removed in a future version\n",
      "  if getattr(data, 'base', None) is not None and \\\n"
     ]
    },
    {
     "name": "stdout",
     "output_type": "stream",
     "text": [
      "[CV]  subsample=0.7, n_estimators=400, min_child_parameters=3, max_depth=25, learning_rate=0.6, total=   0.5s\n",
      "[CV] subsample=0.8, n_estimators=900, min_child_parameters=3, max_depth=30, learning_rate=0.6 \n",
      "[11:53:41] WARNING: src/objective/regression_obj.cu:152: reg:linear is now deprecated in favor of reg:squarederror.\n"
     ]
    },
    {
     "name": "stderr",
     "output_type": "stream",
     "text": [
      "C:\\Users\\K T KUMAR\\Anaconda33\\lib\\site-packages\\xgboost\\core.py:587: FutureWarning: Series.base is deprecated and will be removed in a future version\n",
      "  if getattr(data, 'base', None) is not None and \\\n"
     ]
    },
    {
     "name": "stdout",
     "output_type": "stream",
     "text": [
      "[CV]  subsample=0.8, n_estimators=900, min_child_parameters=3, max_depth=30, learning_rate=0.6, total=   0.6s\n",
      "[CV] subsample=0.8, n_estimators=900, min_child_parameters=3, max_depth=30, learning_rate=0.6 \n",
      "[11:53:41] WARNING: src/objective/regression_obj.cu:152: reg:linear is now deprecated in favor of reg:squarederror.\n"
     ]
    },
    {
     "name": "stderr",
     "output_type": "stream",
     "text": [
      "C:\\Users\\K T KUMAR\\Anaconda33\\lib\\site-packages\\xgboost\\core.py:587: FutureWarning: Series.base is deprecated and will be removed in a future version\n",
      "  if getattr(data, 'base', None) is not None and \\\n"
     ]
    },
    {
     "name": "stdout",
     "output_type": "stream",
     "text": [
      "[CV]  subsample=0.8, n_estimators=900, min_child_parameters=3, max_depth=30, learning_rate=0.6, total=   0.6s\n",
      "[CV] subsample=0.8, n_estimators=900, min_child_parameters=3, max_depth=30, learning_rate=0.6 \n",
      "[11:53:42] WARNING: src/objective/regression_obj.cu:152: reg:linear is now deprecated in favor of reg:squarederror.\n"
     ]
    },
    {
     "name": "stderr",
     "output_type": "stream",
     "text": [
      "C:\\Users\\K T KUMAR\\Anaconda33\\lib\\site-packages\\xgboost\\core.py:587: FutureWarning: Series.base is deprecated and will be removed in a future version\n",
      "  if getattr(data, 'base', None) is not None and \\\n"
     ]
    },
    {
     "name": "stdout",
     "output_type": "stream",
     "text": [
      "[CV]  subsample=0.8, n_estimators=900, min_child_parameters=3, max_depth=30, learning_rate=0.6, total=   0.6s\n",
      "[CV] subsample=0.8, n_estimators=900, min_child_parameters=3, max_depth=30, learning_rate=0.6 \n",
      "[11:53:43] WARNING: src/objective/regression_obj.cu:152: reg:linear is now deprecated in favor of reg:squarederror.\n"
     ]
    },
    {
     "name": "stderr",
     "output_type": "stream",
     "text": [
      "C:\\Users\\K T KUMAR\\Anaconda33\\lib\\site-packages\\xgboost\\core.py:587: FutureWarning: Series.base is deprecated and will be removed in a future version\n",
      "  if getattr(data, 'base', None) is not None and \\\n"
     ]
    },
    {
     "name": "stdout",
     "output_type": "stream",
     "text": [
      "[CV]  subsample=0.8, n_estimators=900, min_child_parameters=3, max_depth=30, learning_rate=0.6, total=   0.6s\n",
      "[CV] subsample=0.7, n_estimators=600, min_child_parameters=6, max_depth=25, learning_rate=0.7 \n",
      "[11:53:43] WARNING: src/objective/regression_obj.cu:152: reg:linear is now deprecated in favor of reg:squarederror.\n"
     ]
    },
    {
     "name": "stderr",
     "output_type": "stream",
     "text": [
      "C:\\Users\\K T KUMAR\\Anaconda33\\lib\\site-packages\\xgboost\\core.py:587: FutureWarning: Series.base is deprecated and will be removed in a future version\n",
      "  if getattr(data, 'base', None) is not None and \\\n"
     ]
    },
    {
     "name": "stdout",
     "output_type": "stream",
     "text": [
      "[CV]  subsample=0.7, n_estimators=600, min_child_parameters=6, max_depth=25, learning_rate=0.7, total=   0.6s\n",
      "[CV] subsample=0.7, n_estimators=600, min_child_parameters=6, max_depth=25, learning_rate=0.7 \n",
      "[11:53:44] WARNING: src/objective/regression_obj.cu:152: reg:linear is now deprecated in favor of reg:squarederror.\n"
     ]
    },
    {
     "name": "stderr",
     "output_type": "stream",
     "text": [
      "C:\\Users\\K T KUMAR\\Anaconda33\\lib\\site-packages\\xgboost\\core.py:587: FutureWarning: Series.base is deprecated and will be removed in a future version\n",
      "  if getattr(data, 'base', None) is not None and \\\n"
     ]
    },
    {
     "name": "stdout",
     "output_type": "stream",
     "text": [
      "[CV]  subsample=0.7, n_estimators=600, min_child_parameters=6, max_depth=25, learning_rate=0.7, total=   0.5s\n",
      "[CV] subsample=0.7, n_estimators=600, min_child_parameters=6, max_depth=25, learning_rate=0.7 \n",
      "[11:53:44] WARNING: src/objective/regression_obj.cu:152: reg:linear is now deprecated in favor of reg:squarederror.\n"
     ]
    },
    {
     "name": "stderr",
     "output_type": "stream",
     "text": [
      "C:\\Users\\K T KUMAR\\Anaconda33\\lib\\site-packages\\xgboost\\core.py:587: FutureWarning: Series.base is deprecated and will be removed in a future version\n",
      "  if getattr(data, 'base', None) is not None and \\\n"
     ]
    },
    {
     "name": "stdout",
     "output_type": "stream",
     "text": [
      "[CV]  subsample=0.7, n_estimators=600, min_child_parameters=6, max_depth=25, learning_rate=0.7, total=   0.5s\n",
      "[CV] subsample=0.7, n_estimators=600, min_child_parameters=6, max_depth=25, learning_rate=0.7 \n",
      "[11:53:45] WARNING: src/objective/regression_obj.cu:152: reg:linear is now deprecated in favor of reg:squarederror.\n"
     ]
    },
    {
     "name": "stderr",
     "output_type": "stream",
     "text": [
      "C:\\Users\\K T KUMAR\\Anaconda33\\lib\\site-packages\\xgboost\\core.py:587: FutureWarning: Series.base is deprecated and will be removed in a future version\n",
      "  if getattr(data, 'base', None) is not None and \\\n"
     ]
    },
    {
     "name": "stdout",
     "output_type": "stream",
     "text": [
      "[CV]  subsample=0.7, n_estimators=600, min_child_parameters=6, max_depth=25, learning_rate=0.7, total=   0.5s\n",
      "[CV] subsample=0.7, n_estimators=100, min_child_parameters=4, max_depth=10, learning_rate=0.04 \n",
      "[11:53:45] WARNING: src/objective/regression_obj.cu:152: reg:linear is now deprecated in favor of reg:squarederror.\n"
     ]
    },
    {
     "name": "stderr",
     "output_type": "stream",
     "text": [
      "C:\\Users\\K T KUMAR\\Anaconda33\\lib\\site-packages\\xgboost\\core.py:587: FutureWarning: Series.base is deprecated and will be removed in a future version\n",
      "  if getattr(data, 'base', None) is not None and \\\n"
     ]
    },
    {
     "name": "stdout",
     "output_type": "stream",
     "text": [
      "[CV]  subsample=0.7, n_estimators=100, min_child_parameters=4, max_depth=10, learning_rate=0.04, total=   0.3s\n",
      "[CV] subsample=0.7, n_estimators=100, min_child_parameters=4, max_depth=10, learning_rate=0.04 \n",
      "[11:53:46] WARNING: src/objective/regression_obj.cu:152: reg:linear is now deprecated in favor of reg:squarederror.\n"
     ]
    },
    {
     "name": "stderr",
     "output_type": "stream",
     "text": [
      "C:\\Users\\K T KUMAR\\Anaconda33\\lib\\site-packages\\xgboost\\core.py:587: FutureWarning: Series.base is deprecated and will be removed in a future version\n",
      "  if getattr(data, 'base', None) is not None and \\\n"
     ]
    },
    {
     "name": "stdout",
     "output_type": "stream",
     "text": [
      "[CV]  subsample=0.7, n_estimators=100, min_child_parameters=4, max_depth=10, learning_rate=0.04, total=   0.3s\n",
      "[CV] subsample=0.7, n_estimators=100, min_child_parameters=4, max_depth=10, learning_rate=0.04 \n",
      "[11:53:46] WARNING: src/objective/regression_obj.cu:152: reg:linear is now deprecated in favor of reg:squarederror.\n"
     ]
    },
    {
     "name": "stderr",
     "output_type": "stream",
     "text": [
      "C:\\Users\\K T KUMAR\\Anaconda33\\lib\\site-packages\\xgboost\\core.py:587: FutureWarning: Series.base is deprecated and will be removed in a future version\n",
      "  if getattr(data, 'base', None) is not None and \\\n"
     ]
    },
    {
     "name": "stdout",
     "output_type": "stream",
     "text": [
      "[CV]  subsample=0.7, n_estimators=100, min_child_parameters=4, max_depth=10, learning_rate=0.04, total=   0.3s\n",
      "[CV] subsample=0.7, n_estimators=100, min_child_parameters=4, max_depth=10, learning_rate=0.04 \n",
      "[11:53:46] WARNING: src/objective/regression_obj.cu:152: reg:linear is now deprecated in favor of reg:squarederror.\n"
     ]
    },
    {
     "name": "stderr",
     "output_type": "stream",
     "text": [
      "C:\\Users\\K T KUMAR\\Anaconda33\\lib\\site-packages\\xgboost\\core.py:587: FutureWarning: Series.base is deprecated and will be removed in a future version\n",
      "  if getattr(data, 'base', None) is not None and \\\n"
     ]
    },
    {
     "name": "stdout",
     "output_type": "stream",
     "text": [
      "[CV]  subsample=0.7, n_estimators=100, min_child_parameters=4, max_depth=10, learning_rate=0.04, total=   0.3s\n",
      "[CV] subsample=0.7, n_estimators=700, min_child_parameters=7, max_depth=5, learning_rate=0.3 \n",
      "[11:53:47] WARNING: src/objective/regression_obj.cu:152: reg:linear is now deprecated in favor of reg:squarederror.\n"
     ]
    },
    {
     "name": "stderr",
     "output_type": "stream",
     "text": [
      "C:\\Users\\K T KUMAR\\Anaconda33\\lib\\site-packages\\xgboost\\core.py:587: FutureWarning: Series.base is deprecated and will be removed in a future version\n",
      "  if getattr(data, 'base', None) is not None and \\\n"
     ]
    },
    {
     "name": "stdout",
     "output_type": "stream",
     "text": [
      "[CV]  subsample=0.7, n_estimators=700, min_child_parameters=7, max_depth=5, learning_rate=0.3, total=   0.9s\n",
      "[CV] subsample=0.7, n_estimators=700, min_child_parameters=7, max_depth=5, learning_rate=0.3 \n",
      "[11:53:47] WARNING: src/objective/regression_obj.cu:152: reg:linear is now deprecated in favor of reg:squarederror.\n"
     ]
    },
    {
     "name": "stderr",
     "output_type": "stream",
     "text": [
      "C:\\Users\\K T KUMAR\\Anaconda33\\lib\\site-packages\\xgboost\\core.py:587: FutureWarning: Series.base is deprecated and will be removed in a future version\n",
      "  if getattr(data, 'base', None) is not None and \\\n"
     ]
    },
    {
     "name": "stdout",
     "output_type": "stream",
     "text": [
      "[CV]  subsample=0.7, n_estimators=700, min_child_parameters=7, max_depth=5, learning_rate=0.3, total=   0.9s\n",
      "[CV] subsample=0.7, n_estimators=700, min_child_parameters=7, max_depth=5, learning_rate=0.3 \n",
      "[11:53:48] WARNING: src/objective/regression_obj.cu:152: reg:linear is now deprecated in favor of reg:squarederror.\n"
     ]
    },
    {
     "name": "stderr",
     "output_type": "stream",
     "text": [
      "C:\\Users\\K T KUMAR\\Anaconda33\\lib\\site-packages\\xgboost\\core.py:587: FutureWarning: Series.base is deprecated and will be removed in a future version\n",
      "  if getattr(data, 'base', None) is not None and \\\n"
     ]
    },
    {
     "name": "stdout",
     "output_type": "stream",
     "text": [
      "[CV]  subsample=0.7, n_estimators=700, min_child_parameters=7, max_depth=5, learning_rate=0.3, total=   0.9s\n",
      "[CV] subsample=0.7, n_estimators=700, min_child_parameters=7, max_depth=5, learning_rate=0.3 \n",
      "[11:53:49] WARNING: src/objective/regression_obj.cu:152: reg:linear is now deprecated in favor of reg:squarederror.\n"
     ]
    },
    {
     "name": "stderr",
     "output_type": "stream",
     "text": [
      "C:\\Users\\K T KUMAR\\Anaconda33\\lib\\site-packages\\xgboost\\core.py:587: FutureWarning: Series.base is deprecated and will be removed in a future version\n",
      "  if getattr(data, 'base', None) is not None and \\\n"
     ]
    },
    {
     "name": "stdout",
     "output_type": "stream",
     "text": [
      "[CV]  subsample=0.7, n_estimators=700, min_child_parameters=7, max_depth=5, learning_rate=0.3, total=   0.9s\n",
      "[CV] subsample=0.8, n_estimators=100, min_child_parameters=4, max_depth=30, learning_rate=0.7 \n",
      "[11:53:50] WARNING: src/objective/regression_obj.cu:152: reg:linear is now deprecated in favor of reg:squarederror.\n"
     ]
    },
    {
     "name": "stderr",
     "output_type": "stream",
     "text": [
      "C:\\Users\\K T KUMAR\\Anaconda33\\lib\\site-packages\\xgboost\\core.py:587: FutureWarning: Series.base is deprecated and will be removed in a future version\n",
      "  if getattr(data, 'base', None) is not None and \\\n"
     ]
    },
    {
     "name": "stdout",
     "output_type": "stream",
     "text": [
      "[CV]  subsample=0.8, n_estimators=100, min_child_parameters=4, max_depth=30, learning_rate=0.7, total=   0.3s\n",
      "[CV] subsample=0.8, n_estimators=100, min_child_parameters=4, max_depth=30, learning_rate=0.7 \n",
      "[11:53:50] WARNING: src/objective/regression_obj.cu:152: reg:linear is now deprecated in favor of reg:squarederror.\n"
     ]
    },
    {
     "name": "stderr",
     "output_type": "stream",
     "text": [
      "C:\\Users\\K T KUMAR\\Anaconda33\\lib\\site-packages\\xgboost\\core.py:587: FutureWarning: Series.base is deprecated and will be removed in a future version\n",
      "  if getattr(data, 'base', None) is not None and \\\n"
     ]
    },
    {
     "name": "stdout",
     "output_type": "stream",
     "text": [
      "[CV]  subsample=0.8, n_estimators=100, min_child_parameters=4, max_depth=30, learning_rate=0.7, total=   0.3s\n",
      "[CV] subsample=0.8, n_estimators=100, min_child_parameters=4, max_depth=30, learning_rate=0.7 \n",
      "[11:53:51] WARNING: src/objective/regression_obj.cu:152: reg:linear is now deprecated in favor of reg:squarederror.\n"
     ]
    },
    {
     "name": "stderr",
     "output_type": "stream",
     "text": [
      "C:\\Users\\K T KUMAR\\Anaconda33\\lib\\site-packages\\xgboost\\core.py:587: FutureWarning: Series.base is deprecated and will be removed in a future version\n",
      "  if getattr(data, 'base', None) is not None and \\\n"
     ]
    },
    {
     "name": "stdout",
     "output_type": "stream",
     "text": [
      "[CV]  subsample=0.8, n_estimators=100, min_child_parameters=4, max_depth=30, learning_rate=0.7, total=   0.3s\n",
      "[CV] subsample=0.8, n_estimators=100, min_child_parameters=4, max_depth=30, learning_rate=0.7 \n",
      "[11:53:51] WARNING: src/objective/regression_obj.cu:152: reg:linear is now deprecated in favor of reg:squarederror.\n"
     ]
    },
    {
     "name": "stderr",
     "output_type": "stream",
     "text": [
      "C:\\Users\\K T KUMAR\\Anaconda33\\lib\\site-packages\\xgboost\\core.py:587: FutureWarning: Series.base is deprecated and will be removed in a future version\n",
      "  if getattr(data, 'base', None) is not None and \\\n"
     ]
    },
    {
     "name": "stdout",
     "output_type": "stream",
     "text": [
      "[CV]  subsample=0.8, n_estimators=100, min_child_parameters=4, max_depth=30, learning_rate=0.7, total=   0.3s\n",
      "[CV] subsample=0.8, n_estimators=100, min_child_parameters=4, max_depth=25, learning_rate=0.04 \n",
      "[11:53:51] WARNING: src/objective/regression_obj.cu:152: reg:linear is now deprecated in favor of reg:squarederror.\n"
     ]
    },
    {
     "name": "stderr",
     "output_type": "stream",
     "text": [
      "C:\\Users\\K T KUMAR\\Anaconda33\\lib\\site-packages\\xgboost\\core.py:587: FutureWarning: Series.base is deprecated and will be removed in a future version\n",
      "  if getattr(data, 'base', None) is not None and \\\n"
     ]
    },
    {
     "name": "stdout",
     "output_type": "stream",
     "text": [
      "[CV]  subsample=0.8, n_estimators=100, min_child_parameters=4, max_depth=25, learning_rate=0.04, total=   0.5s\n",
      "[CV] subsample=0.8, n_estimators=100, min_child_parameters=4, max_depth=25, learning_rate=0.04 \n",
      "[11:53:52] WARNING: src/objective/regression_obj.cu:152: reg:linear is now deprecated in favor of reg:squarederror.\n"
     ]
    },
    {
     "name": "stderr",
     "output_type": "stream",
     "text": [
      "C:\\Users\\K T KUMAR\\Anaconda33\\lib\\site-packages\\xgboost\\core.py:587: FutureWarning: Series.base is deprecated and will be removed in a future version\n",
      "  if getattr(data, 'base', None) is not None and \\\n"
     ]
    },
    {
     "name": "stdout",
     "output_type": "stream",
     "text": [
      "[CV]  subsample=0.8, n_estimators=100, min_child_parameters=4, max_depth=25, learning_rate=0.04, total=   0.5s\n",
      "[CV] subsample=0.8, n_estimators=100, min_child_parameters=4, max_depth=25, learning_rate=0.04 \n",
      "[11:53:52] WARNING: src/objective/regression_obj.cu:152: reg:linear is now deprecated in favor of reg:squarederror.\n"
     ]
    },
    {
     "name": "stderr",
     "output_type": "stream",
     "text": [
      "C:\\Users\\K T KUMAR\\Anaconda33\\lib\\site-packages\\xgboost\\core.py:587: FutureWarning: Series.base is deprecated and will be removed in a future version\n",
      "  if getattr(data, 'base', None) is not None and \\\n"
     ]
    },
    {
     "name": "stdout",
     "output_type": "stream",
     "text": [
      "[CV]  subsample=0.8, n_estimators=100, min_child_parameters=4, max_depth=25, learning_rate=0.04, total=   0.5s\n",
      "[CV] subsample=0.8, n_estimators=100, min_child_parameters=4, max_depth=25, learning_rate=0.04 \n",
      "[11:53:53] WARNING: src/objective/regression_obj.cu:152: reg:linear is now deprecated in favor of reg:squarederror.\n"
     ]
    },
    {
     "name": "stderr",
     "output_type": "stream",
     "text": [
      "C:\\Users\\K T KUMAR\\Anaconda33\\lib\\site-packages\\xgboost\\core.py:587: FutureWarning: Series.base is deprecated and will be removed in a future version\n",
      "  if getattr(data, 'base', None) is not None and \\\n"
     ]
    },
    {
     "name": "stdout",
     "output_type": "stream",
     "text": [
      "[CV]  subsample=0.8, n_estimators=100, min_child_parameters=4, max_depth=25, learning_rate=0.04, total=   0.5s\n",
      "[CV] subsample=0.8, n_estimators=900, min_child_parameters=5, max_depth=5, learning_rate=0.04 \n",
      "[11:53:53] WARNING: src/objective/regression_obj.cu:152: reg:linear is now deprecated in favor of reg:squarederror.\n"
     ]
    },
    {
     "name": "stderr",
     "output_type": "stream",
     "text": [
      "C:\\Users\\K T KUMAR\\Anaconda33\\lib\\site-packages\\xgboost\\core.py:587: FutureWarning: Series.base is deprecated and will be removed in a future version\n",
      "  if getattr(data, 'base', None) is not None and \\\n"
     ]
    },
    {
     "name": "stdout",
     "output_type": "stream",
     "text": [
      "[CV]  subsample=0.8, n_estimators=900, min_child_parameters=5, max_depth=5, learning_rate=0.04, total=   1.4s\n",
      "[CV] subsample=0.8, n_estimators=900, min_child_parameters=5, max_depth=5, learning_rate=0.04 \n",
      "[11:53:54] WARNING: src/objective/regression_obj.cu:152: reg:linear is now deprecated in favor of reg:squarederror.\n"
     ]
    },
    {
     "name": "stderr",
     "output_type": "stream",
     "text": [
      "C:\\Users\\K T KUMAR\\Anaconda33\\lib\\site-packages\\xgboost\\core.py:587: FutureWarning: Series.base is deprecated and will be removed in a future version\n",
      "  if getattr(data, 'base', None) is not None and \\\n"
     ]
    },
    {
     "name": "stdout",
     "output_type": "stream",
     "text": [
      "[CV]  subsample=0.8, n_estimators=900, min_child_parameters=5, max_depth=5, learning_rate=0.04, total=   1.4s\n",
      "[CV] subsample=0.8, n_estimators=900, min_child_parameters=5, max_depth=5, learning_rate=0.04 \n",
      "[11:53:56] WARNING: src/objective/regression_obj.cu:152: reg:linear is now deprecated in favor of reg:squarederror.\n"
     ]
    },
    {
     "name": "stderr",
     "output_type": "stream",
     "text": [
      "C:\\Users\\K T KUMAR\\Anaconda33\\lib\\site-packages\\xgboost\\core.py:587: FutureWarning: Series.base is deprecated and will be removed in a future version\n",
      "  if getattr(data, 'base', None) is not None and \\\n"
     ]
    },
    {
     "name": "stdout",
     "output_type": "stream",
     "text": [
      "[CV]  subsample=0.8, n_estimators=900, min_child_parameters=5, max_depth=5, learning_rate=0.04, total=   1.4s\n",
      "[CV] subsample=0.8, n_estimators=900, min_child_parameters=5, max_depth=5, learning_rate=0.04 \n",
      "[11:53:57] WARNING: src/objective/regression_obj.cu:152: reg:linear is now deprecated in favor of reg:squarederror.\n"
     ]
    },
    {
     "name": "stderr",
     "output_type": "stream",
     "text": [
      "C:\\Users\\K T KUMAR\\Anaconda33\\lib\\site-packages\\xgboost\\core.py:587: FutureWarning: Series.base is deprecated and will be removed in a future version\n",
      "  if getattr(data, 'base', None) is not None and \\\n"
     ]
    },
    {
     "name": "stdout",
     "output_type": "stream",
     "text": [
      "[CV]  subsample=0.8, n_estimators=900, min_child_parameters=5, max_depth=5, learning_rate=0.04, total=   1.4s\n",
      "[CV] subsample=0.7, n_estimators=800, min_child_parameters=5, max_depth=25, learning_rate=0.7 \n",
      "[11:53:59] WARNING: src/objective/regression_obj.cu:152: reg:linear is now deprecated in favor of reg:squarederror.\n"
     ]
    },
    {
     "name": "stderr",
     "output_type": "stream",
     "text": [
      "C:\\Users\\K T KUMAR\\Anaconda33\\lib\\site-packages\\xgboost\\core.py:587: FutureWarning: Series.base is deprecated and will be removed in a future version\n",
      "  if getattr(data, 'base', None) is not None and \\\n"
     ]
    },
    {
     "name": "stdout",
     "output_type": "stream",
     "text": [
      "[CV]  subsample=0.7, n_estimators=800, min_child_parameters=5, max_depth=25, learning_rate=0.7, total=   0.6s\n",
      "[CV] subsample=0.7, n_estimators=800, min_child_parameters=5, max_depth=25, learning_rate=0.7 \n",
      "[11:53:59] WARNING: src/objective/regression_obj.cu:152: reg:linear is now deprecated in favor of reg:squarederror.\n"
     ]
    },
    {
     "name": "stderr",
     "output_type": "stream",
     "text": [
      "C:\\Users\\K T KUMAR\\Anaconda33\\lib\\site-packages\\xgboost\\core.py:587: FutureWarning: Series.base is deprecated and will be removed in a future version\n",
      "  if getattr(data, 'base', None) is not None and \\\n"
     ]
    },
    {
     "name": "stdout",
     "output_type": "stream",
     "text": [
      "[CV]  subsample=0.7, n_estimators=800, min_child_parameters=5, max_depth=25, learning_rate=0.7, total=   0.6s\n",
      "[CV] subsample=0.7, n_estimators=800, min_child_parameters=5, max_depth=25, learning_rate=0.7 \n",
      "[11:54:00] WARNING: src/objective/regression_obj.cu:152: reg:linear is now deprecated in favor of reg:squarederror.\n"
     ]
    },
    {
     "name": "stderr",
     "output_type": "stream",
     "text": [
      "C:\\Users\\K T KUMAR\\Anaconda33\\lib\\site-packages\\xgboost\\core.py:587: FutureWarning: Series.base is deprecated and will be removed in a future version\n",
      "  if getattr(data, 'base', None) is not None and \\\n"
     ]
    },
    {
     "name": "stdout",
     "output_type": "stream",
     "text": [
      "[CV]  subsample=0.7, n_estimators=800, min_child_parameters=5, max_depth=25, learning_rate=0.7, total=   0.6s\n",
      "[CV] subsample=0.7, n_estimators=800, min_child_parameters=5, max_depth=25, learning_rate=0.7 \n",
      "[11:54:00] WARNING: src/objective/regression_obj.cu:152: reg:linear is now deprecated in favor of reg:squarederror.\n"
     ]
    },
    {
     "name": "stderr",
     "output_type": "stream",
     "text": [
      "C:\\Users\\K T KUMAR\\Anaconda33\\lib\\site-packages\\xgboost\\core.py:587: FutureWarning: Series.base is deprecated and will be removed in a future version\n",
      "  if getattr(data, 'base', None) is not None and \\\n"
     ]
    },
    {
     "name": "stdout",
     "output_type": "stream",
     "text": [
      "[CV]  subsample=0.7, n_estimators=800, min_child_parameters=5, max_depth=25, learning_rate=0.7, total=   0.6s\n",
      "[CV] subsample=0.5, n_estimators=400, min_child_parameters=4, max_depth=15, learning_rate=0.2 \n",
      "[11:54:01] WARNING: src/objective/regression_obj.cu:152: reg:linear is now deprecated in favor of reg:squarederror.\n"
     ]
    },
    {
     "name": "stderr",
     "output_type": "stream",
     "text": [
      "C:\\Users\\K T KUMAR\\Anaconda33\\lib\\site-packages\\xgboost\\core.py:587: FutureWarning: Series.base is deprecated and will be removed in a future version\n",
      "  if getattr(data, 'base', None) is not None and \\\n"
     ]
    },
    {
     "name": "stdout",
     "output_type": "stream",
     "text": [
      "[CV]  subsample=0.5, n_estimators=400, min_child_parameters=4, max_depth=15, learning_rate=0.2, total=   1.3s\n",
      "[CV] subsample=0.5, n_estimators=400, min_child_parameters=4, max_depth=15, learning_rate=0.2 \n",
      "[11:54:02] WARNING: src/objective/regression_obj.cu:152: reg:linear is now deprecated in favor of reg:squarederror.\n"
     ]
    },
    {
     "name": "stderr",
     "output_type": "stream",
     "text": [
      "C:\\Users\\K T KUMAR\\Anaconda33\\lib\\site-packages\\xgboost\\core.py:587: FutureWarning: Series.base is deprecated and will be removed in a future version\n",
      "  if getattr(data, 'base', None) is not None and \\\n"
     ]
    },
    {
     "name": "stdout",
     "output_type": "stream",
     "text": [
      "[CV]  subsample=0.5, n_estimators=400, min_child_parameters=4, max_depth=15, learning_rate=0.2, total=   1.2s\n",
      "[CV] subsample=0.5, n_estimators=400, min_child_parameters=4, max_depth=15, learning_rate=0.2 \n",
      "[11:54:04] WARNING: src/objective/regression_obj.cu:152: reg:linear is now deprecated in favor of reg:squarederror.\n"
     ]
    },
    {
     "name": "stderr",
     "output_type": "stream",
     "text": [
      "C:\\Users\\K T KUMAR\\Anaconda33\\lib\\site-packages\\xgboost\\core.py:587: FutureWarning: Series.base is deprecated and will be removed in a future version\n",
      "  if getattr(data, 'base', None) is not None and \\\n"
     ]
    },
    {
     "name": "stdout",
     "output_type": "stream",
     "text": [
      "[CV]  subsample=0.5, n_estimators=400, min_child_parameters=4, max_depth=15, learning_rate=0.2, total=   1.2s\n",
      "[CV] subsample=0.5, n_estimators=400, min_child_parameters=4, max_depth=15, learning_rate=0.2 \n",
      "[11:54:05] WARNING: src/objective/regression_obj.cu:152: reg:linear is now deprecated in favor of reg:squarederror.\n"
     ]
    },
    {
     "name": "stderr",
     "output_type": "stream",
     "text": [
      "C:\\Users\\K T KUMAR\\Anaconda33\\lib\\site-packages\\xgboost\\core.py:587: FutureWarning: Series.base is deprecated and will be removed in a future version\n",
      "  if getattr(data, 'base', None) is not None and \\\n"
     ]
    },
    {
     "name": "stdout",
     "output_type": "stream",
     "text": [
      "[CV]  subsample=0.5, n_estimators=400, min_child_parameters=4, max_depth=15, learning_rate=0.2, total=   1.3s\n",
      "[CV] subsample=0.7, n_estimators=400, min_child_parameters=5, max_depth=30, learning_rate=0.04 \n",
      "[11:54:06] WARNING: src/objective/regression_obj.cu:152: reg:linear is now deprecated in favor of reg:squarederror.\n"
     ]
    },
    {
     "name": "stderr",
     "output_type": "stream",
     "text": [
      "C:\\Users\\K T KUMAR\\Anaconda33\\lib\\site-packages\\xgboost\\core.py:587: FutureWarning: Series.base is deprecated and will be removed in a future version\n",
      "  if getattr(data, 'base', None) is not None and \\\n"
     ]
    },
    {
     "name": "stdout",
     "output_type": "stream",
     "text": [
      "[CV]  subsample=0.7, n_estimators=400, min_child_parameters=5, max_depth=30, learning_rate=0.04, total=   2.5s\n",
      "[CV] subsample=0.7, n_estimators=400, min_child_parameters=5, max_depth=30, learning_rate=0.04 \n",
      "[11:54:09] WARNING: src/objective/regression_obj.cu:152: reg:linear is now deprecated in favor of reg:squarederror.\n"
     ]
    },
    {
     "name": "stderr",
     "output_type": "stream",
     "text": [
      "C:\\Users\\K T KUMAR\\Anaconda33\\lib\\site-packages\\xgboost\\core.py:587: FutureWarning: Series.base is deprecated and will be removed in a future version\n",
      "  if getattr(data, 'base', None) is not None and \\\n"
     ]
    },
    {
     "name": "stdout",
     "output_type": "stream",
     "text": [
      "[CV]  subsample=0.7, n_estimators=400, min_child_parameters=5, max_depth=30, learning_rate=0.04, total=   2.4s\n",
      "[CV] subsample=0.7, n_estimators=400, min_child_parameters=5, max_depth=30, learning_rate=0.04 \n",
      "[11:54:11] WARNING: src/objective/regression_obj.cu:152: reg:linear is now deprecated in favor of reg:squarederror.\n"
     ]
    },
    {
     "name": "stderr",
     "output_type": "stream",
     "text": [
      "C:\\Users\\K T KUMAR\\Anaconda33\\lib\\site-packages\\xgboost\\core.py:587: FutureWarning: Series.base is deprecated and will be removed in a future version\n",
      "  if getattr(data, 'base', None) is not None and \\\n"
     ]
    },
    {
     "name": "stdout",
     "output_type": "stream",
     "text": [
      "[CV]  subsample=0.7, n_estimators=400, min_child_parameters=5, max_depth=30, learning_rate=0.04, total=   2.3s\n",
      "[CV] subsample=0.7, n_estimators=400, min_child_parameters=5, max_depth=30, learning_rate=0.04 \n",
      "[11:54:13] WARNING: src/objective/regression_obj.cu:152: reg:linear is now deprecated in favor of reg:squarederror.\n"
     ]
    },
    {
     "name": "stderr",
     "output_type": "stream",
     "text": [
      "C:\\Users\\K T KUMAR\\Anaconda33\\lib\\site-packages\\xgboost\\core.py:587: FutureWarning: Series.base is deprecated and will be removed in a future version\n",
      "  if getattr(data, 'base', None) is not None and \\\n"
     ]
    },
    {
     "name": "stdout",
     "output_type": "stream",
     "text": [
      "[CV]  subsample=0.7, n_estimators=400, min_child_parameters=5, max_depth=30, learning_rate=0.04, total=   2.4s\n",
      "[CV] subsample=0.7, n_estimators=300, min_child_parameters=6, max_depth=10, learning_rate=0.2 \n",
      "[11:54:16] WARNING: src/objective/regression_obj.cu:152: reg:linear is now deprecated in favor of reg:squarederror.\n"
     ]
    },
    {
     "name": "stderr",
     "output_type": "stream",
     "text": [
      "C:\\Users\\K T KUMAR\\Anaconda33\\lib\\site-packages\\xgboost\\core.py:587: FutureWarning: Series.base is deprecated and will be removed in a future version\n",
      "  if getattr(data, 'base', None) is not None and \\\n"
     ]
    },
    {
     "name": "stdout",
     "output_type": "stream",
     "text": [
      "[CV]  subsample=0.7, n_estimators=300, min_child_parameters=6, max_depth=10, learning_rate=0.2, total=   0.7s\n",
      "[CV] subsample=0.7, n_estimators=300, min_child_parameters=6, max_depth=10, learning_rate=0.2 \n",
      "[11:54:17] WARNING: src/objective/regression_obj.cu:152: reg:linear is now deprecated in favor of reg:squarederror.\n"
     ]
    },
    {
     "name": "stderr",
     "output_type": "stream",
     "text": [
      "C:\\Users\\K T KUMAR\\Anaconda33\\lib\\site-packages\\xgboost\\core.py:587: FutureWarning: Series.base is deprecated and will be removed in a future version\n",
      "  if getattr(data, 'base', None) is not None and \\\n"
     ]
    },
    {
     "name": "stdout",
     "output_type": "stream",
     "text": [
      "[CV]  subsample=0.7, n_estimators=300, min_child_parameters=6, max_depth=10, learning_rate=0.2, total=   0.7s\n",
      "[CV] subsample=0.7, n_estimators=300, min_child_parameters=6, max_depth=10, learning_rate=0.2 \n",
      "[11:54:17] WARNING: src/objective/regression_obj.cu:152: reg:linear is now deprecated in favor of reg:squarederror.\n"
     ]
    },
    {
     "name": "stderr",
     "output_type": "stream",
     "text": [
      "C:\\Users\\K T KUMAR\\Anaconda33\\lib\\site-packages\\xgboost\\core.py:587: FutureWarning: Series.base is deprecated and will be removed in a future version\n",
      "  if getattr(data, 'base', None) is not None and \\\n"
     ]
    },
    {
     "name": "stdout",
     "output_type": "stream",
     "text": [
      "[CV]  subsample=0.7, n_estimators=300, min_child_parameters=6, max_depth=10, learning_rate=0.2, total=   0.7s\n",
      "[CV] subsample=0.7, n_estimators=300, min_child_parameters=6, max_depth=10, learning_rate=0.2 \n",
      "[11:54:18] WARNING: src/objective/regression_obj.cu:152: reg:linear is now deprecated in favor of reg:squarederror.\n"
     ]
    },
    {
     "name": "stderr",
     "output_type": "stream",
     "text": [
      "C:\\Users\\K T KUMAR\\Anaconda33\\lib\\site-packages\\xgboost\\core.py:587: FutureWarning: Series.base is deprecated and will be removed in a future version\n",
      "  if getattr(data, 'base', None) is not None and \\\n"
     ]
    },
    {
     "name": "stdout",
     "output_type": "stream",
     "text": [
      "[CV]  subsample=0.7, n_estimators=300, min_child_parameters=6, max_depth=10, learning_rate=0.2, total=   0.7s\n",
      "[CV] subsample=0.5, n_estimators=1100, min_child_parameters=5, max_depth=25, learning_rate=0.7 \n",
      "[11:54:19] WARNING: src/objective/regression_obj.cu:152: reg:linear is now deprecated in favor of reg:squarederror.\n"
     ]
    },
    {
     "name": "stderr",
     "output_type": "stream",
     "text": [
      "C:\\Users\\K T KUMAR\\Anaconda33\\lib\\site-packages\\xgboost\\core.py:587: FutureWarning: Series.base is deprecated and will be removed in a future version\n",
      "  if getattr(data, 'base', None) is not None and \\\n"
     ]
    },
    {
     "name": "stdout",
     "output_type": "stream",
     "text": [
      "[CV]  subsample=0.5, n_estimators=1100, min_child_parameters=5, max_depth=25, learning_rate=0.7, total=   0.9s\n",
      "[CV] subsample=0.5, n_estimators=1100, min_child_parameters=5, max_depth=25, learning_rate=0.7 \n",
      "[11:54:20] WARNING: src/objective/regression_obj.cu:152: reg:linear is now deprecated in favor of reg:squarederror.\n"
     ]
    },
    {
     "name": "stderr",
     "output_type": "stream",
     "text": [
      "C:\\Users\\K T KUMAR\\Anaconda33\\lib\\site-packages\\xgboost\\core.py:587: FutureWarning: Series.base is deprecated and will be removed in a future version\n",
      "  if getattr(data, 'base', None) is not None and \\\n"
     ]
    },
    {
     "name": "stdout",
     "output_type": "stream",
     "text": [
      "[CV]  subsample=0.5, n_estimators=1100, min_child_parameters=5, max_depth=25, learning_rate=0.7, total=   0.9s\n",
      "[CV] subsample=0.5, n_estimators=1100, min_child_parameters=5, max_depth=25, learning_rate=0.7 \n",
      "[11:54:21] WARNING: src/objective/regression_obj.cu:152: reg:linear is now deprecated in favor of reg:squarederror.\n"
     ]
    },
    {
     "name": "stderr",
     "output_type": "stream",
     "text": [
      "C:\\Users\\K T KUMAR\\Anaconda33\\lib\\site-packages\\xgboost\\core.py:587: FutureWarning: Series.base is deprecated and will be removed in a future version\n",
      "  if getattr(data, 'base', None) is not None and \\\n"
     ]
    },
    {
     "name": "stdout",
     "output_type": "stream",
     "text": [
      "[CV]  subsample=0.5, n_estimators=1100, min_child_parameters=5, max_depth=25, learning_rate=0.7, total=   0.9s\n",
      "[CV] subsample=0.5, n_estimators=1100, min_child_parameters=5, max_depth=25, learning_rate=0.7 \n",
      "[11:54:21] WARNING: src/objective/regression_obj.cu:152: reg:linear is now deprecated in favor of reg:squarederror.\n"
     ]
    },
    {
     "name": "stderr",
     "output_type": "stream",
     "text": [
      "C:\\Users\\K T KUMAR\\Anaconda33\\lib\\site-packages\\xgboost\\core.py:587: FutureWarning: Series.base is deprecated and will be removed in a future version\n",
      "  if getattr(data, 'base', None) is not None and \\\n"
     ]
    },
    {
     "name": "stdout",
     "output_type": "stream",
     "text": [
      "[CV]  subsample=0.5, n_estimators=1100, min_child_parameters=5, max_depth=25, learning_rate=0.7, total=   0.9s\n",
      "[CV] subsample=0.5, n_estimators=800, min_child_parameters=5, max_depth=20, learning_rate=0.3 \n",
      "[11:54:22] WARNING: src/objective/regression_obj.cu:152: reg:linear is now deprecated in favor of reg:squarederror.\n"
     ]
    },
    {
     "name": "stderr",
     "output_type": "stream",
     "text": [
      "C:\\Users\\K T KUMAR\\Anaconda33\\lib\\site-packages\\xgboost\\core.py:587: FutureWarning: Series.base is deprecated and will be removed in a future version\n",
      "  if getattr(data, 'base', None) is not None and \\\n"
     ]
    },
    {
     "name": "stdout",
     "output_type": "stream",
     "text": [
      "[CV]  subsample=0.5, n_estimators=800, min_child_parameters=5, max_depth=20, learning_rate=0.3, total=   1.2s\n",
      "[CV] subsample=0.5, n_estimators=800, min_child_parameters=5, max_depth=20, learning_rate=0.3 \n",
      "[11:54:24] WARNING: src/objective/regression_obj.cu:152: reg:linear is now deprecated in favor of reg:squarederror.\n"
     ]
    },
    {
     "name": "stderr",
     "output_type": "stream",
     "text": [
      "C:\\Users\\K T KUMAR\\Anaconda33\\lib\\site-packages\\xgboost\\core.py:587: FutureWarning: Series.base is deprecated and will be removed in a future version\n",
      "  if getattr(data, 'base', None) is not None and \\\n"
     ]
    },
    {
     "name": "stdout",
     "output_type": "stream",
     "text": [
      "[CV]  subsample=0.5, n_estimators=800, min_child_parameters=5, max_depth=20, learning_rate=0.3, total=   1.2s\n",
      "[CV] subsample=0.5, n_estimators=800, min_child_parameters=5, max_depth=20, learning_rate=0.3 \n",
      "[11:54:25] WARNING: src/objective/regression_obj.cu:152: reg:linear is now deprecated in favor of reg:squarederror.\n"
     ]
    },
    {
     "name": "stderr",
     "output_type": "stream",
     "text": [
      "C:\\Users\\K T KUMAR\\Anaconda33\\lib\\site-packages\\xgboost\\core.py:587: FutureWarning: Series.base is deprecated and will be removed in a future version\n",
      "  if getattr(data, 'base', None) is not None and \\\n"
     ]
    },
    {
     "name": "stdout",
     "output_type": "stream",
     "text": [
      "[CV]  subsample=0.5, n_estimators=800, min_child_parameters=5, max_depth=20, learning_rate=0.3, total=   1.1s\n",
      "[CV] subsample=0.5, n_estimators=800, min_child_parameters=5, max_depth=20, learning_rate=0.3 \n",
      "[11:54:26] WARNING: src/objective/regression_obj.cu:152: reg:linear is now deprecated in favor of reg:squarederror.\n"
     ]
    },
    {
     "name": "stderr",
     "output_type": "stream",
     "text": [
      "C:\\Users\\K T KUMAR\\Anaconda33\\lib\\site-packages\\xgboost\\core.py:587: FutureWarning: Series.base is deprecated and will be removed in a future version\n",
      "  if getattr(data, 'base', None) is not None and \\\n"
     ]
    },
    {
     "name": "stdout",
     "output_type": "stream",
     "text": [
      "[CV]  subsample=0.5, n_estimators=800, min_child_parameters=5, max_depth=20, learning_rate=0.3, total=   1.1s\n",
      "[CV] subsample=0.7, n_estimators=100, min_child_parameters=4, max_depth=5, learning_rate=0.5 \n",
      "[11:54:27] WARNING: src/objective/regression_obj.cu:152: reg:linear is now deprecated in favor of reg:squarederror.\n",
      "[CV]  subsample=0.7, n_estimators=100, min_child_parameters=4, max_depth=5, learning_rate=0.5, total=   0.2s\n",
      "[CV] subsample=0.7, n_estimators=100, min_child_parameters=4, max_depth=5, learning_rate=0.5 \n",
      "[11:54:27] WARNING: src/objective/regression_obj.cu:152: reg:linear is now deprecated in favor of reg:squarederror.\n"
     ]
    },
    {
     "name": "stderr",
     "output_type": "stream",
     "text": [
      "C:\\Users\\K T KUMAR\\Anaconda33\\lib\\site-packages\\xgboost\\core.py:587: FutureWarning: Series.base is deprecated and will be removed in a future version\n",
      "  if getattr(data, 'base', None) is not None and \\\n",
      "C:\\Users\\K T KUMAR\\Anaconda33\\lib\\site-packages\\xgboost\\core.py:587: FutureWarning: Series.base is deprecated and will be removed in a future version\n",
      "  if getattr(data, 'base', None) is not None and \\\n"
     ]
    },
    {
     "name": "stdout",
     "output_type": "stream",
     "text": [
      "[CV]  subsample=0.7, n_estimators=100, min_child_parameters=4, max_depth=5, learning_rate=0.5, total=   0.2s\n",
      "[CV] subsample=0.7, n_estimators=100, min_child_parameters=4, max_depth=5, learning_rate=0.5 \n",
      "[11:54:27] WARNING: src/objective/regression_obj.cu:152: reg:linear is now deprecated in favor of reg:squarederror.\n",
      "[CV]  subsample=0.7, n_estimators=100, min_child_parameters=4, max_depth=5, learning_rate=0.5, total=   0.2s\n",
      "[CV] subsample=0.7, n_estimators=100, min_child_parameters=4, max_depth=5, learning_rate=0.5 \n",
      "[11:54:28] WARNING: src/objective/regression_obj.cu:152: reg:linear is now deprecated in favor of reg:squarederror.\n"
     ]
    },
    {
     "name": "stderr",
     "output_type": "stream",
     "text": [
      "C:\\Users\\K T KUMAR\\Anaconda33\\lib\\site-packages\\xgboost\\core.py:587: FutureWarning: Series.base is deprecated and will be removed in a future version\n",
      "  if getattr(data, 'base', None) is not None and \\\n",
      "C:\\Users\\K T KUMAR\\Anaconda33\\lib\\site-packages\\xgboost\\core.py:587: FutureWarning: Series.base is deprecated and will be removed in a future version\n",
      "  if getattr(data, 'base', None) is not None and \\\n"
     ]
    },
    {
     "name": "stdout",
     "output_type": "stream",
     "text": [
      "[CV]  subsample=0.7, n_estimators=100, min_child_parameters=4, max_depth=5, learning_rate=0.5, total=   0.2s\n",
      "[CV] subsample=0.5, n_estimators=800, min_child_parameters=3, max_depth=20, learning_rate=0.6 \n",
      "[11:54:28] WARNING: src/objective/regression_obj.cu:152: reg:linear is now deprecated in favor of reg:squarederror.\n"
     ]
    },
    {
     "name": "stderr",
     "output_type": "stream",
     "text": [
      "C:\\Users\\K T KUMAR\\Anaconda33\\lib\\site-packages\\xgboost\\core.py:587: FutureWarning: Series.base is deprecated and will be removed in a future version\n",
      "  if getattr(data, 'base', None) is not None and \\\n"
     ]
    },
    {
     "name": "stdout",
     "output_type": "stream",
     "text": [
      "[CV]  subsample=0.5, n_estimators=800, min_child_parameters=3, max_depth=20, learning_rate=0.6, total=   0.8s\n",
      "[CV] subsample=0.5, n_estimators=800, min_child_parameters=3, max_depth=20, learning_rate=0.6 \n",
      "[11:54:29] WARNING: src/objective/regression_obj.cu:152: reg:linear is now deprecated in favor of reg:squarederror.\n"
     ]
    },
    {
     "name": "stderr",
     "output_type": "stream",
     "text": [
      "C:\\Users\\K T KUMAR\\Anaconda33\\lib\\site-packages\\xgboost\\core.py:587: FutureWarning: Series.base is deprecated and will be removed in a future version\n",
      "  if getattr(data, 'base', None) is not None and \\\n"
     ]
    },
    {
     "name": "stdout",
     "output_type": "stream",
     "text": [
      "[CV]  subsample=0.5, n_estimators=800, min_child_parameters=3, max_depth=20, learning_rate=0.6, total=   0.8s\n",
      "[CV] subsample=0.5, n_estimators=800, min_child_parameters=3, max_depth=20, learning_rate=0.6 \n",
      "[11:54:29] WARNING: src/objective/regression_obj.cu:152: reg:linear is now deprecated in favor of reg:squarederror.\n"
     ]
    },
    {
     "name": "stderr",
     "output_type": "stream",
     "text": [
      "C:\\Users\\K T KUMAR\\Anaconda33\\lib\\site-packages\\xgboost\\core.py:587: FutureWarning: Series.base is deprecated and will be removed in a future version\n",
      "  if getattr(data, 'base', None) is not None and \\\n"
     ]
    },
    {
     "name": "stdout",
     "output_type": "stream",
     "text": [
      "[CV]  subsample=0.5, n_estimators=800, min_child_parameters=3, max_depth=20, learning_rate=0.6, total=   0.8s\n",
      "[CV] subsample=0.5, n_estimators=800, min_child_parameters=3, max_depth=20, learning_rate=0.6 \n",
      "[11:54:30] WARNING: src/objective/regression_obj.cu:152: reg:linear is now deprecated in favor of reg:squarederror.\n"
     ]
    },
    {
     "name": "stderr",
     "output_type": "stream",
     "text": [
      "C:\\Users\\K T KUMAR\\Anaconda33\\lib\\site-packages\\xgboost\\core.py:587: FutureWarning: Series.base is deprecated and will be removed in a future version\n",
      "  if getattr(data, 'base', None) is not None and \\\n"
     ]
    },
    {
     "name": "stdout",
     "output_type": "stream",
     "text": [
      "[CV]  subsample=0.5, n_estimators=800, min_child_parameters=3, max_depth=20, learning_rate=0.6, total=   0.8s\n",
      "[CV] subsample=0.7, n_estimators=900, min_child_parameters=6, max_depth=5, learning_rate=0.6 \n",
      "[11:54:31] WARNING: src/objective/regression_obj.cu:152: reg:linear is now deprecated in favor of reg:squarederror.\n"
     ]
    },
    {
     "name": "stderr",
     "output_type": "stream",
     "text": [
      "C:\\Users\\K T KUMAR\\Anaconda33\\lib\\site-packages\\xgboost\\core.py:587: FutureWarning: Series.base is deprecated and will be removed in a future version\n",
      "  if getattr(data, 'base', None) is not None and \\\n"
     ]
    },
    {
     "name": "stdout",
     "output_type": "stream",
     "text": [
      "[CV]  subsample=0.7, n_estimators=900, min_child_parameters=6, max_depth=5, learning_rate=0.6, total=   0.7s\n",
      "[CV] subsample=0.7, n_estimators=900, min_child_parameters=6, max_depth=5, learning_rate=0.6 \n",
      "[11:54:32] WARNING: src/objective/regression_obj.cu:152: reg:linear is now deprecated in favor of reg:squarederror.\n"
     ]
    },
    {
     "name": "stderr",
     "output_type": "stream",
     "text": [
      "C:\\Users\\K T KUMAR\\Anaconda33\\lib\\site-packages\\xgboost\\core.py:587: FutureWarning: Series.base is deprecated and will be removed in a future version\n",
      "  if getattr(data, 'base', None) is not None and \\\n"
     ]
    },
    {
     "name": "stdout",
     "output_type": "stream",
     "text": [
      "[CV]  subsample=0.7, n_estimators=900, min_child_parameters=6, max_depth=5, learning_rate=0.6, total=   0.7s\n",
      "[CV] subsample=0.7, n_estimators=900, min_child_parameters=6, max_depth=5, learning_rate=0.6 \n",
      "[11:54:32] WARNING: src/objective/regression_obj.cu:152: reg:linear is now deprecated in favor of reg:squarederror.\n"
     ]
    },
    {
     "name": "stderr",
     "output_type": "stream",
     "text": [
      "C:\\Users\\K T KUMAR\\Anaconda33\\lib\\site-packages\\xgboost\\core.py:587: FutureWarning: Series.base is deprecated and will be removed in a future version\n",
      "  if getattr(data, 'base', None) is not None and \\\n"
     ]
    },
    {
     "name": "stdout",
     "output_type": "stream",
     "text": [
      "[CV]  subsample=0.7, n_estimators=900, min_child_parameters=6, max_depth=5, learning_rate=0.6, total=   0.7s\n",
      "[CV] subsample=0.7, n_estimators=900, min_child_parameters=6, max_depth=5, learning_rate=0.6 \n",
      "[11:54:33] WARNING: src/objective/regression_obj.cu:152: reg:linear is now deprecated in favor of reg:squarederror.\n"
     ]
    },
    {
     "name": "stderr",
     "output_type": "stream",
     "text": [
      "C:\\Users\\K T KUMAR\\Anaconda33\\lib\\site-packages\\xgboost\\core.py:587: FutureWarning: Series.base is deprecated and will be removed in a future version\n",
      "  if getattr(data, 'base', None) is not None and \\\n"
     ]
    },
    {
     "name": "stdout",
     "output_type": "stream",
     "text": [
      "[CV]  subsample=0.7, n_estimators=900, min_child_parameters=6, max_depth=5, learning_rate=0.6, total=   0.7s\n",
      "[CV] subsample=0.7, n_estimators=100, min_child_parameters=7, max_depth=5, learning_rate=0.7 \n",
      "[11:54:34] WARNING: src/objective/regression_obj.cu:152: reg:linear is now deprecated in favor of reg:squarederror.\n",
      "[CV]  subsample=0.7, n_estimators=100, min_child_parameters=7, max_depth=5, learning_rate=0.7, total=   0.2s\n",
      "[CV] subsample=0.7, n_estimators=100, min_child_parameters=7, max_depth=5, learning_rate=0.7 \n",
      "[11:54:34] WARNING: src/objective/regression_obj.cu:152: reg:linear is now deprecated in favor of reg:squarederror.\n"
     ]
    },
    {
     "name": "stderr",
     "output_type": "stream",
     "text": [
      "C:\\Users\\K T KUMAR\\Anaconda33\\lib\\site-packages\\xgboost\\core.py:587: FutureWarning: Series.base is deprecated and will be removed in a future version\n",
      "  if getattr(data, 'base', None) is not None and \\\n",
      "C:\\Users\\K T KUMAR\\Anaconda33\\lib\\site-packages\\xgboost\\core.py:587: FutureWarning: Series.base is deprecated and will be removed in a future version\n",
      "  if getattr(data, 'base', None) is not None and \\\n"
     ]
    },
    {
     "name": "stdout",
     "output_type": "stream",
     "text": [
      "[CV]  subsample=0.7, n_estimators=100, min_child_parameters=7, max_depth=5, learning_rate=0.7, total=   0.2s\n",
      "[CV] subsample=0.7, n_estimators=100, min_child_parameters=7, max_depth=5, learning_rate=0.7 \n",
      "[11:54:34] WARNING: src/objective/regression_obj.cu:152: reg:linear is now deprecated in favor of reg:squarederror.\n",
      "[CV]  subsample=0.7, n_estimators=100, min_child_parameters=7, max_depth=5, learning_rate=0.7, total=   0.2s\n",
      "[CV] subsample=0.7, n_estimators=100, min_child_parameters=7, max_depth=5, learning_rate=0.7 \n",
      "[11:54:34] WARNING: src/objective/regression_obj.cu:152: reg:linear is now deprecated in favor of reg:squarederror.\n"
     ]
    },
    {
     "name": "stderr",
     "output_type": "stream",
     "text": [
      "C:\\Users\\K T KUMAR\\Anaconda33\\lib\\site-packages\\xgboost\\core.py:587: FutureWarning: Series.base is deprecated and will be removed in a future version\n",
      "  if getattr(data, 'base', None) is not None and \\\n",
      "C:\\Users\\K T KUMAR\\Anaconda33\\lib\\site-packages\\xgboost\\core.py:587: FutureWarning: Series.base is deprecated and will be removed in a future version\n",
      "  if getattr(data, 'base', None) is not None and \\\n"
     ]
    },
    {
     "name": "stdout",
     "output_type": "stream",
     "text": [
      "[CV]  subsample=0.7, n_estimators=100, min_child_parameters=7, max_depth=5, learning_rate=0.7, total=   0.2s\n",
      "[CV] subsample=0.5, n_estimators=200, min_child_parameters=6, max_depth=10, learning_rate=0.3 \n",
      "[11:54:34] WARNING: src/objective/regression_obj.cu:152: reg:linear is now deprecated in favor of reg:squarederror.\n"
     ]
    },
    {
     "name": "stderr",
     "output_type": "stream",
     "text": [
      "C:\\Users\\K T KUMAR\\Anaconda33\\lib\\site-packages\\xgboost\\core.py:587: FutureWarning: Series.base is deprecated and will be removed in a future version\n",
      "  if getattr(data, 'base', None) is not None and \\\n"
     ]
    },
    {
     "name": "stdout",
     "output_type": "stream",
     "text": [
      "[CV]  subsample=0.5, n_estimators=200, min_child_parameters=6, max_depth=10, learning_rate=0.3, total=   0.6s\n",
      "[CV] subsample=0.5, n_estimators=200, min_child_parameters=6, max_depth=10, learning_rate=0.3 \n",
      "[11:54:35] WARNING: src/objective/regression_obj.cu:152: reg:linear is now deprecated in favor of reg:squarederror.\n"
     ]
    },
    {
     "name": "stderr",
     "output_type": "stream",
     "text": [
      "C:\\Users\\K T KUMAR\\Anaconda33\\lib\\site-packages\\xgboost\\core.py:587: FutureWarning: Series.base is deprecated and will be removed in a future version\n",
      "  if getattr(data, 'base', None) is not None and \\\n"
     ]
    },
    {
     "name": "stdout",
     "output_type": "stream",
     "text": [
      "[CV]  subsample=0.5, n_estimators=200, min_child_parameters=6, max_depth=10, learning_rate=0.3, total=   0.6s\n",
      "[CV] subsample=0.5, n_estimators=200, min_child_parameters=6, max_depth=10, learning_rate=0.3 \n",
      "[11:54:36] WARNING: src/objective/regression_obj.cu:152: reg:linear is now deprecated in favor of reg:squarederror.\n"
     ]
    },
    {
     "name": "stderr",
     "output_type": "stream",
     "text": [
      "C:\\Users\\K T KUMAR\\Anaconda33\\lib\\site-packages\\xgboost\\core.py:587: FutureWarning: Series.base is deprecated and will be removed in a future version\n",
      "  if getattr(data, 'base', None) is not None and \\\n"
     ]
    },
    {
     "name": "stdout",
     "output_type": "stream",
     "text": [
      "[CV]  subsample=0.5, n_estimators=200, min_child_parameters=6, max_depth=10, learning_rate=0.3, total=   0.6s\n",
      "[CV] subsample=0.5, n_estimators=200, min_child_parameters=6, max_depth=10, learning_rate=0.3 \n",
      "[11:54:36] WARNING: src/objective/regression_obj.cu:152: reg:linear is now deprecated in favor of reg:squarederror.\n"
     ]
    },
    {
     "name": "stderr",
     "output_type": "stream",
     "text": [
      "C:\\Users\\K T KUMAR\\Anaconda33\\lib\\site-packages\\xgboost\\core.py:587: FutureWarning: Series.base is deprecated and will be removed in a future version\n",
      "  if getattr(data, 'base', None) is not None and \\\n"
     ]
    },
    {
     "name": "stdout",
     "output_type": "stream",
     "text": [
      "[CV]  subsample=0.5, n_estimators=200, min_child_parameters=6, max_depth=10, learning_rate=0.3, total=   0.6s\n",
      "[CV] subsample=0.8, n_estimators=1200, min_child_parameters=7, max_depth=15, learning_rate=0.2 \n",
      "[11:54:37] WARNING: src/objective/regression_obj.cu:152: reg:linear is now deprecated in favor of reg:squarederror.\n"
     ]
    },
    {
     "name": "stderr",
     "output_type": "stream",
     "text": [
      "C:\\Users\\K T KUMAR\\Anaconda33\\lib\\site-packages\\xgboost\\core.py:587: FutureWarning: Series.base is deprecated and will be removed in a future version\n",
      "  if getattr(data, 'base', None) is not None and \\\n"
     ]
    },
    {
     "name": "stdout",
     "output_type": "stream",
     "text": [
      "[CV]  subsample=0.8, n_estimators=1200, min_child_parameters=7, max_depth=15, learning_rate=0.2, total=   1.1s\n",
      "[CV] subsample=0.8, n_estimators=1200, min_child_parameters=7, max_depth=15, learning_rate=0.2 \n",
      "[11:54:38] WARNING: src/objective/regression_obj.cu:152: reg:linear is now deprecated in favor of reg:squarederror.\n"
     ]
    },
    {
     "name": "stderr",
     "output_type": "stream",
     "text": [
      "C:\\Users\\K T KUMAR\\Anaconda33\\lib\\site-packages\\xgboost\\core.py:587: FutureWarning: Series.base is deprecated and will be removed in a future version\n",
      "  if getattr(data, 'base', None) is not None and \\\n"
     ]
    },
    {
     "name": "stdout",
     "output_type": "stream",
     "text": [
      "[CV]  subsample=0.8, n_estimators=1200, min_child_parameters=7, max_depth=15, learning_rate=0.2, total=   1.1s\n",
      "[CV] subsample=0.8, n_estimators=1200, min_child_parameters=7, max_depth=15, learning_rate=0.2 \n",
      "[11:54:39] WARNING: src/objective/regression_obj.cu:152: reg:linear is now deprecated in favor of reg:squarederror.\n"
     ]
    },
    {
     "name": "stderr",
     "output_type": "stream",
     "text": [
      "C:\\Users\\K T KUMAR\\Anaconda33\\lib\\site-packages\\xgboost\\core.py:587: FutureWarning: Series.base is deprecated and will be removed in a future version\n",
      "  if getattr(data, 'base', None) is not None and \\\n"
     ]
    },
    {
     "name": "stdout",
     "output_type": "stream",
     "text": [
      "[CV]  subsample=0.8, n_estimators=1200, min_child_parameters=7, max_depth=15, learning_rate=0.2, total=   1.1s\n",
      "[CV] subsample=0.8, n_estimators=1200, min_child_parameters=7, max_depth=15, learning_rate=0.2 \n",
      "[11:54:40] WARNING: src/objective/regression_obj.cu:152: reg:linear is now deprecated in favor of reg:squarederror.\n"
     ]
    },
    {
     "name": "stderr",
     "output_type": "stream",
     "text": [
      "C:\\Users\\K T KUMAR\\Anaconda33\\lib\\site-packages\\xgboost\\core.py:587: FutureWarning: Series.base is deprecated and will be removed in a future version\n",
      "  if getattr(data, 'base', None) is not None and \\\n"
     ]
    },
    {
     "name": "stdout",
     "output_type": "stream",
     "text": [
      "[CV]  subsample=0.8, n_estimators=1200, min_child_parameters=7, max_depth=15, learning_rate=0.2, total=   1.1s\n",
      "[CV] subsample=0.8, n_estimators=200, min_child_parameters=3, max_depth=25, learning_rate=0.3 \n",
      "[11:54:41] WARNING: src/objective/regression_obj.cu:152: reg:linear is now deprecated in favor of reg:squarederror.\n"
     ]
    },
    {
     "name": "stderr",
     "output_type": "stream",
     "text": [
      "C:\\Users\\K T KUMAR\\Anaconda33\\lib\\site-packages\\xgboost\\core.py:587: FutureWarning: Series.base is deprecated and will be removed in a future version\n",
      "  if getattr(data, 'base', None) is not None and \\\n"
     ]
    },
    {
     "name": "stdout",
     "output_type": "stream",
     "text": [
      "[CV]  subsample=0.8, n_estimators=200, min_child_parameters=3, max_depth=25, learning_rate=0.3, total=   0.6s\n",
      "[CV] subsample=0.8, n_estimators=200, min_child_parameters=3, max_depth=25, learning_rate=0.3 \n",
      "[11:54:42] WARNING: src/objective/regression_obj.cu:152: reg:linear is now deprecated in favor of reg:squarederror.\n"
     ]
    },
    {
     "name": "stderr",
     "output_type": "stream",
     "text": [
      "C:\\Users\\K T KUMAR\\Anaconda33\\lib\\site-packages\\xgboost\\core.py:587: FutureWarning: Series.base is deprecated and will be removed in a future version\n",
      "  if getattr(data, 'base', None) is not None and \\\n"
     ]
    },
    {
     "name": "stdout",
     "output_type": "stream",
     "text": [
      "[CV]  subsample=0.8, n_estimators=200, min_child_parameters=3, max_depth=25, learning_rate=0.3, total=   0.6s\n",
      "[CV] subsample=0.8, n_estimators=200, min_child_parameters=3, max_depth=25, learning_rate=0.3 \n",
      "[11:54:42] WARNING: src/objective/regression_obj.cu:152: reg:linear is now deprecated in favor of reg:squarederror.\n"
     ]
    },
    {
     "name": "stderr",
     "output_type": "stream",
     "text": [
      "C:\\Users\\K T KUMAR\\Anaconda33\\lib\\site-packages\\xgboost\\core.py:587: FutureWarning: Series.base is deprecated and will be removed in a future version\n",
      "  if getattr(data, 'base', None) is not None and \\\n"
     ]
    },
    {
     "name": "stdout",
     "output_type": "stream",
     "text": [
      "[CV]  subsample=0.8, n_estimators=200, min_child_parameters=3, max_depth=25, learning_rate=0.3, total=   0.6s\n",
      "[CV] subsample=0.8, n_estimators=200, min_child_parameters=3, max_depth=25, learning_rate=0.3 \n",
      "[11:54:43] WARNING: src/objective/regression_obj.cu:152: reg:linear is now deprecated in favor of reg:squarederror.\n"
     ]
    },
    {
     "name": "stderr",
     "output_type": "stream",
     "text": [
      "C:\\Users\\K T KUMAR\\Anaconda33\\lib\\site-packages\\xgboost\\core.py:587: FutureWarning: Series.base is deprecated and will be removed in a future version\n",
      "  if getattr(data, 'base', None) is not None and \\\n"
     ]
    },
    {
     "name": "stdout",
     "output_type": "stream",
     "text": [
      "[CV]  subsample=0.8, n_estimators=200, min_child_parameters=3, max_depth=25, learning_rate=0.3, total=   0.7s\n",
      "[CV] subsample=0.8, n_estimators=400, min_child_parameters=5, max_depth=25, learning_rate=0.5 \n",
      "[11:54:44] WARNING: src/objective/regression_obj.cu:152: reg:linear is now deprecated in favor of reg:squarederror.\n"
     ]
    },
    {
     "name": "stderr",
     "output_type": "stream",
     "text": [
      "C:\\Users\\K T KUMAR\\Anaconda33\\lib\\site-packages\\xgboost\\core.py:587: FutureWarning: Series.base is deprecated and will be removed in a future version\n",
      "  if getattr(data, 'base', None) is not None and \\\n"
     ]
    },
    {
     "name": "stdout",
     "output_type": "stream",
     "text": [
      "[CV]  subsample=0.8, n_estimators=400, min_child_parameters=5, max_depth=25, learning_rate=0.5, total=   0.5s\n",
      "[CV] subsample=0.8, n_estimators=400, min_child_parameters=5, max_depth=25, learning_rate=0.5 \n",
      "[11:54:44] WARNING: src/objective/regression_obj.cu:152: reg:linear is now deprecated in favor of reg:squarederror.\n"
     ]
    },
    {
     "name": "stderr",
     "output_type": "stream",
     "text": [
      "C:\\Users\\K T KUMAR\\Anaconda33\\lib\\site-packages\\xgboost\\core.py:587: FutureWarning: Series.base is deprecated and will be removed in a future version\n",
      "  if getattr(data, 'base', None) is not None and \\\n"
     ]
    },
    {
     "name": "stdout",
     "output_type": "stream",
     "text": [
      "[CV]  subsample=0.8, n_estimators=400, min_child_parameters=5, max_depth=25, learning_rate=0.5, total=   0.5s\n",
      "[CV] subsample=0.8, n_estimators=400, min_child_parameters=5, max_depth=25, learning_rate=0.5 \n",
      "[11:54:45] WARNING: src/objective/regression_obj.cu:152: reg:linear is now deprecated in favor of reg:squarederror.\n"
     ]
    },
    {
     "name": "stderr",
     "output_type": "stream",
     "text": [
      "C:\\Users\\K T KUMAR\\Anaconda33\\lib\\site-packages\\xgboost\\core.py:587: FutureWarning: Series.base is deprecated and will be removed in a future version\n",
      "  if getattr(data, 'base', None) is not None and \\\n"
     ]
    },
    {
     "name": "stdout",
     "output_type": "stream",
     "text": [
      "[CV]  subsample=0.8, n_estimators=400, min_child_parameters=5, max_depth=25, learning_rate=0.5, total=   0.5s\n",
      "[CV] subsample=0.8, n_estimators=400, min_child_parameters=5, max_depth=25, learning_rate=0.5 \n",
      "[11:54:45] WARNING: src/objective/regression_obj.cu:152: reg:linear is now deprecated in favor of reg:squarederror.\n"
     ]
    },
    {
     "name": "stderr",
     "output_type": "stream",
     "text": [
      "C:\\Users\\K T KUMAR\\Anaconda33\\lib\\site-packages\\xgboost\\core.py:587: FutureWarning: Series.base is deprecated and will be removed in a future version\n",
      "  if getattr(data, 'base', None) is not None and \\\n"
     ]
    },
    {
     "name": "stdout",
     "output_type": "stream",
     "text": [
      "[CV]  subsample=0.8, n_estimators=400, min_child_parameters=5, max_depth=25, learning_rate=0.5, total=   0.5s\n",
      "[CV] subsample=0.5, n_estimators=1100, min_child_parameters=4, max_depth=10, learning_rate=0.2 \n",
      "[11:54:46] WARNING: src/objective/regression_obj.cu:152: reg:linear is now deprecated in favor of reg:squarederror.\n"
     ]
    },
    {
     "name": "stderr",
     "output_type": "stream",
     "text": [
      "C:\\Users\\K T KUMAR\\Anaconda33\\lib\\site-packages\\xgboost\\core.py:587: FutureWarning: Series.base is deprecated and will be removed in a future version\n",
      "  if getattr(data, 'base', None) is not None and \\\n"
     ]
    },
    {
     "name": "stdout",
     "output_type": "stream",
     "text": [
      "[CV]  subsample=0.5, n_estimators=1100, min_child_parameters=4, max_depth=10, learning_rate=0.2, total=   1.3s\n",
      "[CV] subsample=0.5, n_estimators=1100, min_child_parameters=4, max_depth=10, learning_rate=0.2 \n",
      "[11:54:47] WARNING: src/objective/regression_obj.cu:152: reg:linear is now deprecated in favor of reg:squarederror.\n"
     ]
    },
    {
     "name": "stderr",
     "output_type": "stream",
     "text": [
      "C:\\Users\\K T KUMAR\\Anaconda33\\lib\\site-packages\\xgboost\\core.py:587: FutureWarning: Series.base is deprecated and will be removed in a future version\n",
      "  if getattr(data, 'base', None) is not None and \\\n"
     ]
    },
    {
     "name": "stdout",
     "output_type": "stream",
     "text": [
      "[CV]  subsample=0.5, n_estimators=1100, min_child_parameters=4, max_depth=10, learning_rate=0.2, total=   1.3s\n",
      "[CV] subsample=0.5, n_estimators=1100, min_child_parameters=4, max_depth=10, learning_rate=0.2 \n",
      "[11:54:48] WARNING: src/objective/regression_obj.cu:152: reg:linear is now deprecated in favor of reg:squarederror.\n"
     ]
    },
    {
     "name": "stderr",
     "output_type": "stream",
     "text": [
      "C:\\Users\\K T KUMAR\\Anaconda33\\lib\\site-packages\\xgboost\\core.py:587: FutureWarning: Series.base is deprecated and will be removed in a future version\n",
      "  if getattr(data, 'base', None) is not None and \\\n"
     ]
    },
    {
     "name": "stdout",
     "output_type": "stream",
     "text": [
      "[CV]  subsample=0.5, n_estimators=1100, min_child_parameters=4, max_depth=10, learning_rate=0.2, total=   1.4s\n",
      "[CV] subsample=0.5, n_estimators=1100, min_child_parameters=4, max_depth=10, learning_rate=0.2 \n",
      "[11:54:50] WARNING: src/objective/regression_obj.cu:152: reg:linear is now deprecated in favor of reg:squarederror.\n"
     ]
    },
    {
     "name": "stderr",
     "output_type": "stream",
     "text": [
      "C:\\Users\\K T KUMAR\\Anaconda33\\lib\\site-packages\\xgboost\\core.py:587: FutureWarning: Series.base is deprecated and will be removed in a future version\n",
      "  if getattr(data, 'base', None) is not None and \\\n"
     ]
    },
    {
     "name": "stdout",
     "output_type": "stream",
     "text": [
      "[CV]  subsample=0.5, n_estimators=1100, min_child_parameters=4, max_depth=10, learning_rate=0.2, total=   1.3s\n",
      "[CV] subsample=0.7, n_estimators=600, min_child_parameters=6, max_depth=20, learning_rate=0.6 \n",
      "[11:54:51] WARNING: src/objective/regression_obj.cu:152: reg:linear is now deprecated in favor of reg:squarederror.\n"
     ]
    },
    {
     "name": "stderr",
     "output_type": "stream",
     "text": [
      "C:\\Users\\K T KUMAR\\Anaconda33\\lib\\site-packages\\xgboost\\core.py:587: FutureWarning: Series.base is deprecated and will be removed in a future version\n",
      "  if getattr(data, 'base', None) is not None and \\\n"
     ]
    },
    {
     "name": "stdout",
     "output_type": "stream",
     "text": [
      "[CV]  subsample=0.7, n_estimators=600, min_child_parameters=6, max_depth=20, learning_rate=0.6, total=   0.6s\n",
      "[CV] subsample=0.7, n_estimators=600, min_child_parameters=6, max_depth=20, learning_rate=0.6 \n",
      "[11:54:52] WARNING: src/objective/regression_obj.cu:152: reg:linear is now deprecated in favor of reg:squarederror.\n"
     ]
    },
    {
     "name": "stderr",
     "output_type": "stream",
     "text": [
      "C:\\Users\\K T KUMAR\\Anaconda33\\lib\\site-packages\\xgboost\\core.py:587: FutureWarning: Series.base is deprecated and will be removed in a future version\n",
      "  if getattr(data, 'base', None) is not None and \\\n"
     ]
    },
    {
     "name": "stdout",
     "output_type": "stream",
     "text": [
      "[CV]  subsample=0.7, n_estimators=600, min_child_parameters=6, max_depth=20, learning_rate=0.6, total=   0.6s\n",
      "[CV] subsample=0.7, n_estimators=600, min_child_parameters=6, max_depth=20, learning_rate=0.6 \n",
      "[11:54:52] WARNING: src/objective/regression_obj.cu:152: reg:linear is now deprecated in favor of reg:squarederror.\n"
     ]
    },
    {
     "name": "stderr",
     "output_type": "stream",
     "text": [
      "C:\\Users\\K T KUMAR\\Anaconda33\\lib\\site-packages\\xgboost\\core.py:587: FutureWarning: Series.base is deprecated and will be removed in a future version\n",
      "  if getattr(data, 'base', None) is not None and \\\n"
     ]
    },
    {
     "name": "stdout",
     "output_type": "stream",
     "text": [
      "[CV]  subsample=0.7, n_estimators=600, min_child_parameters=6, max_depth=20, learning_rate=0.6, total=   0.5s\n",
      "[CV] subsample=0.7, n_estimators=600, min_child_parameters=6, max_depth=20, learning_rate=0.6 \n",
      "[11:54:53] WARNING: src/objective/regression_obj.cu:152: reg:linear is now deprecated in favor of reg:squarederror.\n"
     ]
    },
    {
     "name": "stderr",
     "output_type": "stream",
     "text": [
      "C:\\Users\\K T KUMAR\\Anaconda33\\lib\\site-packages\\xgboost\\core.py:587: FutureWarning: Series.base is deprecated and will be removed in a future version\n",
      "  if getattr(data, 'base', None) is not None and \\\n"
     ]
    },
    {
     "name": "stdout",
     "output_type": "stream",
     "text": [
      "[CV]  subsample=0.7, n_estimators=600, min_child_parameters=6, max_depth=20, learning_rate=0.6, total=   0.6s\n",
      "[CV] subsample=0.8, n_estimators=800, min_child_parameters=7, max_depth=25, learning_rate=0.3 \n",
      "[11:54:53] WARNING: src/objective/regression_obj.cu:152: reg:linear is now deprecated in favor of reg:squarederror.\n"
     ]
    },
    {
     "name": "stderr",
     "output_type": "stream",
     "text": [
      "C:\\Users\\K T KUMAR\\Anaconda33\\lib\\site-packages\\xgboost\\core.py:587: FutureWarning: Series.base is deprecated and will be removed in a future version\n",
      "  if getattr(data, 'base', None) is not None and \\\n"
     ]
    },
    {
     "name": "stdout",
     "output_type": "stream",
     "text": [
      "[CV]  subsample=0.8, n_estimators=800, min_child_parameters=7, max_depth=25, learning_rate=0.3, total=   0.8s\n",
      "[CV] subsample=0.8, n_estimators=800, min_child_parameters=7, max_depth=25, learning_rate=0.3 \n",
      "[11:54:54] WARNING: src/objective/regression_obj.cu:152: reg:linear is now deprecated in favor of reg:squarederror.\n"
     ]
    },
    {
     "name": "stderr",
     "output_type": "stream",
     "text": [
      "C:\\Users\\K T KUMAR\\Anaconda33\\lib\\site-packages\\xgboost\\core.py:587: FutureWarning: Series.base is deprecated and will be removed in a future version\n",
      "  if getattr(data, 'base', None) is not None and \\\n"
     ]
    },
    {
     "name": "stdout",
     "output_type": "stream",
     "text": [
      "[CV]  subsample=0.8, n_estimators=800, min_child_parameters=7, max_depth=25, learning_rate=0.3, total=   0.8s\n",
      "[CV] subsample=0.8, n_estimators=800, min_child_parameters=7, max_depth=25, learning_rate=0.3 \n",
      "[11:54:55] WARNING: src/objective/regression_obj.cu:152: reg:linear is now deprecated in favor of reg:squarederror.\n"
     ]
    },
    {
     "name": "stderr",
     "output_type": "stream",
     "text": [
      "C:\\Users\\K T KUMAR\\Anaconda33\\lib\\site-packages\\xgboost\\core.py:587: FutureWarning: Series.base is deprecated and will be removed in a future version\n",
      "  if getattr(data, 'base', None) is not None and \\\n"
     ]
    },
    {
     "name": "stdout",
     "output_type": "stream",
     "text": [
      "[CV]  subsample=0.8, n_estimators=800, min_child_parameters=7, max_depth=25, learning_rate=0.3, total=   0.8s\n",
      "[CV] subsample=0.8, n_estimators=800, min_child_parameters=7, max_depth=25, learning_rate=0.3 \n",
      "[11:54:56] WARNING: src/objective/regression_obj.cu:152: reg:linear is now deprecated in favor of reg:squarederror.\n"
     ]
    },
    {
     "name": "stderr",
     "output_type": "stream",
     "text": [
      "C:\\Users\\K T KUMAR\\Anaconda33\\lib\\site-packages\\xgboost\\core.py:587: FutureWarning: Series.base is deprecated and will be removed in a future version\n",
      "  if getattr(data, 'base', None) is not None and \\\n"
     ]
    },
    {
     "name": "stdout",
     "output_type": "stream",
     "text": [
      "[CV]  subsample=0.8, n_estimators=800, min_child_parameters=7, max_depth=25, learning_rate=0.3, total=   0.9s\n",
      "[CV] subsample=0.8, n_estimators=1200, min_child_parameters=4, max_depth=15, learning_rate=0.2 \n",
      "[11:54:57] WARNING: src/objective/regression_obj.cu:152: reg:linear is now deprecated in favor of reg:squarederror.\n"
     ]
    },
    {
     "name": "stderr",
     "output_type": "stream",
     "text": [
      "C:\\Users\\K T KUMAR\\Anaconda33\\lib\\site-packages\\xgboost\\core.py:587: FutureWarning: Series.base is deprecated and will be removed in a future version\n",
      "  if getattr(data, 'base', None) is not None and \\\n"
     ]
    },
    {
     "name": "stdout",
     "output_type": "stream",
     "text": [
      "[CV]  subsample=0.8, n_estimators=1200, min_child_parameters=4, max_depth=15, learning_rate=0.2, total=   1.1s\n",
      "[CV] subsample=0.8, n_estimators=1200, min_child_parameters=4, max_depth=15, learning_rate=0.2 \n",
      "[11:54:58] WARNING: src/objective/regression_obj.cu:152: reg:linear is now deprecated in favor of reg:squarederror.\n"
     ]
    },
    {
     "name": "stderr",
     "output_type": "stream",
     "text": [
      "C:\\Users\\K T KUMAR\\Anaconda33\\lib\\site-packages\\xgboost\\core.py:587: FutureWarning: Series.base is deprecated and will be removed in a future version\n",
      "  if getattr(data, 'base', None) is not None and \\\n"
     ]
    },
    {
     "name": "stdout",
     "output_type": "stream",
     "text": [
      "[CV]  subsample=0.8, n_estimators=1200, min_child_parameters=4, max_depth=15, learning_rate=0.2, total=   1.1s\n",
      "[CV] subsample=0.8, n_estimators=1200, min_child_parameters=4, max_depth=15, learning_rate=0.2 \n",
      "[11:54:59] WARNING: src/objective/regression_obj.cu:152: reg:linear is now deprecated in favor of reg:squarederror.\n"
     ]
    },
    {
     "name": "stderr",
     "output_type": "stream",
     "text": [
      "C:\\Users\\K T KUMAR\\Anaconda33\\lib\\site-packages\\xgboost\\core.py:587: FutureWarning: Series.base is deprecated and will be removed in a future version\n",
      "  if getattr(data, 'base', None) is not None and \\\n"
     ]
    },
    {
     "name": "stdout",
     "output_type": "stream",
     "text": [
      "[CV]  subsample=0.8, n_estimators=1200, min_child_parameters=4, max_depth=15, learning_rate=0.2, total=   1.1s\n",
      "[CV] subsample=0.8, n_estimators=1200, min_child_parameters=4, max_depth=15, learning_rate=0.2 \n",
      "[11:55:00] WARNING: src/objective/regression_obj.cu:152: reg:linear is now deprecated in favor of reg:squarederror.\n"
     ]
    },
    {
     "name": "stderr",
     "output_type": "stream",
     "text": [
      "C:\\Users\\K T KUMAR\\Anaconda33\\lib\\site-packages\\xgboost\\core.py:587: FutureWarning: Series.base is deprecated and will be removed in a future version\n",
      "  if getattr(data, 'base', None) is not None and \\\n"
     ]
    },
    {
     "name": "stdout",
     "output_type": "stream",
     "text": [
      "[CV]  subsample=0.8, n_estimators=1200, min_child_parameters=4, max_depth=15, learning_rate=0.2, total=   1.1s\n",
      "[CV] subsample=0.5, n_estimators=400, min_child_parameters=3, max_depth=20, learning_rate=0.7 \n",
      "[11:55:01] WARNING: src/objective/regression_obj.cu:152: reg:linear is now deprecated in favor of reg:squarederror.\n"
     ]
    },
    {
     "name": "stderr",
     "output_type": "stream",
     "text": [
      "C:\\Users\\K T KUMAR\\Anaconda33\\lib\\site-packages\\xgboost\\core.py:587: FutureWarning: Series.base is deprecated and will be removed in a future version\n",
      "  if getattr(data, 'base', None) is not None and \\\n"
     ]
    },
    {
     "name": "stdout",
     "output_type": "stream",
     "text": [
      "[CV]  subsample=0.5, n_estimators=400, min_child_parameters=3, max_depth=20, learning_rate=0.7, total=   0.7s\n",
      "[CV] subsample=0.5, n_estimators=400, min_child_parameters=3, max_depth=20, learning_rate=0.7 \n",
      "[11:55:02] WARNING: src/objective/regression_obj.cu:152: reg:linear is now deprecated in favor of reg:squarederror.\n"
     ]
    },
    {
     "name": "stderr",
     "output_type": "stream",
     "text": [
      "C:\\Users\\K T KUMAR\\Anaconda33\\lib\\site-packages\\xgboost\\core.py:587: FutureWarning: Series.base is deprecated and will be removed in a future version\n",
      "  if getattr(data, 'base', None) is not None and \\\n"
     ]
    },
    {
     "name": "stdout",
     "output_type": "stream",
     "text": [
      "[CV]  subsample=0.5, n_estimators=400, min_child_parameters=3, max_depth=20, learning_rate=0.7, total=   0.6s\n",
      "[CV] subsample=0.5, n_estimators=400, min_child_parameters=3, max_depth=20, learning_rate=0.7 \n",
      "[11:55:02] WARNING: src/objective/regression_obj.cu:152: reg:linear is now deprecated in favor of reg:squarederror.\n"
     ]
    },
    {
     "name": "stderr",
     "output_type": "stream",
     "text": [
      "C:\\Users\\K T KUMAR\\Anaconda33\\lib\\site-packages\\xgboost\\core.py:587: FutureWarning: Series.base is deprecated and will be removed in a future version\n",
      "  if getattr(data, 'base', None) is not None and \\\n"
     ]
    },
    {
     "name": "stdout",
     "output_type": "stream",
     "text": [
      "[CV]  subsample=0.5, n_estimators=400, min_child_parameters=3, max_depth=20, learning_rate=0.7, total=   0.6s\n",
      "[CV] subsample=0.5, n_estimators=400, min_child_parameters=3, max_depth=20, learning_rate=0.7 \n",
      "[11:55:03] WARNING: src/objective/regression_obj.cu:152: reg:linear is now deprecated in favor of reg:squarederror.\n"
     ]
    },
    {
     "name": "stderr",
     "output_type": "stream",
     "text": [
      "C:\\Users\\K T KUMAR\\Anaconda33\\lib\\site-packages\\xgboost\\core.py:587: FutureWarning: Series.base is deprecated and will be removed in a future version\n",
      "  if getattr(data, 'base', None) is not None and \\\n"
     ]
    },
    {
     "name": "stdout",
     "output_type": "stream",
     "text": [
      "[CV]  subsample=0.5, n_estimators=400, min_child_parameters=3, max_depth=20, learning_rate=0.7, total=   0.6s\n",
      "[CV] subsample=0.8, n_estimators=700, min_child_parameters=3, max_depth=10, learning_rate=0.04 \n",
      "[11:55:04] WARNING: src/objective/regression_obj.cu:152: reg:linear is now deprecated in favor of reg:squarederror.\n"
     ]
    },
    {
     "name": "stderr",
     "output_type": "stream",
     "text": [
      "C:\\Users\\K T KUMAR\\Anaconda33\\lib\\site-packages\\xgboost\\core.py:587: FutureWarning: Series.base is deprecated and will be removed in a future version\n",
      "  if getattr(data, 'base', None) is not None and \\\n"
     ]
    },
    {
     "name": "stdout",
     "output_type": "stream",
     "text": [
      "[CV]  subsample=0.8, n_estimators=700, min_child_parameters=3, max_depth=10, learning_rate=0.04, total=   2.4s\n",
      "[CV] subsample=0.8, n_estimators=700, min_child_parameters=3, max_depth=10, learning_rate=0.04 \n",
      "[11:55:06] WARNING: src/objective/regression_obj.cu:152: reg:linear is now deprecated in favor of reg:squarederror.\n"
     ]
    },
    {
     "name": "stderr",
     "output_type": "stream",
     "text": [
      "C:\\Users\\K T KUMAR\\Anaconda33\\lib\\site-packages\\xgboost\\core.py:587: FutureWarning: Series.base is deprecated and will be removed in a future version\n",
      "  if getattr(data, 'base', None) is not None and \\\n"
     ]
    },
    {
     "name": "stdout",
     "output_type": "stream",
     "text": [
      "[CV]  subsample=0.8, n_estimators=700, min_child_parameters=3, max_depth=10, learning_rate=0.04, total=   2.4s\n",
      "[CV] subsample=0.8, n_estimators=700, min_child_parameters=3, max_depth=10, learning_rate=0.04 \n",
      "[11:55:08] WARNING: src/objective/regression_obj.cu:152: reg:linear is now deprecated in favor of reg:squarederror.\n"
     ]
    },
    {
     "name": "stderr",
     "output_type": "stream",
     "text": [
      "C:\\Users\\K T KUMAR\\Anaconda33\\lib\\site-packages\\xgboost\\core.py:587: FutureWarning: Series.base is deprecated and will be removed in a future version\n",
      "  if getattr(data, 'base', None) is not None and \\\n"
     ]
    },
    {
     "name": "stdout",
     "output_type": "stream",
     "text": [
      "[CV]  subsample=0.8, n_estimators=700, min_child_parameters=3, max_depth=10, learning_rate=0.04, total=   2.4s\n",
      "[CV] subsample=0.8, n_estimators=700, min_child_parameters=3, max_depth=10, learning_rate=0.04 \n",
      "[11:55:11] WARNING: src/objective/regression_obj.cu:152: reg:linear is now deprecated in favor of reg:squarederror.\n"
     ]
    },
    {
     "name": "stderr",
     "output_type": "stream",
     "text": [
      "C:\\Users\\K T KUMAR\\Anaconda33\\lib\\site-packages\\xgboost\\core.py:587: FutureWarning: Series.base is deprecated and will be removed in a future version\n",
      "  if getattr(data, 'base', None) is not None and \\\n"
     ]
    },
    {
     "name": "stdout",
     "output_type": "stream",
     "text": [
      "[CV]  subsample=0.8, n_estimators=700, min_child_parameters=3, max_depth=10, learning_rate=0.04, total=   2.4s\n",
      "[11:55:13] WARNING: src/objective/regression_obj.cu:152: reg:linear is now deprecated in favor of reg:squarederror.\n"
     ]
    },
    {
     "name": "stderr",
     "output_type": "stream",
     "text": [
      "[Parallel(n_jobs=1)]: Done 400 out of 400 | elapsed:  7.0min finished\n",
      "C:\\Users\\K T KUMAR\\Anaconda33\\lib\\site-packages\\xgboost\\core.py:587: FutureWarning: Series.base is deprecated and will be removed in a future version\n",
      "  if getattr(data, 'base', None) is not None and \\\n"
     ]
    },
    {
     "data": {
      "text/plain": [
       "RandomizedSearchCV(cv=4, error_score='raise-deprecating',\n",
       "                   estimator=XGBRegressor(base_score=0.5, booster='gbtree',\n",
       "                                          colsample_bylevel=1,\n",
       "                                          colsample_bynode=1,\n",
       "                                          colsample_bytree=1, gamma=0,\n",
       "                                          importance_type='gain',\n",
       "                                          learning_rate=0.1, max_delta_step=0,\n",
       "                                          max_depth=3, min_child_weight=1,\n",
       "                                          missing=None, n_estimators=100,\n",
       "                                          n_jobs=1, nthread=None,\n",
       "                                          objective='reg:linear',\n",
       "                                          random_st...\n",
       "                   param_distributions={'learning_rate': ['0.04', '0.2', '0.3',\n",
       "                                                          '0.5', '0.6', '0.7'],\n",
       "                                        'max_depth': [5, 10, 15, 20, 25, 30],\n",
       "                                        'min_child_parameters': [3, 4, 5, 6, 7],\n",
       "                                        'n_estimators': [100, 200, 300, 400,\n",
       "                                                         500, 600, 700, 800,\n",
       "                                                         900, 1000, 1100,\n",
       "                                                         1200],\n",
       "                                        'subsample': [0.8, 0.7, 0.5]},\n",
       "                   pre_dispatch='2*n_jobs', random_state=42, refit=True,\n",
       "                   return_train_score=False, scoring='neg_mean_squared_error',\n",
       "                   verbose=2)"
      ]
     },
     "execution_count": 37,
     "metadata": {},
     "output_type": "execute_result"
    }
   ],
   "source": [
    "random_regressor.fit(X_train,y_train)"
   ]
  },
  {
   "cell_type": "code",
   "execution_count": 38,
   "metadata": {},
   "outputs": [
    {
     "data": {
      "text/plain": [
       "{'subsample': 0.5,\n",
       " 'n_estimators': 200,\n",
       " 'min_child_parameters': 7,\n",
       " 'max_depth': 30,\n",
       " 'learning_rate': '0.04'}"
      ]
     },
     "execution_count": 38,
     "metadata": {},
     "output_type": "execute_result"
    }
   ],
   "source": [
    "random_regressor.best_params_"
   ]
  },
  {
   "cell_type": "code",
   "execution_count": 39,
   "metadata": {},
   "outputs": [
    {
     "data": {
      "text/plain": [
       "-3216.9539432446686"
      ]
     },
     "execution_count": 39,
     "metadata": {},
     "output_type": "execute_result"
    }
   ],
   "source": [
    "random_regressor.best_score_"
   ]
  },
  {
   "cell_type": "code",
   "execution_count": 40,
   "metadata": {},
   "outputs": [
    {
     "name": "stdout",
     "output_type": "stream",
     "text": [
      "XGBoost regression score:-3216.9539432446686\n"
     ]
    }
   ],
   "source": [
    "print('XGBoost regression score:{}'.format(random_regressor.best_score_))"
   ]
  },
  {
   "cell_type": "markdown",
   "metadata": {},
   "source": [
    "Interpretation:\n",
    "\n",
    "#Compare to the previous models the Random Forest score is much closer to zero indicating less error: \n",
    "#XGBoost regression score:-3216.9539432446686\n",
    "#Random Forest regression score:-2794.5137821400776 \n",
    "#Decision Tree regression score:-3468.135532063188\n",
    "#Lasso regression score:-3493.719817078534 \n",
    "#Ridge regression score:-3501.974141971 \n",
    "#Linear regression score:-3576.1976560478724"
   ]
  },
  {
   "cell_type": "markdown",
   "metadata": {},
   "source": [
    "# Model evaluation after Hyperparameter tuning"
   ]
  },
  {
   "cell_type": "code",
   "execution_count": 47,
   "metadata": {},
   "outputs": [
    {
     "data": {
      "text/plain": [
       "<matplotlib.axes._subplots.AxesSubplot at 0x22ace90fb00>"
      ]
     },
     "execution_count": 47,
     "metadata": {},
     "output_type": "execute_result"
    },
    {
     "data": {
      "image/png": "[encoded data removed]",
      "text/plain": [
       "<Figure size 432x288 with 1 Axes>"
      ]
     },
     "metadata": {
      "needs_background": "light"
     },
     "output_type": "display_data"
    }
   ],
   "source": [
    "predict=random_regressor.predict(X_test)\n",
    "sns.distplot(y_test-predict)"
   ]
  },
  {
   "cell_type": "markdown",
   "metadata": {},
   "source": [
    "# Regression Evaluation Metrics"
   ]
  },
  {
   "cell_type": "code",
   "execution_count": 48,
   "metadata": {},
   "outputs": [],
   "source": [
    "from sklearn import metrics"
   ]
  },
  {
   "cell_type": "code",
   "execution_count": 49,
   "metadata": {},
   "outputs": [
    {
     "name": "stdout",
     "output_type": "stream",
     "text": [
      "MAE: 40.07999466727762\n",
      "MSE: 3190.5763971597266\n",
      "RMSE: 56.48518741369038\n"
     ]
    }
   ],
   "source": [
    "print('MAE:', metrics.mean_absolute_error(y_test, predict))\n",
    "print('MSE:', metrics.mean_squared_error(y_test, predict))\n",
    "print('RMSE:', np.sqrt(metrics.mean_squared_error(y_test, predict)))"
   ]
  },
  {
   "cell_type": "code",
   "execution_count": null,
   "metadata": {},
   "outputs": [],
   "source": [
    "#Comparing the error of XGBoost and RandomForest\n",
    "\n",
    "\n",
    "#XGBoost:\n",
    "#MAE: 40.07999466727762\n",
    "#MSE: 3190.5763971597266\n",
    "#RMSE: 56.48518741369038\n",
    "    \n",
    "#RandomForest\n",
    "#MAE: 40.31671308602534\n",
    "#MSE: 3207.122697719825\n",
    "#RMSE: 56.63146384934637"
   ]
  },
  {
   "cell_type": "markdown",
   "metadata": {},
   "source": [
    "# Save the model"
   ]
  },
  {
   "cell_type": "code",
   "execution_count": 45,
   "metadata": {},
   "outputs": [],
   "source": [
    "import pickle "
   ]
  },
  {
   "cell_type": "code",
   "execution_count": 46,
   "metadata": {},
   "outputs": [],
   "source": [
    "file=open('xgboost_regressor.pkl','wb')\n",
    "pickle.dump(random_regressor,file)"
   ]
  },
  {
   "cell_type": "code",
   "execution_count": null,
   "metadata": {},
   "outputs": [],
   "source": []
  },
  {
   "cell_type": "code",
   "execution_count": null,
   "metadata": {},
   "outputs": [],
   "source": []
  }
 ],
 "metadata": {
  "kernelspec": {
   "display_name": "Python 3",
   "language": "python",
   "name": "python3"
  },
  "language_info": {
   "codemirror_mode": {
    "name": "ipython",
    "version": 3
   },
   "file_extension": ".py",
   "mimetype": "text/x-python",
   "name": "python",
   "nbconvert_exporter": "python",
   "pygments_lexer": "ipython3",
   "version": "3.7.3"
  }
 },
 "nbformat": 4,
 "nbformat_minor": 2
}
